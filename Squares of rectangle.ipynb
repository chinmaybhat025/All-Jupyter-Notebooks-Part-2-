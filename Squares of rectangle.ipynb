{
 "cells": [
  {
   "cell_type": "code",
   "execution_count": 4,
   "metadata": {},
   "outputs": [
    {
     "name": "stdout",
     "output_type": "stream",
     "text": [
      "15\n"
     ]
    }
   ],
   "source": [
    "def __gcd(a, b): \n",
    "    # Everything divides 0 \n",
    "    if (a == 0 or b == 0): \n",
    "        return 0; \n",
    "    # base case \n",
    "    if (a == b): \n",
    "        return a; \n",
    "    if (a > b): \n",
    "        return __gcd(a - b, b); \n",
    "    return __gcd(a, b - a); \n",
    "\n",
    " \n",
    "def NumberOfSquares(x, y): \n",
    "    s = __gcd(x, y)\n",
    "    ans = (x * y) / (s * s)\n",
    "    return int(ans); \n",
    "\n",
    "# Driver Code \n",
    "m = 5; \n",
    "n = 3; \n",
    "\n",
    "# Call the function \n",
    "# NumberOfSquares \n",
    "print(NumberOfSquares(m, n)); "
   ]
  },
  {
   "cell_type": "code",
   "execution_count": null,
   "metadata": {},
   "outputs": [],
   "source": []
  }
 ],
 "metadata": {
  "kernelspec": {
   "display_name": "Python 3",
   "language": "python",
   "name": "python3"
  },
  "language_info": {
   "codemirror_mode": {
    "name": "ipython",
    "version": 3
   },
   "file_extension": ".py",
   "mimetype": "text/x-python",
   "name": "python",
   "nbconvert_exporter": "python",
   "pygments_lexer": "ipython3",
   "version": "3.7.4"
  }
 },
 "nbformat": 4,
 "nbformat_minor": 2
}
