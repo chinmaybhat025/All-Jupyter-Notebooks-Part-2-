{
 "cells": [
  {
   "cell_type": "markdown",
   "metadata": {},
   "source": [
    "## Q.1)Write a Python Program to create a Loptionst using custom key-value pair of a dictionary.\n",
    "\n",
    "Input: test_loptionst = [{â€˜quantâ€™ : 1, â€˜optionsâ€™ : 4, â€˜tradeâ€™ : 6},\n",
    "\n",
    "             {â€˜quantâ€™ : 10, â€˜optionsâ€™ : 3, â€˜tradeâ€™ : 7},\n",
    "\n",
    "             {â€˜quantâ€™ : 9, â€˜optionsâ€™ : 4, â€˜tradeâ€™ : 2}], key, value = â€˜quantâ€™, â€˜tradeâ€™\n",
    "             \n",
    " \n",
    "Output : {1: 6, 10: 7, 9: 2}"
   ]
  },
  {
   "cell_type": "code",
   "execution_count": 1,
   "metadata": {},
   "outputs": [
    {
     "name": "stdout",
     "output_type": "stream",
     "text": [
      "{1: 6, 10: 7, 9: 2}\n"
     ]
    }
   ],
   "source": [
    "## Input given as per the question\n",
    "test_loptionst = [{'â€˜quantâ€™' : 1, 'â€˜optionsâ€™' : 4, 'â€˜tradeâ€™' : 6},\n",
    "\n",
    "             {'â€˜quantâ€™' : 10, 'â€˜optionsâ€™' : 3, 'â€˜tradeâ€™' : 7},\n",
    "\n",
    "             {'â€˜quantâ€™' : 9, 'â€˜optionsâ€™' : 4, 'â€˜tradeâ€™' : 2}]\n",
    "\n",
    "## to get the values for below keys in each dictionary inside the list input and print output as the custom key value pair.\n",
    "\n",
    "key, value = 'â€˜quantâ€™', 'â€˜tradeâ€™'\n",
    "\n",
    "## Initializing the dictionary for getting the desired output\n",
    "output=dict()\n",
    "\n",
    "## Actual logic\n",
    "for sample in test_loptionst:\n",
    "    output[sample[key]]=sample[value]\n",
    "\n",
    "## Desired Output\n",
    "print(output)"
   ]
  },
  {
   "cell_type": "markdown",
   "metadata": {},
   "source": [
    "## Q.2)\n",
    "Write a python program to find number of times every day occurs in a Year\n",
    "\n",
    "Input: 2019\n",
    "Output: Monday-52\n",
    "        Tuesday-53\n",
    "        Wednesday-52\n",
    "        Thrusday-52\n",
    "        Friday-52\n",
    "        Saturday-52\n",
    "        Sunday-52\n",
    "\n",
    "Input: 2024\n",
    "Output: Monday-53\n",
    "        Tuesday-53\n",
    "        Wednesday-52\n",
    "        Thrusday-52\n",
    "        Friday-52\n",
    "        Saturday-52\n",
    "        Sunday-52"
   ]
  },
  {
   "cell_type": "code",
   "execution_count": 2,
   "metadata": {},
   "outputs": [],
   "source": [
    "import datetime\n",
    "import calendar\n",
    "\n",
    "def days_occur_per_year(year):\n",
    "    ## creating list for days\n",
    "    days=[\"Monday\",\"Tuesday\",\"Wednesday\",\"Thursday\",\"Friday\",\"Saturday\",\"Sunday\"]\n",
    "    \n",
    "    ## Creating a list for all 52 days as their are 52 weeks in a year so each day will occur at least 52 times.\n",
    "    lst=[52 for i in range(7)]\n",
    "    \n",
    "    loc=-1\n",
    "    day=datetime.datetime(year,month=1,day=1).strftime(\"%A\")\n",
    "    for i in range(7):\n",
    "        if day==days[i]:\n",
    "            loc=i\n",
    "        \n",
    "    if calendar.isleap(year):\n",
    "        lst[loc]+=1\n",
    "        lst[(loc+1)%7]+=1\n",
    "    else:\n",
    "        lst[loc]+=1\n",
    "            \n",
    "        \n",
    "    for i in range(7):\n",
    "        print(days[i],lst[i])"
   ]
  },
  {
   "cell_type": "code",
   "execution_count": 3,
   "metadata": {},
   "outputs": [
    {
     "name": "stdout",
     "output_type": "stream",
     "text": [
      "Monday 52\n",
      "Tuesday 53\n",
      "Wednesday 52\n",
      "Thursday 52\n",
      "Friday 52\n",
      "Saturday 52\n",
      "Sunday 52\n"
     ]
    }
   ],
   "source": [
    "year=2019\n",
    "days_occur_per_year(year)"
   ]
  },
  {
   "cell_type": "code",
   "execution_count": 4,
   "metadata": {},
   "outputs": [
    {
     "name": "stdout",
     "output_type": "stream",
     "text": [
      "Monday 53\n",
      "Tuesday 53\n",
      "Wednesday 52\n",
      "Thursday 52\n",
      "Friday 52\n",
      "Saturday 52\n",
      "Sunday 52\n"
     ]
    }
   ],
   "source": [
    "year=2024\n",
    "days_occur_per_year(year)"
   ]
  },
  {
   "cell_type": "markdown",
   "metadata": {},
   "source": [
    "## Q.3)"
   ]
  },
  {
   "cell_type": "markdown",
   "metadata": {},
   "source": [
    "## Step 1: Process each text file to csv file."
   ]
  },
  {
   "cell_type": "markdown",
   "metadata": {},
   "source": [
    "## Importing the required libraries."
   ]
  },
  {
   "cell_type": "code",
   "execution_count": 5,
   "metadata": {},
   "outputs": [],
   "source": [
    "import pandas as pd\n",
    "import numpy as np\n",
    "import matplotlib.pyplot as plt\n",
    "import seaborn as sns\n",
    "%matplotlib inline"
   ]
  },
  {
   "cell_type": "code",
   "execution_count": 6,
   "metadata": {},
   "outputs": [],
   "source": [
    "df1=pd.read_csv('C:/Users/Hp/Downloads/Stage 2/05-Aug-2014 (1).txt')"
   ]
  },
  {
   "cell_type": "code",
   "execution_count": 7,
   "metadata": {},
   "outputs": [
    {
     "data": {
      "text/html": [
       "<div>\n",
       "<style scoped>\n",
       "    .dataframe tbody tr th:only-of-type {\n",
       "        vertical-align: middle;\n",
       "    }\n",
       "\n",
       "    .dataframe tbody tr th {\n",
       "        vertical-align: top;\n",
       "    }\n",
       "\n",
       "    .dataframe thead th {\n",
       "        text-align: right;\n",
       "    }\n",
       "</style>\n",
       "<table border=\"1\" class=\"dataframe\">\n",
       "  <thead>\n",
       "    <tr style=\"text-align: right;\">\n",
       "      <th></th>\n",
       "      <th>Scheme Code;Scheme Name;ISIN Div Payout/ISIN Growth;ISIN Div Reinvestment;Net Asset Value;Repurchase Price;Sale Price;Date</th>\n",
       "    </tr>\n",
       "  </thead>\n",
       "  <tbody>\n",
       "    <tr>\n",
       "      <th>0</th>\n",
       "      <td>Open Ended Schemes ( Income )</td>\n",
       "    </tr>\n",
       "    <tr>\n",
       "      <th>1</th>\n",
       "      <td>Aditya Birla Sun Life Mutual Fund</td>\n",
       "    </tr>\n",
       "    <tr>\n",
       "      <th>2</th>\n",
       "      <td>125785;Birla Sun Life Fixed Term Plan - Series...</td>\n",
       "    </tr>\n",
       "    <tr>\n",
       "      <th>3</th>\n",
       "      <td>125783;Birla Sun Life Fixed Term Plan - Series...</td>\n",
       "    </tr>\n",
       "    <tr>\n",
       "      <th>4</th>\n",
       "      <td>125788;Birla Sun Life Fixed Term Plan - Series...</td>\n",
       "    </tr>\n",
       "  </tbody>\n",
       "</table>\n",
       "</div>"
      ],
      "text/plain": [
       "  Scheme Code;Scheme Name;ISIN Div Payout/ISIN Growth;ISIN Div Reinvestment;Net Asset Value;Repurchase Price;Sale Price;Date\n",
       "0                      Open Ended Schemes ( Income )                                                                        \n",
       "1                  Aditya Birla Sun Life Mutual Fund                                                                        \n",
       "2  125785;Birla Sun Life Fixed Term Plan - Series...                                                                        \n",
       "3  125783;Birla Sun Life Fixed Term Plan - Series...                                                                        \n",
       "4  125788;Birla Sun Life Fixed Term Plan - Series...                                                                        "
      ]
     },
     "execution_count": 7,
     "metadata": {},
     "output_type": "execute_result"
    }
   ],
   "source": [
    "df1.head()"
   ]
  },
  {
   "cell_type": "code",
   "execution_count": 8,
   "metadata": {},
   "outputs": [],
   "source": [
    "# storing this dataframe in a csv file\n",
    "df1.to_csv('05thAug2014.csv', index = None)"
   ]
  },
  {
   "cell_type": "code",
   "execution_count": 9,
   "metadata": {},
   "outputs": [],
   "source": [
    "df2=pd.read_csv('C:/Users/Hp/Downloads/Stage 2/05-Feb-2021 (1).txt')"
   ]
  },
  {
   "cell_type": "code",
   "execution_count": 10,
   "metadata": {},
   "outputs": [],
   "source": [
    "# storing this dataframe in a csv file\n",
    "df2.to_csv('05thFeb2021.csv', index = None)"
   ]
  },
  {
   "cell_type": "code",
   "execution_count": 11,
   "metadata": {},
   "outputs": [
    {
     "name": "stderr",
     "output_type": "stream",
     "text": [
      "b'Skipping line 1042: expected 1 fields, saw 2\\n'\n"
     ]
    }
   ],
   "source": [
    "df3=pd.read_csv('C:/Users/Hp/Downloads/Stage 2/14-Jul-2008 (1).txt',error_bad_lines=False)"
   ]
  },
  {
   "cell_type": "code",
   "execution_count": 12,
   "metadata": {},
   "outputs": [],
   "source": [
    "# storing this dataframe in a csv file\n",
    "df3.to_csv('14thJuly2008.csv', index = None)"
   ]
  },
  {
   "cell_type": "code",
   "execution_count": 13,
   "metadata": {},
   "outputs": [
    {
     "name": "stderr",
     "output_type": "stream",
     "text": [
      "b'Skipping line 1035: expected 1 fields, saw 2\\n'\n"
     ]
    }
   ],
   "source": [
    "df4=pd.read_csv('C:/Users/Hp/Downloads/Stage 2/14-Jun-2012 (1).txt',error_bad_lines=False)"
   ]
  },
  {
   "cell_type": "code",
   "execution_count": 14,
   "metadata": {},
   "outputs": [],
   "source": [
    "# storing this dataframe in a csv file\n",
    "df4.to_csv('14thJune2012.csv', index = None)"
   ]
  },
  {
   "cell_type": "code",
   "execution_count": 15,
   "metadata": {},
   "outputs": [],
   "source": [
    "df5=pd.read_csv('C:/Users/Hp/Downloads/Stage 2/25-Jan-2019 (1).txt')"
   ]
  },
  {
   "cell_type": "code",
   "execution_count": 16,
   "metadata": {},
   "outputs": [],
   "source": [
    "# storing this dataframe in a csv file\n",
    "df5.to_csv('25thJan2019.csv', index = None)"
   ]
  },
  {
   "cell_type": "code",
   "execution_count": 17,
   "metadata": {},
   "outputs": [],
   "source": [
    "df6=pd.read_csv('C:/Users/Hp/Downloads/Stage 2/25-Nov-2016 (1).txt')"
   ]
  },
  {
   "cell_type": "code",
   "execution_count": 18,
   "metadata": {},
   "outputs": [],
   "source": [
    "# storing this dataframe in a csv file\n",
    "df6.to_csv('25thNov2016.csv', index = None)"
   ]
  },
  {
   "cell_type": "markdown",
   "metadata": {},
   "source": [
    "## Step 1 Completed"
   ]
  },
  {
   "cell_type": "markdown",
   "metadata": {},
   "source": [
    "## Step 2: Merge all the data into a single csv with scheme code wise nav (Net Asset Value)   values date wise. So, your csv will have the unique scheme codes on the index and   the columns will contain the date values and subsequent nav values for that particular date for the constituent scheme code."
   ]
  },
  {
   "cell_type": "code",
   "execution_count": null,
   "metadata": {},
   "outputs": [],
   "source": [
    "import os, glob\n",
    "import pandas as pd\n",
    "\n",
    "path = r\"C:/Users/Hp/CSV_Quantsapp\"\n",
    "\n",
    "all_files = glob.glob(os.path.join(path))\n",
    "df_from_each_file = (pd.read_csv(f, sep=',',engine='python') for f in all_files)\n",
    "df_merged = pd.concat(df_from_each_file,ignore_index=True)\n",
    "df_merged.to_csv(\"Finalfiles.csv\")"
   ]
  },
  {
   "cell_type": "code",
   "execution_count": null,
   "metadata": {},
   "outputs": [],
   "source": []
  }
 ],
 "metadata": {
  "kernelspec": {
   "display_name": "Python 3",
   "language": "python",
   "name": "python3"
  },
  "language_info": {
   "codemirror_mode": {
    "name": "ipython",
    "version": 3
   },
   "file_extension": ".py",
   "mimetype": "text/x-python",
   "name": "python",
   "nbconvert_exporter": "python",
   "pygments_lexer": "ipython3",
   "version": "3.7.4"
  }
 },
 "nbformat": 4,
 "nbformat_minor": 2
}
