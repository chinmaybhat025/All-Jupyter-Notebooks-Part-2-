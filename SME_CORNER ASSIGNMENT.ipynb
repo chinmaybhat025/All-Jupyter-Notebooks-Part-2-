{
 "cells": [
  {
   "cell_type": "code",
   "execution_count": 10,
   "metadata": {},
   "outputs": [
    {
     "ename": "TypeError",
     "evalue": "only integer scalar arrays can be converted to a scalar index",
     "output_type": "error",
     "traceback": [
      "\u001b[1;31m---------------------------------------------------------------------------\u001b[0m",
      "\u001b[1;31mTypeError\u001b[0m                                 Traceback (most recent call last)",
      "\u001b[1;32m<ipython-input-10-a9ad92606ac7>\u001b[0m in \u001b[0;36m<module>\u001b[1;34m\u001b[0m\n\u001b[0;32m     12\u001b[0m \u001b[1;31m##  Now we have to calculate the Mean Absolute deviation.\u001b[0m\u001b[1;33m\u001b[0m\u001b[1;33m\u001b[0m\u001b[1;33m\u001b[0m\u001b[0m\n\u001b[0;32m     13\u001b[0m \u001b[0mSum1\u001b[0m\u001b[1;33m=\u001b[0m\u001b[1;36m0\u001b[0m\u001b[1;33m\u001b[0m\u001b[1;33m\u001b[0m\u001b[0m\n\u001b[1;32m---> 14\u001b[1;33m \u001b[1;32mfor\u001b[0m \u001b[0mi\u001b[0m \u001b[1;32min\u001b[0m \u001b[0mrange\u001b[0m\u001b[1;33m(\u001b[0m\u001b[0md\u001b[0m\u001b[1;33m)\u001b[0m\u001b[1;33m:\u001b[0m\u001b[1;33m\u001b[0m\u001b[1;33m\u001b[0m\u001b[0m\n\u001b[0m\u001b[0;32m     15\u001b[0m     \u001b[0mNumerator\u001b[0m\u001b[1;33m=\u001b[0m\u001b[0mnp\u001b[0m\u001b[1;33m.\u001b[0m\u001b[0mabs\u001b[0m\u001b[1;33m(\u001b[0m\u001b[0md\u001b[0m\u001b[1;33m[\u001b[0m\u001b[0mi\u001b[0m\u001b[1;33m]\u001b[0m\u001b[1;33m-\u001b[0m\u001b[0mMean\u001b[0m\u001b[1;33m)\u001b[0m\u001b[1;33m\u001b[0m\u001b[1;33m\u001b[0m\u001b[0m\n\u001b[0;32m     16\u001b[0m     \u001b[0mSum1\u001b[0m\u001b[1;33m=\u001b[0m\u001b[0mSum1\u001b[0m\u001b[1;33m+\u001b[0m\u001b[0mNumerator\u001b[0m\u001b[1;33m\u001b[0m\u001b[1;33m\u001b[0m\u001b[0m\n",
      "\u001b[1;31mTypeError\u001b[0m: only integer scalar arrays can be converted to a scalar index"
     ]
    }
   ],
   "source": [
    "##Write a program to calculate Mean Absolute Deviation.\n",
    "## importing the required library.\n",
    "import numpy as np \n",
    "## Considering the data and stored it in the list d.\n",
    "d=[1,2,3,4,5,6,7,8,9,10] ## Mean=55 \n",
    "##d=np.array(d)\n",
    "## Mean calculation\n",
    "##Sum=0\n",
    "##For l in d:\n",
    "##    Sum=Sum+l\n",
    "Mean=55\n",
    "##  Now we have to calculate the Mean Absolute deviation.\n",
    "Sum1=0\n",
    "for i in range(d):\n",
    "    Numerator=np.abs(d[i]-Mean)\n",
    "    Sum1=Sum1+Numerator\n",
    "## Final Mean Absolute Deviation\n",
    "print(\"Mean Absolute Deviation:\",Sum1/len(d))"
   ]
  },
  {
   "cell_type": "code",
   "execution_count": 1,
   "metadata": {},
   "outputs": [
    {
     "name": "stdout",
     "output_type": "stream",
     "text": [
      "33\n"
     ]
    }
   ],
   "source": [
    "tuple = {} \n",
    "tuple[(1,2,4)] = 8\n",
    "tuple[(4,2,1)] = 10\n",
    "tuple[(1,2)] = 12\n",
    "_sum = 0\n",
    "for k in tuple: \n",
    "    \t_sum += tuple[k] \n",
    "print(len(tuple) + _sum) \n"
   ]
  },
  {
   "cell_type": "code",
   "execution_count": 17,
   "metadata": {},
   "outputs": [
    {
     "name": "stdout",
     "output_type": "stream",
     "text": [
      "     0\n",
      "0  1.0\n"
     ]
    }
   ],
   "source": [
    "import pandas as pd\n",
    "d=pd.DataFrame(d)\n",
    "print(d.corr())"
   ]
  },
  {
   "cell_type": "code",
   "execution_count": null,
   "metadata": {},
   "outputs": [],
   "source": []
  }
 ],
 "metadata": {
  "kernelspec": {
   "display_name": "Python 3",
   "language": "python",
   "name": "python3"
  },
  "language_info": {
   "codemirror_mode": {
    "name": "ipython",
    "version": 3
   },
   "file_extension": ".py",
   "mimetype": "text/x-python",
   "name": "python",
   "nbconvert_exporter": "python",
   "pygments_lexer": "ipython3",
   "version": "3.7.4"
  }
 },
 "nbformat": 4,
 "nbformat_minor": 2
}
