{
 "cells": [
  {
   "cell_type": "code",
   "execution_count": 1,
   "metadata": {},
   "outputs": [
    {
     "name": "stdout",
     "output_type": "stream",
     "text": [
      "Collecting pyspark\n",
      "  Downloading https://files.pythonhosted.org/packages/8e/b0/bf9020b56492281b9c9d8aae8f44ff51e1bc91b3ef5a884385cb4e389a40/pyspark-3.0.0.tar.gz (204.7MB)\n",
      "Collecting py4j==0.10.9 (from pyspark)\n",
      "  Downloading https://files.pythonhosted.org/packages/9e/b6/6a4fb90cd235dc8e265a6a2067f2a2c99f0d91787f06aca4bcf7c23f3f80/py4j-0.10.9-py2.py3-none-any.whl (198kB)\n",
      "Building wheels for collected packages: pyspark\n",
      "  Building wheel for pyspark (setup.py): started\n",
      "  Building wheel for pyspark (setup.py): finished with status 'done'\n",
      "  Created wheel for pyspark: filename=pyspark-3.0.0-py2.py3-none-any.whl size=205044186 sha256=18024c173da141d93880c9ed8f3acbab5afc98063e570847e17de69f9da70e22\n",
      "  Stored in directory: C:\\Users\\Hp\\AppData\\Local\\pip\\Cache\\wheels\\57\\27\\4d\\ddacf7143f8d5b76c45c61ee2e43d9f8492fc5a8e78ebd7d37\n",
      "Successfully built pyspark\n",
      "Installing collected packages: py4j, pyspark\n",
      "Successfully installed py4j-0.10.9 pyspark-3.0.0\n",
      "Note: you may need to restart the kernel to use updated packages.\n"
     ]
    }
   ],
   "source": [
    "pip install pyspark"
   ]
  },
  {
   "cell_type": "code",
   "execution_count": 2,
   "metadata": {},
   "outputs": [],
   "source": [
    "import pyspark"
   ]
  },
  {
   "cell_type": "code",
   "execution_count": 3,
   "metadata": {},
   "outputs": [],
   "source": [
    "from pyspark import SparkContext"
   ]
  },
  {
   "cell_type": "code",
   "execution_count": 5,
   "metadata": {},
   "outputs": [
    {
     "ename": "Exception",
     "evalue": "Java gateway process exited before sending its port number",
     "output_type": "error",
     "traceback": [
      "\u001b[1;31m---------------------------------------------------------------------------\u001b[0m",
      "\u001b[1;31mException\u001b[0m                                 Traceback (most recent call last)",
      "\u001b[1;32m<ipython-input-5-62b47a83cb8a>\u001b[0m in \u001b[0;36m<module>\u001b[1;34m\u001b[0m\n\u001b[1;32m----> 1\u001b[1;33m \u001b[0msc\u001b[0m\u001b[1;33m=\u001b[0m\u001b[0mSparkContext\u001b[0m\u001b[1;33m(\u001b[0m\u001b[0mmaster\u001b[0m\u001b[1;33m=\u001b[0m\u001b[1;34m'local[2]'\u001b[0m\u001b[1;33m)\u001b[0m\u001b[1;33m\u001b[0m\u001b[1;33m\u001b[0m\u001b[0m\n\u001b[0m",
      "\u001b[1;32m~\\Anaconda3\\lib\\site-packages\\pyspark\\context.py\u001b[0m in \u001b[0;36m__init__\u001b[1;34m(self, master, appName, sparkHome, pyFiles, environment, batchSize, serializer, conf, gateway, jsc, profiler_cls)\u001b[0m\n\u001b[0;32m    126\u001b[0m                 \" is not allowed as it is a security risk.\")\n\u001b[0;32m    127\u001b[0m \u001b[1;33m\u001b[0m\u001b[0m\n\u001b[1;32m--> 128\u001b[1;33m         \u001b[0mSparkContext\u001b[0m\u001b[1;33m.\u001b[0m\u001b[0m_ensure_initialized\u001b[0m\u001b[1;33m(\u001b[0m\u001b[0mself\u001b[0m\u001b[1;33m,\u001b[0m \u001b[0mgateway\u001b[0m\u001b[1;33m=\u001b[0m\u001b[0mgateway\u001b[0m\u001b[1;33m,\u001b[0m \u001b[0mconf\u001b[0m\u001b[1;33m=\u001b[0m\u001b[0mconf\u001b[0m\u001b[1;33m)\u001b[0m\u001b[1;33m\u001b[0m\u001b[1;33m\u001b[0m\u001b[0m\n\u001b[0m\u001b[0;32m    129\u001b[0m         \u001b[1;32mtry\u001b[0m\u001b[1;33m:\u001b[0m\u001b[1;33m\u001b[0m\u001b[1;33m\u001b[0m\u001b[0m\n\u001b[0;32m    130\u001b[0m             self._do_init(master, appName, sparkHome, pyFiles, environment, batchSize, serializer,\n",
      "\u001b[1;32m~\\Anaconda3\\lib\\site-packages\\pyspark\\context.py\u001b[0m in \u001b[0;36m_ensure_initialized\u001b[1;34m(cls, instance, gateway, conf)\u001b[0m\n\u001b[0;32m    318\u001b[0m         \u001b[1;32mwith\u001b[0m \u001b[0mSparkContext\u001b[0m\u001b[1;33m.\u001b[0m\u001b[0m_lock\u001b[0m\u001b[1;33m:\u001b[0m\u001b[1;33m\u001b[0m\u001b[1;33m\u001b[0m\u001b[0m\n\u001b[0;32m    319\u001b[0m             \u001b[1;32mif\u001b[0m \u001b[1;32mnot\u001b[0m \u001b[0mSparkContext\u001b[0m\u001b[1;33m.\u001b[0m\u001b[0m_gateway\u001b[0m\u001b[1;33m:\u001b[0m\u001b[1;33m\u001b[0m\u001b[1;33m\u001b[0m\u001b[0m\n\u001b[1;32m--> 320\u001b[1;33m                 \u001b[0mSparkContext\u001b[0m\u001b[1;33m.\u001b[0m\u001b[0m_gateway\u001b[0m \u001b[1;33m=\u001b[0m \u001b[0mgateway\u001b[0m \u001b[1;32mor\u001b[0m \u001b[0mlaunch_gateway\u001b[0m\u001b[1;33m(\u001b[0m\u001b[0mconf\u001b[0m\u001b[1;33m)\u001b[0m\u001b[1;33m\u001b[0m\u001b[1;33m\u001b[0m\u001b[0m\n\u001b[0m\u001b[0;32m    321\u001b[0m                 \u001b[0mSparkContext\u001b[0m\u001b[1;33m.\u001b[0m\u001b[0m_jvm\u001b[0m \u001b[1;33m=\u001b[0m \u001b[0mSparkContext\u001b[0m\u001b[1;33m.\u001b[0m\u001b[0m_gateway\u001b[0m\u001b[1;33m.\u001b[0m\u001b[0mjvm\u001b[0m\u001b[1;33m\u001b[0m\u001b[1;33m\u001b[0m\u001b[0m\n\u001b[0;32m    322\u001b[0m \u001b[1;33m\u001b[0m\u001b[0m\n",
      "\u001b[1;32m~\\Anaconda3\\lib\\site-packages\\pyspark\\java_gateway.py\u001b[0m in \u001b[0;36mlaunch_gateway\u001b[1;34m(conf, popen_kwargs)\u001b[0m\n\u001b[0;32m    103\u001b[0m \u001b[1;33m\u001b[0m\u001b[0m\n\u001b[0;32m    104\u001b[0m             \u001b[1;32mif\u001b[0m \u001b[1;32mnot\u001b[0m \u001b[0mos\u001b[0m\u001b[1;33m.\u001b[0m\u001b[0mpath\u001b[0m\u001b[1;33m.\u001b[0m\u001b[0misfile\u001b[0m\u001b[1;33m(\u001b[0m\u001b[0mconn_info_file\u001b[0m\u001b[1;33m)\u001b[0m\u001b[1;33m:\u001b[0m\u001b[1;33m\u001b[0m\u001b[1;33m\u001b[0m\u001b[0m\n\u001b[1;32m--> 105\u001b[1;33m                 \u001b[1;32mraise\u001b[0m \u001b[0mException\u001b[0m\u001b[1;33m(\u001b[0m\u001b[1;34m\"Java gateway process exited before sending its port number\"\u001b[0m\u001b[1;33m)\u001b[0m\u001b[1;33m\u001b[0m\u001b[1;33m\u001b[0m\u001b[0m\n\u001b[0m\u001b[0;32m    106\u001b[0m \u001b[1;33m\u001b[0m\u001b[0m\n\u001b[0;32m    107\u001b[0m             \u001b[1;32mwith\u001b[0m \u001b[0mopen\u001b[0m\u001b[1;33m(\u001b[0m\u001b[0mconn_info_file\u001b[0m\u001b[1;33m,\u001b[0m \u001b[1;34m\"rb\"\u001b[0m\u001b[1;33m)\u001b[0m \u001b[1;32mas\u001b[0m \u001b[0minfo\u001b[0m\u001b[1;33m:\u001b[0m\u001b[1;33m\u001b[0m\u001b[1;33m\u001b[0m\u001b[0m\n",
      "\u001b[1;31mException\u001b[0m: Java gateway process exited before sending its port number"
     ]
    }
   ],
   "source": [
    "sc=SparkContext(master='local[2]')"
   ]
  },
  {
   "cell_type": "code",
   "execution_count": 1,
   "metadata": {},
   "outputs": [],
   "source": [
    "captains={'England': 'Root', 'Australia': 'Smith', 'India': 'Virat', 'Pakistan': 'Sarfraz'}"
   ]
  },
  {
   "cell_type": "code",
   "execution_count": 2,
   "metadata": {},
   "outputs": [
    {
     "data": {
      "text/plain": [
       "dict_items([('England', 'Root'), ('Australia', 'Smith'), ('India', 'Virat'), ('Pakistan', 'Sarfraz')])"
      ]
     },
     "execution_count": 2,
     "metadata": {},
     "output_type": "execute_result"
    }
   ],
   "source": [
    "captains.items()"
   ]
  },
  {
   "cell_type": "code",
   "execution_count": 3,
   "metadata": {},
   "outputs": [],
   "source": [
    "mark1={\"Sagar\":67, \"Amrita\":88, \"Bhaskar\":91, \"Kiran\":49}\n",
    "mark2={\"Arun\":55, \"Bhaskar\":95, \"Geeta\":78}"
   ]
  },
  {
   "cell_type": "code",
   "execution_count": 4,
   "metadata": {},
   "outputs": [],
   "source": [
    "mark1.update(mark2)"
   ]
  },
  {
   "cell_type": "code",
   "execution_count": 5,
   "metadata": {},
   "outputs": [
    {
     "data": {
      "text/plain": [
       "{'Sagar': 67,\n",
       " 'Amrita': 88,\n",
       " 'Bhaskar': 95,\n",
       " 'Kiran': 49,\n",
       " 'Arun': 55,\n",
       " 'Geeta': 78}"
      ]
     },
     "execution_count": 5,
     "metadata": {},
     "output_type": "execute_result"
    }
   ],
   "source": [
    "mark1"
   ]
  },
  {
   "cell_type": "code",
   "execution_count": 6,
   "metadata": {},
   "outputs": [
    {
     "name": "stdout",
     "output_type": "stream",
     "text": [
      "True\n",
      "False\n",
      "False\n",
      "False\n"
     ]
    }
   ],
   "source": [
    "print(1 == 1 and 2 == 2)\n",
    "\n",
    "print(1 == 1 and 2 == 3)\n",
    "\n",
    "print(1 != 1 and 2 == 2)\n",
    "\n",
    "print(2 < 1 and 3 >  6)"
   ]
  },
  {
   "cell_type": "code",
   "execution_count": 7,
   "metadata": {},
   "outputs": [
    {
     "name": "stdout",
     "output_type": "stream",
     "text": [
      "True\n",
      "True\n",
      "True\n",
      "False\n"
     ]
    }
   ],
   "source": [
    "print(1 == 1 or 2 == 2)\n",
    "\n",
    "print(1 == 1 or 2 == 3)\n",
    "\n",
    "print(1 != 1 or 2 == 2)\n",
    "\n",
    "print(2 < 1 or 3 >  6)"
   ]
  },
  {
   "cell_type": "code",
   "execution_count": 8,
   "metadata": {},
   "outputs": [
    {
     "name": "stdout",
     "output_type": "stream",
     "text": [
      "False\n",
      "True\n"
     ]
    }
   ],
   "source": [
    "print(not 1 == 1)\n",
    "\n",
    "print(not 1 > 7)"
   ]
  },
  {
   "cell_type": "code",
   "execution_count": 10,
   "metadata": {},
   "outputs": [
    {
     "name": "stdout",
     "output_type": "stream",
     "text": [
      "0\n",
      "1\n",
      "5\n",
      "No items left.\n"
     ]
    }
   ],
   "source": [
    "digits = [0, 1, 5]\n",
    "for i in digits:\n",
    "    print(i)\n",
    "else:\n",
    "    print(\"No items left.\")"
   ]
  },
  {
   "cell_type": "code",
   "execution_count": 11,
   "metadata": {},
   "outputs": [
    {
     "name": "stdout",
     "output_type": "stream",
     "text": [
      "True\n",
      "False\n",
      "True\n"
     ]
    }
   ],
   "source": [
    "print(False == False or True)\n",
    "\n",
    "print(False == (False or True))\n",
    "\n",
    "print((False == False) or True)"
   ]
  },
  {
   "cell_type": "code",
   "execution_count": 12,
   "metadata": {},
   "outputs": [
    {
     "name": "stdout",
     "output_type": "stream",
     "text": [
      "mean: 23.0\n",
      "median: 22.0\n",
      "50th percentile (median): 22.0\n",
      "25th percentile: 18.0\n",
      "75th percentile: 29.0\n",
      "standard deviation: 6.342099196813483\n",
      "variance: 40.22222222222222\n"
     ]
    }
   ],
   "source": [
    "import numpy as np\n",
    "\n",
    "data = [15, 16, 18, 19, 22, 24, 29, 30, 34]\n",
    "\n",
    "print(\"mean:\", np.mean(data))\n",
    "print(\"median:\", np.median(data))\n",
    "print(\"50th percentile (median):\", np.percentile(data, 50))\n",
    "print(\"25th percentile:\", np.percentile(data, 25))\n",
    "print(\"75th percentile:\", np.percentile(data, 75))\n",
    "print(\"standard deviation:\", np.std(data))\n",
    "print(\"variance:\", np.var(data))"
   ]
  },
  {
   "cell_type": "code",
   "execution_count": 13,
   "metadata": {},
   "outputs": [
    {
     "name": "stdout",
     "output_type": "stream",
     "text": [
      "   Survived  Pclass     Sex   Age  Siblings/Spouses  Parents/Children     Fare\n",
      "0         0       3    male  22.0                 1                 0   7.2500\n",
      "1         1       1  female  38.0                 1                 0  71.2833\n",
      "2         1       3  female  26.0                 0                 0   7.9250\n",
      "3         1       1  female  35.0                 1                 0  53.1000\n",
      "4         0       3    male  35.0                 0                 0   8.0500\n"
     ]
    }
   ],
   "source": [
    "import pandas as pd\n",
    "df = pd.read_csv('https://sololearn.com/uploads/files/titanic.csv')\n",
    "print(df.head())"
   ]
  },
  {
   "cell_type": "code",
   "execution_count": 14,
   "metadata": {},
   "outputs": [
    {
     "name": "stdout",
     "output_type": "stream",
     "text": [
      "         Survived      Pclass         Age  Siblings/Spouses  Parents/Children  \\\n",
      "count  887.000000  887.000000  887.000000        887.000000        887.000000   \n",
      "mean     0.385569    2.305524   29.471443          0.525366          0.383315   \n",
      "std      0.487004    0.836662   14.121908          1.104669          0.807466   \n",
      "min      0.000000    1.000000    0.420000          0.000000          0.000000   \n",
      "25%      0.000000    2.000000   20.250000          0.000000          0.000000   \n",
      "50%      0.000000    3.000000   28.000000          0.000000          0.000000   \n",
      "75%      1.000000    3.000000   38.000000          1.000000          0.000000   \n",
      "max      1.000000    3.000000   80.000000          8.000000          6.000000   \n",
      "\n",
      "            Fare  \n",
      "count  887.00000  \n",
      "mean    32.30542  \n",
      "std     49.78204  \n",
      "min      0.00000  \n",
      "25%      7.92500  \n",
      "50%     14.45420  \n",
      "75%     31.13750  \n",
      "max    512.32920  \n"
     ]
    }
   ],
   "source": [
    "import pandas as pd\n",
    "pd.options.display.max_columns = 6\n",
    "df = pd.read_csv('https://sololearn.com/uploads/files/titanic.csv')\n",
    "print(df.describe())"
   ]
  },
  {
   "cell_type": "code",
   "execution_count": 15,
   "metadata": {},
   "outputs": [
    {
     "name": "stdout",
     "output_type": "stream",
     "text": [
      "10\n"
     ]
    }
   ],
   "source": [
    "double = lambda x: x * 2\n",
    "print(double(5))"
   ]
  },
  {
   "cell_type": "code",
   "execution_count": 16,
   "metadata": {},
   "outputs": [
    {
     "name": "stdout",
     "output_type": "stream",
     "text": [
      "0       7.2500\n",
      "1      71.2833\n",
      "2       7.9250\n",
      "3      53.1000\n",
      "4       8.0500\n",
      "        ...   \n",
      "882    13.0000\n",
      "883    30.0000\n",
      "884    23.4500\n",
      "885    30.0000\n",
      "886     7.7500\n",
      "Name: Fare, Length: 887, dtype: float64\n"
     ]
    }
   ],
   "source": [
    "import pandas as pd\n",
    "df = pd.read_csv('https://sololearn.com/uploads/files/titanic.csv')\n",
    "col = df['Fare']\n",
    "print(col)"
   ]
  },
  {
   "cell_type": "code",
   "execution_count": 17,
   "metadata": {},
   "outputs": [
    {
     "name": "stdout",
     "output_type": "stream",
     "text": [
      "    Age     Sex  Survived\n",
      "0  22.0    male         0\n",
      "1  38.0  female         1\n",
      "2  26.0  female         1\n",
      "3  35.0  female         1\n",
      "4  35.0    male         0\n"
     ]
    }
   ],
   "source": [
    "import pandas as pd\n",
    "df = pd.read_csv('https://sololearn.com/uploads/files/titanic.csv')\n",
    "small_df = df[['Age',  'Sex', 'Survived']]\n",
    "print(small_df.head())"
   ]
  },
  {
   "cell_type": "code",
   "execution_count": 18,
   "metadata": {},
   "outputs": [
    {
     "name": "stdout",
     "output_type": "stream",
     "text": [
      "   Survived  Pclass     Sex  ...  Parents/Children     Fare   male\n",
      "0         0       3    male  ...                 0   7.2500   True\n",
      "1         1       1  female  ...                 0  71.2833  False\n",
      "2         1       3  female  ...                 0   7.9250  False\n",
      "3         1       1  female  ...                 0  53.1000  False\n",
      "4         0       3    male  ...                 0   8.0500   True\n",
      "\n",
      "[5 rows x 8 columns]\n"
     ]
    }
   ],
   "source": [
    "import pandas as pd\n",
    "df = pd.read_csv('https://sololearn.com/uploads/files/titanic.csv')\n",
    "df['male'] = df['Sex'] == 'male'\n",
    "print(df.head())"
   ]
  },
  {
   "cell_type": "code",
   "execution_count": 19,
   "metadata": {},
   "outputs": [
    {
     "name": "stdout",
     "output_type": "stream",
     "text": [
      "[  7.25    71.2833   7.925   53.1      8.05     8.4583  51.8625  21.075\n",
      "  11.1333  30.0708  16.7     26.55     8.05    31.275    7.8542  16.\n",
      "  29.125   13.      18.       7.225   26.      13.       8.0292  35.5\n",
      "  21.075   31.3875   7.225  263.       7.8792   7.8958  27.7208 146.5208\n",
      "   7.75    10.5     82.1708  52.       7.2292   8.05    18.      11.2417\n",
      "   9.475   21.      41.5792   7.8792   8.05    15.5      7.75    21.6792\n",
      "  17.8     39.6875   7.8     76.7292  26.      61.9792  35.5     10.5\n",
      "   7.2292  27.75    46.9      7.2292  80.      83.475   27.9     27.7208\n",
      "  15.2458  10.5      8.1583   7.925    8.6625  10.5     46.9     73.5\n",
      "  14.4542  56.4958   7.65     7.8958   8.05    29.      12.475    9.\n",
      "   9.5      7.7875  47.1     10.5     15.85    34.375    8.05   263.\n",
      "   8.05     8.05     7.8542  61.175   20.575    7.25     8.05    34.6542\n",
      "  63.3583  23.      26.       7.8958   7.8958  77.2875   8.6542   7.925\n",
      "   7.8958   7.65     7.775    7.8958  24.15    52.      14.4542   8.05\n",
      "   9.825   14.4583   7.925    7.75    21.     247.5208  31.275   73.5\n",
      "   8.05    30.0708  13.      77.2875  11.2417   7.75     7.1417  22.3583\n",
      "   6.975    7.8958   7.05    14.5     26.      13.      15.0458  26.2833\n",
      "  53.1      9.2167  79.2     15.2458   7.75    15.85     6.75    11.5\n",
      "  36.75     7.7958  34.375   26.      13.      12.525   66.6      8.05\n",
      "  14.5      7.3125  61.3792   7.7333   8.05     8.6625  69.55    16.1\n",
      "  15.75     7.775    8.6625  39.6875  20.525   55.      27.9     25.925\n",
      "  56.4958  33.5     29.125   11.1333   7.925   30.6958   7.8542  25.4667\n",
      "  28.7125  13.       0.      69.55    15.05    31.3875  39.      22.025\n",
      "  50.      15.5     26.55    15.5      7.8958  13.      13.       7.8542\n",
      "  26.      27.7208 146.5208   7.75     8.4042   7.75    13.       9.5\n",
      "  69.55     6.4958   7.225    8.05    10.4625  15.85    18.7875   7.75\n",
      "  31.       7.05    21.       7.25    13.       7.75   113.275    7.925\n",
      "  27.      76.2917  10.5      8.05    13.       8.05     7.8958  90.\n",
      "   9.35    10.5      7.25    13.      25.4667  83.475    7.775   13.5\n",
      "  31.3875  10.5      7.55    26.      26.25    10.5     12.275   14.4542\n",
      "  15.5     10.5      7.125    7.225   90.       7.775   14.5     52.5542\n",
      "  26.       7.25    10.4625  26.55    16.1     20.2125  15.2458  79.2\n",
      "  86.5    512.3292  26.      31.3875  79.65     0.       7.75    10.5\n",
      "  39.6875   7.775  153.4625 135.6333  31.       0.      19.5     29.7\n",
      "   7.75    77.9583   7.75     0.      29.125   20.25     7.75     7.8542\n",
      "   9.5      8.05    26.       8.6625   9.5      7.8958  13.       7.75\n",
      "  78.85    91.0792  12.875    8.85     7.8958  27.7208   7.2292 151.55\n",
      "  30.5    247.5208   7.75    23.25     0.      12.35     8.05   151.55\n",
      " 110.8833 108.9     24.      56.9292  83.1583 262.375   26.       7.8958\n",
      "  26.25     7.8542  26.      14.     164.8667 134.5      7.25     7.8958\n",
      "  12.35    29.      69.55   135.6333   6.2375  13.      20.525   57.9792\n",
      "  23.25    28.5    153.4625  18.     133.65     7.8958  66.6    134.5\n",
      "   8.05    35.5     26.     263.      13.      13.      13.      13.\n",
      "  13.      16.1     15.9      8.6625   9.225   35.       7.2292  17.8\n",
      "   7.225    9.5     55.      13.       7.8792   7.8792  27.9     27.7208\n",
      "  14.4542   7.05    15.5      7.25    75.25     7.2292   7.75    69.3\n",
      "  55.4417   6.4958   8.05   135.6333  21.075   82.1708   7.25   211.5\n",
      "   4.0125   7.775  227.525   15.7417   7.925   52.       7.8958  73.5\n",
      "  46.9     13.       7.7292  12.     120.       7.7958   7.925  113.275\n",
      "  16.7      7.7958   7.8542  26.      10.5     12.65     7.925    8.05\n",
      "   9.825   15.85     8.6625  21.       7.75    18.75     7.775   25.4667\n",
      "   7.8958   6.8583  90.       0.       7.925    8.05    32.5     13.\n",
      "  13.      24.15     7.7333   7.875   14.4     20.2125   7.25    26.\n",
      "  26.       7.75     8.05    26.55    16.1     26.       7.125   55.9\n",
      " 120.      34.375   18.75   263.      10.5     26.25     9.5      7.775\n",
      "  13.       8.1125  81.8583  19.5     26.55    19.2583  30.5     27.75\n",
      "  19.9667  27.75    89.1042   8.05     7.8958  26.55    51.8625  10.5\n",
      "   7.75    26.55     8.05    38.5     13.       8.05     7.05     0.\n",
      "  26.55     7.725   19.2583   7.25     8.6625  27.75    13.7917   9.8375\n",
      "  52.      21.       7.0458   7.5208  12.2875  46.9      0.       8.05\n",
      "   9.5875  91.0792  25.4667  90.      29.7      8.05    15.9     19.9667\n",
      "   7.25    30.5     49.5042   8.05    14.4583  78.2667  15.1    151.55\n",
      "   7.7958   8.6625   7.75     7.6292   9.5875  86.5    108.9     26.\n",
      "  26.55    22.525   56.4958   7.75     8.05    26.2875  59.4      7.4958\n",
      "  34.0208  10.5     24.15    26.       7.8958  93.5      7.8958   7.225\n",
      "  57.9792   7.2292   7.75    10.5    221.7792   7.925   11.5     26.\n",
      "   7.2292   7.2292  22.3583   8.6625  26.25    26.55   106.425   14.5\n",
      "  49.5     71.      31.275   31.275   26.     106.425   26.      26.\n",
      "  13.8625  20.525   36.75   110.8833  26.       7.8292   7.225    7.775\n",
      "  26.55    39.6    227.525   79.65    17.4      7.75     7.8958  13.5\n",
      "   8.05     8.05    24.15     7.8958  21.075    7.2292   7.8542  10.5\n",
      "  51.4792  26.3875   7.75     8.05    14.5     13.      55.9     14.4583\n",
      "   7.925   30.     110.8833  26.      40.125    8.7125  79.65    15.\n",
      "  79.2      8.05     8.05     7.125   78.2667   7.25     7.75    26.\n",
      "  24.15    33.       0.       7.225   56.9292  27.       7.8958  42.4\n",
      "   8.05    26.55    15.55     7.8958  30.5     41.5792 153.4625  31.275\n",
      "   7.05    15.5      7.75     8.05    65.      14.4     16.1     39.\n",
      "  10.5     14.4542  52.5542  15.7417   7.8542  16.1     32.3208  12.35\n",
      "  77.9583   7.8958   7.7333  30.       7.0542  30.5      0.      27.9\n",
      "  13.       7.925   26.25    39.6875  16.1      7.8542  69.3     27.9\n",
      "  56.4958  19.2583  76.7292   7.8958  35.5      7.55     7.55     7.8958\n",
      "  23.       8.4333   7.8292   6.75    73.5      7.8958  15.5     13.\n",
      " 113.275  133.65     7.225   25.5875   7.4958   7.925   73.5     13.\n",
      "   7.775    8.05    52.      39.      52.      10.5     13.       0.\n",
      "   7.775    8.05     9.8417  46.9    512.3292   8.1375  76.7292   9.225\n",
      "  46.9     39.      41.5792  39.6875  10.1708   7.7958 211.3375  57.\n",
      "  13.4167  56.4958   7.225   26.55    13.5      8.05     7.7333 110.8833\n",
      "   7.65   227.525   26.2875  14.4542   7.7417   7.8542  26.      13.5\n",
      "  26.2875 151.55    15.2458  49.5042  26.55    52.       9.4833  13.\n",
      "   7.65   227.525   10.5      7.775   33.       7.0542  13.      13.\n",
      "  53.1      8.6625  21.       7.7375  26.       7.925  211.3375  18.7875\n",
      "   0.      13.      13.      16.1     34.375  512.3292   7.8958   7.8958\n",
      "  30.      78.85   262.375   16.1      7.925   71.      20.25    13.\n",
      "  53.1      7.75    23.      12.475    9.5      7.8958  65.      14.5\n",
      "   7.7958  11.5      8.05    86.5     14.5      7.125    7.2292 120.\n",
      "   7.775   77.9583  39.6      7.75    24.15     8.3625   9.5      7.8542\n",
      "  10.5      7.225   23.       7.75     7.75    12.475    7.7375 211.3375\n",
      "   7.2292  57.      30.      23.45     7.05     7.25     7.4958  29.125\n",
      "  20.575   79.2      7.75    26.      69.55    30.6958   7.8958  13.\n",
      "  25.9292   8.6833   7.2292  24.15    13.      26.25   120.       8.5167\n",
      "   6.975    7.775    0.       7.775   13.      53.1      7.8875  24.15\n",
      "  10.5     31.275    8.05     0.       7.925   37.0042   6.45    27.9\n",
      "  93.5      8.6625   0.      12.475   39.6875   6.95    56.4958  37.0042\n",
      "   7.75    80.      14.4542  18.75     7.2292   7.8542   8.3     83.1583\n",
      "   8.6625   8.05    56.4958  29.7      7.925   10.5     31.       6.4375\n",
      "   8.6625   7.55    69.55     7.8958  33.      89.1042  31.275    7.775\n",
      "  15.2458  39.4     26.       9.35   164.8667  26.55    19.2583   7.2292\n",
      "  14.1083  11.5     25.9292  69.55    13.      13.      13.8583  50.4958\n",
      "   9.5     11.1333   7.8958  52.5542   5.       9.      24.       7.225\n",
      "   9.8458   7.8958   7.8958  83.1583  26.       7.8958  10.5167  10.5\n",
      "   7.05    29.125   13.      30.      23.45    30.       7.75  ]\n"
     ]
    }
   ],
   "source": [
    "import pandas as pd\n",
    "df = pd.read_csv('https://sololearn.com/uploads/files/titanic.csv')\n",
    "print(df['Fare'].values)"
   ]
  },
  {
   "cell_type": "code",
   "execution_count": 20,
   "metadata": {},
   "outputs": [
    {
     "name": "stdout",
     "output_type": "stream",
     "text": [
      "The square of the sum of 2 and 3 is :  25\n"
     ]
    }
   ],
   "source": [
    "def nsquare (x,y):\n",
    "    return (x*x + 2*x*y + y*y)\n",
    "print(\"The square of the sum of 2 and 3 is : \",nsquare (2,3))"
   ]
  },
  {
   "cell_type": "code",
   "execution_count": 21,
   "metadata": {},
   "outputs": [
    {
     "name": "stdout",
     "output_type": "stream",
     "text": [
      "3.5\n"
     ]
    }
   ],
   "source": [
    "def average(x, y):\n",
    "    return (x + y)/2\n",
    "print(average(4, 3))"
   ]
  },
  {
   "cell_type": "code",
   "execution_count": 22,
   "metadata": {},
   "outputs": [
    {
     "name": "stdout",
     "output_type": "stream",
     "text": [
      "3.5\n"
     ]
    }
   ],
   "source": [
    "print((lambda x, y: (x + y)/2)(4, 3))"
   ]
  },
  {
   "cell_type": "code",
   "execution_count": 26,
   "metadata": {},
   "outputs": [
    {
     "name": "stdout",
     "output_type": "stream",
     "text": [
      "[4, 6, 8, 12]\n"
     ]
    }
   ],
   "source": [
    "#Program to filter out only the even items from a list\n",
    "my_list= [1, 5, 4, 6, 8, 11, 3, 12]\n",
    "new_list=list(filter(lambda x: (x%2 == 0),my_list))\n",
    "print(new_list)"
   ]
  },
  {
   "cell_type": "code",
   "execution_count": 27,
   "metadata": {},
   "outputs": [
    {
     "name": "stdout",
     "output_type": "stream",
     "text": [
      "[2, 10, 8, 12, 16, 22, 6]\n"
     ]
    }
   ],
   "source": [
    "# Program to double each item in a list using map\n",
    "my_list= [1, 5, 4, 6, 8, 11, 3]\n",
    "new_list= list(map(lambda x: x * 2 , my_list))\n",
    "print(new_list)"
   ]
  },
  {
   "cell_type": "code",
   "execution_count": 28,
   "metadata": {},
   "outputs": [
    {
     "name": "stdout",
     "output_type": "stream",
     "text": [
      "1590759910.612536\n"
     ]
    }
   ],
   "source": [
    "import time\n",
    "print(time.time())"
   ]
  },
  {
   "cell_type": "code",
   "execution_count": 29,
   "metadata": {},
   "outputs": [
    {
     "name": "stdout",
     "output_type": "stream",
     "text": [
      "Local current time : time.struct_time(tm_year=2020, tm_mon=5, tm_mday=29, tm_hour=19, tm_min=16, tm_sec=6, tm_wday=4, tm_yday=150, tm_isdst=0)\n"
     ]
    }
   ],
   "source": [
    "import time\n",
    "localtime= time.localtime (time.time ())\n",
    "print(\"Local current time :\", localtime)"
   ]
  },
  {
   "cell_type": "code",
   "execution_count": 33,
   "metadata": {},
   "outputs": [
    {
     "name": "stdout",
     "output_type": "stream",
     "text": [
      "Local current time : Fri May 29 19:50:49 2020\n"
     ]
    }
   ],
   "source": [
    "import time\n",
    "localtime= time.asctime (time.localtime (time.time ()))\n",
    "print(\"Local current time :\", localtime )"
   ]
  },
  {
   "cell_type": "code",
   "execution_count": 35,
   "metadata": {},
   "outputs": [
    {
     "name": "stdout",
     "output_type": "stream",
     "text": [
      "2020-05-29 19:51:46.560895\n"
     ]
    }
   ],
   "source": [
    "import datetime\n",
    "x=datetime.datetime.now()\n",
    "print(x)"
   ]
  },
  {
   "cell_type": "code",
   "execution_count": 36,
   "metadata": {},
   "outputs": [
    {
     "name": "stdout",
     "output_type": "stream",
     "text": [
      "2020\n",
      "Friday\n"
     ]
    }
   ],
   "source": [
    "import datetime\n",
    "x = datetime.datetime.now()\n",
    "print(x.year)\n",
    "print(x.strftime (\"%A\"))"
   ]
  },
  {
   "cell_type": "code",
   "execution_count": 37,
   "metadata": {},
   "outputs": [
    {
     "name": "stdout",
     "output_type": "stream",
     "text": [
      "[[ 3.      7.25   22.    ]\n",
      " [ 1.     71.2833 38.    ]\n",
      " [ 3.      7.925  26.    ]\n",
      " ...\n",
      " [ 3.     23.45    7.    ]\n",
      " [ 1.     30.     26.    ]\n",
      " [ 3.      7.75   32.    ]]\n"
     ]
    }
   ],
   "source": [
    "import pandas as pd\n",
    "df = pd.read_csv('https://sololearn.com/uploads/files/titanic.csv')\n",
    "print(df[['Pclass', 'Fare', 'Age']].values)"
   ]
  },
  {
   "cell_type": "code",
   "execution_count": 38,
   "metadata": {},
   "outputs": [
    {
     "name": "stdout",
     "output_type": "stream",
     "text": [
      "(887, 3)\n"
     ]
    }
   ],
   "source": [
    "import pandas as pd\n",
    "df = pd.read_csv('https://sololearn.com/uploads/files/titanic.csv')\n",
    "arr = df[['Pclass', 'Fare', 'Age']].values\n",
    "print(arr.shape)"
   ]
  },
  {
   "cell_type": "code",
   "execution_count": 39,
   "metadata": {},
   "outputs": [
    {
     "name": "stdout",
     "output_type": "stream",
     "text": [
      "(887, 2)\n"
     ]
    }
   ],
   "source": [
    "arr = df[['Survived', 'Pclass']].values\n",
    "print(arr.shape)"
   ]
  },
  {
   "cell_type": "code",
   "execution_count": 40,
   "metadata": {},
   "outputs": [
    {
     "name": "stdout",
     "output_type": "stream",
     "text": [
      "7.25\n",
      "[ 3.    7.25 22.  ]\n",
      "[22.   38.   26.   35.   35.   27.   54.    2.   27.   14.    4.   58.\n",
      " 20.   39.   14.   55.    2.   23.   31.   22.   35.   34.   15.   28.\n",
      "  8.   38.   26.   19.   24.   23.   40.   48.   18.   66.   28.   42.\n",
      " 18.   21.   18.   14.   40.   27.    3.   19.   30.   20.   27.   16.\n",
      " 18.    7.   21.   49.   29.   65.   46.   21.   28.5   5.   11.   22.\n",
      " 38.   45.    4.   64.    7.   29.   19.   17.   26.   32.   16.   21.\n",
      " 26.   32.   25.   23.   28.    0.83 30.   22.   29.   31.   28.   17.\n",
      " 33.   16.   20.   23.   24.   29.   20.   46.   26.   59.   22.   71.\n",
      " 23.   34.   34.   28.   29.   21.   33.   37.   28.   21.   29.   38.\n",
      " 28.   47.   14.5  22.   20.   17.   21.   70.5  29.   24.    2.   21.\n",
      " 19.   32.5  32.5  54.   12.   19.   24.    2.   45.   33.   20.   47.\n",
      " 29.   25.   23.   19.   37.   16.   24.   40.   22.   24.   19.   18.\n",
      " 19.   27.    9.   36.5  42.   51.   22.   55.5  40.5  27.   51.   16.\n",
      " 30.   37.    5.   44.   40.   26.   17.    1.    9.   48.   45.   60.\n",
      " 28.   61.    4.    1.   21.   56.   18.    5.   50.   30.   36.    8.\n",
      " 39.    9.    1.    4.   39.   26.   45.   40.   36.   32.   19.   19.\n",
      "  3.   44.   58.   28.   42.   21.   24.   28.   17.   34.   45.5  18.\n",
      "  2.   32.   26.   16.   40.   24.   35.   22.   30.   22.   31.   27.\n",
      " 42.   32.   30.   16.   27.   51.   22.   38.   22.   19.   20.5  18.\n",
      " 12.   35.   29.   59.    5.   24.   21.   44.    8.   19.   33.   19.\n",
      " 18.   29.   22.   30.   44.   25.   24.   37.   54.   18.   29.   62.\n",
      " 30.   41.   29.   38.   30.   35.   50.    3.   52.   40.   21.   36.\n",
      " 16.   25.   58.   35.   28.   25.   41.   37.   33.   63.   45.   21.\n",
      "  7.   35.   65.   28.   16.   19.   57.   33.   30.   22.   42.   22.\n",
      " 26.   19.   36.   24.   24.   30.   23.5   2.   47.   50.   20.   24.\n",
      " 19.   46.   28.    0.92 42.   17.   30.   30.   24.   18.   26.   28.\n",
      " 43.   26.   24.   54.   31.   40.   22.   27.   30.   22.   20.   36.\n",
      " 61.   36.   31.   16.   28.   45.5  38.   16.   42.   30.   29.   41.\n",
      " 45.   45.    2.   24.   28.   25.   36.   24.   40.   34.    3.   42.\n",
      " 23.   43.   15.   25.   23.   28.   22.   38.   22.   23.   40.   29.\n",
      " 45.   35.   27.   30.   60.   35.   22.   24.   25.   18.   19.   22.\n",
      "  3.   25.   22.   27.   20.   19.   42.    1.   32.   35.   27.   18.\n",
      "  1.   36.   19.   17.   36.   21.   28.   23.   24.   22.   31.   46.\n",
      " 23.   28.   39.   26.   21.   28.   20.   34.   51.    3.   21.    3.\n",
      " 42.   27.   33.   22.   44.   32.   34.   18.   30.   10.   21.   29.\n",
      " 28.   18.   54.   28.   19.   28.   32.   28.   33.   42.   17.   50.\n",
      " 14.   21.   24.   64.   31.   45.   20.   25.   28.   29.    4.   13.\n",
      " 34.    5.   52.   36.   28.   30.   49.   24.   29.   65.   41.   50.\n",
      " 17.   48.   34.   47.   48.   34.   38.   21.   56.   22.    0.75 39.\n",
      " 38.   33.   23.   22.   40.   34.   29.   22.    2.    9.   37.   50.\n",
      " 63.   25.    8.   35.   58.   30.    9.   19.   21.   55.   71.   21.\n",
      " 26.   54.   55.   25.   24.   17.   21.   21.   37.   16.   18.   33.\n",
      " 37.   28.   26.   29.   66.   36.   54.   24.   47.   34.   30.   36.\n",
      " 32.   30.   22.   35.   44.   18.   40.5  50.   49.   39.   23.    2.\n",
      " 17.   17.   24.   30.    7.   45.   30.   69.   22.   36.    9.   11.\n",
      " 32.   50.   64.   19.   27.   33.    8.   17.   27.   21.   22.   22.\n",
      " 62.   48.   45.   39.   36.   30.   40.   28.   40.   62.   24.   19.\n",
      " 29.   28.   32.   62.   53.   36.   22.   16.   19.   34.   39.   18.\n",
      " 32.   25.   39.   54.   36.   16.   18.   47.   60.   22.   22.   35.\n",
      " 52.   47.   40.   37.   36.   31.   49.   18.   49.   24.   42.   37.\n",
      " 44.   35.   36.   30.   27.   22.   40.   39.   21.   18.   22.   35.\n",
      " 24.   34.   26.    4.   26.   27.   42.   20.   21.   21.   61.   57.\n",
      " 21.   26.   18.   80.   51.   32.   30.    9.   28.   32.   31.   41.\n",
      " 37.   20.   24.    2.   32.    0.75 48.   19.   56.   21.   23.   23.\n",
      " 18.   21.   16.   18.   24.   27.   32.   23.   58.   50.   40.   47.\n",
      " 36.   20.   32.   25.   49.   43.   48.   40.   31.   70.   31.   19.\n",
      " 18.   24.5  18.   43.   36.   28.   27.   20.   14.   60.   25.   14.\n",
      " 19.   18.   15.   31.    4.   37.   25.   60.   52.   44.   19.   49.\n",
      " 42.   18.   35.   18.   25.   26.   39.   45.   42.   22.    4.   24.\n",
      " 41.   48.   29.   52.   19.   38.   27.   33.    6.   17.   34.   50.\n",
      " 27.   20.   30.   28.   25.   25.   29.   11.   41.   23.   23.   28.5\n",
      " 48.   35.   20.   32.   45.   36.   21.   24.   31.   70.   16.   30.\n",
      " 19.   31.    4.    6.   33.   23.   48.    0.67 28.   18.   34.   33.\n",
      " 23.   41.   20.   36.   16.   51.   46.   30.5  28.   32.   24.   48.\n",
      " 57.   29.   54.   18.   20.    5.   22.   43.   13.   17.   29.   35.\n",
      " 25.   25.   18.    8.    1.   46.   20.   16.   21.   43.   25.   39.\n",
      " 49.   31.   30.   30.   34.   31.   11.    0.42 27.   31.   39.   18.\n",
      " 39.   33.   26.   39.   35.    6.   30.5  39.   23.   31.   43.   10.\n",
      " 52.   27.   38.   27.    2.   36.   23.    1.   19.   62.   15.    0.83\n",
      " 30.   23.   18.   39.   21.   20.   32.   29.   20.   16.   30.   34.5\n",
      " 17.   42.   18.   35.   28.   40.    4.   74.    9.   16.   44.   18.\n",
      " 45.   51.   24.   30.   41.   21.   48.   14.   24.   42.   27.   31.\n",
      " 23.    4.   26.   47.   33.   47.   28.   15.   20.   19.   23.   56.\n",
      " 25.   33.   22.   28.   25.   39.   27.   19.    7.   26.   32.  ]\n"
     ]
    }
   ],
   "source": [
    "import pandas as pd\n",
    "df = pd.read_csv('https://sololearn.com/uploads/files/titanic.csv')\n",
    "arr = df[['Pclass', 'Fare', 'Age']].values\n",
    "print(arr[0, 1])\n",
    "print(arr[0])\n",
    "print(arr[:,2])"
   ]
  },
  {
   "cell_type": "code",
   "execution_count": 41,
   "metadata": {},
   "outputs": [
    {
     "name": "stdout",
     "output_type": "stream",
     "text": [
      "[[ 3.     21.075   2.    ]\n",
      " [ 2.     30.0708 14.    ]]\n",
      "[[ 3.     21.075   2.    ]\n",
      " [ 2.     30.0708 14.    ]]\n"
     ]
    }
   ],
   "source": [
    "import pandas as pd\n",
    "\n",
    "df = pd.read_csv('https://sololearn.com/uploads/files/titanic.csv')\n",
    "# take first 10 values for simplicity\n",
    "arr = df[['Pclass', 'Fare', 'Age']].values[:10]\n",
    "\n",
    "mask = arr[:, 2] < 18\n",
    "print(arr[mask])\n",
    "print(arr[arr[:, 2] < 18])"
   ]
  },
  {
   "cell_type": "code",
   "execution_count": 42,
   "metadata": {},
   "outputs": [
    {
     "name": "stdout",
     "output_type": "stream",
     "text": [
      "130\n",
      "130\n"
     ]
    }
   ],
   "source": [
    "import pandas as pd\n",
    "\n",
    "df = pd.read_csv('https://sololearn.com/uploads/files/titanic.csv')\n",
    "arr = df[['Pclass', 'Fare', 'Age']].values\n",
    "mask = arr[:, 2] < 18\n",
    "\n",
    "print(mask.sum())\n",
    "print((arr[:, 2] < 18).sum())"
   ]
  },
  {
   "cell_type": "code",
   "execution_count": null,
   "metadata": {},
   "outputs": [],
   "source": []
  }
 ],
 "metadata": {
  "kernelspec": {
   "display_name": "Python 3",
   "language": "python",
   "name": "python3"
  },
  "language_info": {
   "codemirror_mode": {
    "name": "ipython",
    "version": 3
   },
   "file_extension": ".py",
   "mimetype": "text/x-python",
   "name": "python",
   "nbconvert_exporter": "python",
   "pygments_lexer": "ipython3",
   "version": "3.7.4"
  }
 },
 "nbformat": 4,
 "nbformat_minor": 2
}
