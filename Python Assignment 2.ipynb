{
 "cells": [
  {
   "cell_type": "markdown",
   "metadata": {},
   "source": [
    "## Q.1)Write a python program to create a new csv file that holds the data about 5 students and their marks: Roll no of student, name and marks scored in Mathematics, Science and English."
   ]
  },
  {
   "cell_type": "markdown",
   "metadata": {},
   "source": [
    "## reference:-\n",
    "## df.sort_values(by=['Percentage'])## Sort the data as per Percentage column\n",
    "## df\n",
    "## df.Percentage.sort_values() 01st Way\n",
    "## df['Percentage'].sort_values() 02nd Way\n",
    "## type(df['Percentage'].sort_values())\n",
    "## df['Percentage'].sort_values(ascending=False)## 03rd Way\n",
    "## df['Percentage']\n",
    "## df.sort_values('Percentage') ## 04th Way(needful as per the question.)\n",
    "## df.sort_values('Percentage',ascending=False)\n",
    "## df.Percentage.order() ## only warning you will receive as order is deprecated meaning it will not be used in the later version.\n",
    "## df.sort('Percentage') ## similar kind of error message you will receive as above for 'Sort'.\n",
    "## df.sort_values(['Total_Marks','Percentage']) ## In Newer Version we can sort data using multiple columns."
   ]
  },
  {
   "cell_type": "code",
   "execution_count": 12,
   "metadata": {},
   "outputs": [],
   "source": [
    "# importing pandas library\n",
    "import pandas as pd  \n",
    "   \n",
    "# list of name, roll_no, Maths, Science and English Marks \n",
    "name = [\"CHINMAY\", \"GAYATRI\", \"SANKET\", \"RAM\", \"DHARMIL\"] \n",
    "roll_no = [1,2,3,4,5] \n",
    "Maths = [90, 40, 80, 98,88] \n",
    "Science=[90,48,56,90,88]\n",
    "English=[48,56,89,78,56]\n",
    "   \n",
    "# dictionary of lists  \n",
    "d1 = {'name': name, 'roll_no': roll_no, 'Maths': Maths,'Science':Science,'English':English}  \n",
    "     \n",
    "df = pd.DataFrame(d1) \n",
    "  \n",
    "# saving the dataframe \n",
    "df.to_csv('data.csv',mode='w',index=False) "
   ]
  },
  {
   "cell_type": "markdown",
   "metadata": {},
   "source": [
    "## Q.2)Write a python to program to add to each record in the above csv file, the total marks and the percentage secured by each student. Then print its contents sorted in descending order of percentage."
   ]
  },
  {
   "cell_type": "code",
   "execution_count": 15,
   "metadata": {},
   "outputs": [
    {
     "data": {
      "text/html": [
       "<div>\n",
       "<style scoped>\n",
       "    .dataframe tbody tr th:only-of-type {\n",
       "        vertical-align: middle;\n",
       "    }\n",
       "\n",
       "    .dataframe tbody tr th {\n",
       "        vertical-align: top;\n",
       "    }\n",
       "\n",
       "    .dataframe thead th {\n",
       "        text-align: right;\n",
       "    }\n",
       "</style>\n",
       "<table border=\"1\" class=\"dataframe\">\n",
       "  <thead>\n",
       "    <tr style=\"text-align: right;\">\n",
       "      <th></th>\n",
       "      <th>name</th>\n",
       "      <th>roll_no</th>\n",
       "      <th>Maths</th>\n",
       "      <th>Science</th>\n",
       "      <th>English</th>\n",
       "      <th>Total_Marks</th>\n",
       "      <th>Percentage</th>\n",
       "    </tr>\n",
       "  </thead>\n",
       "  <tbody>\n",
       "    <tr>\n",
       "      <th>3</th>\n",
       "      <td>RAM</td>\n",
       "      <td>4</td>\n",
       "      <td>98</td>\n",
       "      <td>90</td>\n",
       "      <td>78</td>\n",
       "      <td>266</td>\n",
       "      <td>66.50</td>\n",
       "    </tr>\n",
       "    <tr>\n",
       "      <th>4</th>\n",
       "      <td>DHARMIL</td>\n",
       "      <td>5</td>\n",
       "      <td>88</td>\n",
       "      <td>88</td>\n",
       "      <td>56</td>\n",
       "      <td>232</td>\n",
       "      <td>58.00</td>\n",
       "    </tr>\n",
       "    <tr>\n",
       "      <th>0</th>\n",
       "      <td>CHINMAY</td>\n",
       "      <td>1</td>\n",
       "      <td>90</td>\n",
       "      <td>90</td>\n",
       "      <td>48</td>\n",
       "      <td>228</td>\n",
       "      <td>57.00</td>\n",
       "    </tr>\n",
       "    <tr>\n",
       "      <th>2</th>\n",
       "      <td>SANKET</td>\n",
       "      <td>3</td>\n",
       "      <td>80</td>\n",
       "      <td>56</td>\n",
       "      <td>89</td>\n",
       "      <td>225</td>\n",
       "      <td>56.25</td>\n",
       "    </tr>\n",
       "    <tr>\n",
       "      <th>1</th>\n",
       "      <td>GAYATRI</td>\n",
       "      <td>2</td>\n",
       "      <td>40</td>\n",
       "      <td>48</td>\n",
       "      <td>56</td>\n",
       "      <td>144</td>\n",
       "      <td>36.00</td>\n",
       "    </tr>\n",
       "  </tbody>\n",
       "</table>\n",
       "</div>"
      ],
      "text/plain": [
       "      name  roll_no  Maths  Science  English  Total_Marks  Percentage\n",
       "3      RAM        4     98       90       78          266       66.50\n",
       "4  DHARMIL        5     88       88       56          232       58.00\n",
       "0  CHINMAY        1     90       90       48          228       57.00\n",
       "2   SANKET        3     80       56       89          225       56.25\n",
       "1  GAYATRI        2     40       48       56          144       36.00"
      ]
     },
     "execution_count": 15,
     "metadata": {},
     "output_type": "execute_result"
    }
   ],
   "source": [
    "Total_Marks=[228,144,225,266,232] ## Append Total_Marks column\n",
    "df['Total_Marks']=Total_Marks\n",
    "Percentage=[57,36,56.25,66.50,58]## Append Percentage column\n",
    "df['Percentage']=Percentage\n",
    "##df.sort_values(['Percentage'],ascending=False)\n",
    "df1=df\n",
    "df1.to_csv('data.csv',mode='w',index=False)\n",
    "df.sort_values(['Percentage'],ascending=False)"
   ]
  },
  {
   "cell_type": "markdown",
   "metadata": {},
   "source": [
    "## Q.3)Write a program to create a file that holds the mailing addresses of all the students in your class. Using this file, determine the different number of students using each of the different domains."
   ]
  },
  {
   "cell_type": "code",
   "execution_count": 24,
   "metadata": {},
   "outputs": [
    {
     "name": "stdout",
     "output_type": "stream",
     "text": [
      "['gmail.com', 'yahoo.com', 'gmail.com', 'yahoo.com', 'gmail.com']\n"
     ]
    }
   ],
   "source": [
    "import pandas as pd\n",
    "\n",
    "data ={'name':['CHINMAY','RAM','SANKET','DHARMIL','GAYATRI'],\n",
    "'email_id':['CHINMAY@gmail.com','RAM@yahoo.com','SANKET@gmail.com','DHARMIL@yahoo.com','GAYATRI@gmail.com']\n",
    "      }\n",
    "df2=pd.DataFrame(data)\n",
    "df2.to_csv('data1.csv',mode='w',index=False)\n",
    "email_lst=[]\n",
    "for each in df2['email_id']:\n",
    "    email_lst.append(each)\n",
    "split_lst=[]\n",
    "for each in email_lst:\n",
    "    split_lst.append(each.split('@')[1])\n",
    "print(split_lst)"
   ]
  },
  {
   "cell_type": "markdown",
   "metadata": {},
   "source": [
    "## Q.4) Create a file that contains the names of all the students in your class and the month in which their birthday falls. Write a program to find the names of all students whose birthday falls in the month of October."
   ]
  },
  {
   "cell_type": "code",
   "execution_count": 7,
   "metadata": {},
   "outputs": [
    {
     "data": {
      "text/html": [
       "<div>\n",
       "<style scoped>\n",
       "    .dataframe tbody tr th:only-of-type {\n",
       "        vertical-align: middle;\n",
       "    }\n",
       "\n",
       "    .dataframe tbody tr th {\n",
       "        vertical-align: top;\n",
       "    }\n",
       "\n",
       "    .dataframe thead th {\n",
       "        text-align: right;\n",
       "    }\n",
       "</style>\n",
       "<table border=\"1\" class=\"dataframe\">\n",
       "  <thead>\n",
       "    <tr style=\"text-align: right;\">\n",
       "      <th></th>\n",
       "      <th>name</th>\n",
       "      <th>Birthday_month</th>\n",
       "    </tr>\n",
       "  </thead>\n",
       "  <tbody>\n",
       "    <tr>\n",
       "      <th>0</th>\n",
       "      <td>CHINMAY</td>\n",
       "      <td>OCTOBER</td>\n",
       "    </tr>\n",
       "    <tr>\n",
       "      <th>5</th>\n",
       "      <td>SAM</td>\n",
       "      <td>OCTOBER</td>\n",
       "    </tr>\n",
       "  </tbody>\n",
       "</table>\n",
       "</div>"
      ],
      "text/plain": [
       "      name Birthday_month\n",
       "0  CHINMAY        OCTOBER\n",
       "5      SAM        OCTOBER"
      ]
     },
     "execution_count": 7,
     "metadata": {},
     "output_type": "execute_result"
    }
   ],
   "source": [
    "import pandas as pd\n",
    "\n",
    "data ={'name':['CHINMAY','RAM','SANKET','DHARMIL','GAYATRI','SAM'],\n",
    "'Birthday_month':['OCTOBER','MARCH','NOVEMBER','MARCH','JULY','OCTOBER']\n",
    "      }\n",
    "df3=pd.DataFrame(data)\n",
    "df3.to_csv('data2.csv',mode='w',index=False)\n",
    "\n",
    "filter_birth=df3['Birthday_month']=='OCTOBER'\n",
    "name_birth=df3.where(filter_birth)\n",
    "name_birth.dropna()"
   ]
  },
  {
   "cell_type": "markdown",
   "metadata": {},
   "source": [
    "## Q.5) Write a program to create a list of lists. The element list should be factors of the indices of the list.\n",
    "## Sample input: 10 \n",
    "## Sample output: [[0], [1], [1, 2], [1, 3], [1, 2, 4], [1, 5], [1, 2, 3, 6], [1, 7], [1, 2, 4, 8], [1, 3, 9], [1, 2, 5, 10]]"
   ]
  },
  {
   "cell_type": "code",
   "execution_count": 4,
   "metadata": {},
   "outputs": [
    {
     "name": "stdout",
     "output_type": "stream",
     "text": [
      "Enter the index for which you want to perform:-10\n",
      "[[0], [1], [1, 2], [1, 3], [1, 2, 4], [1, 5], [1, 2, 3, 6], [1, 7], [1, 2, 4, 8], [1, 3, 9], [1, 2, 5, 10]]"
     ]
    }
   ],
   "source": [
    "index=int(input(\"Enter the index for which you want to perform:-\"))\n",
    "final_lst = []\n",
    "for each in range(1,index+1):\n",
    "    lst=[]\n",
    "    for num in range(1,each+1):\n",
    "        if each%num==0:\n",
    "            lst.append(num)\n",
    "    final_lst.append(lst)\n",
    "final_lst.insert(0,[0])\n",
    "print(final_lst , end ='')"
   ]
  },
  {
   "cell_type": "markdown",
   "metadata": {},
   "source": [
    "## Q.6) Develop a Phone-Book using dictionaries and search for a particular name then display it."
   ]
  },
  {
   "cell_type": "code",
   "execution_count": 16,
   "metadata": {},
   "outputs": [
    {
     "name": "stdout",
     "output_type": "stream",
     "text": [
      "What we know about Singer\n",
      "name: CHINMAY\n",
      "address: THANE\n",
      "phone: 8976535903\n"
     ]
    }
   ],
   "source": [
    "my_dict = {\n",
    "    \"Singer\": {\n",
    "        \"name\": \"CHINMAY\", \n",
    "        \"address\": \"THANE\", \n",
    "        \"phone\": \"8976535903\"\n",
    "    }, \n",
    "    \"Programmer\": {\n",
    "        \"name\": \"SANKET\", \n",
    "        \"address\": \"Mira road\", \n",
    "        \"phone\": \"9322283381\"\n",
    "    },\n",
    "    \"Banker\": {\n",
    "        \"name\": \"GAYATRI\",\n",
    "        \"address\": \"MULUND\",\n",
    "        \"phone\": \"8108302003\"\n",
    "    }\n",
    "}\n",
    " \n",
    "def fetch_details(name):\n",
    "    print('What we know about {one}'.format(one=name))\n",
    "    for key, value in my_dict[name].items():\n",
    "        print(f'{key}: {value}')\n",
    "\n",
    "        \n",
    "        \n",
    "fetch_details('Singer')"
   ]
  },
  {
   "cell_type": "markdown",
   "metadata": {},
   "source": [
    "## Q.7)Write a Python program to combine two dictionary adding values for common keys."
   ]
  },
  {
   "cell_type": "code",
   "execution_count": 6,
   "metadata": {},
   "outputs": [
    {
     "name": "stdout",
     "output_type": "stream",
     "text": [
      "{'a': 100, 'b': 200, 'd': 400, 'c': 300}\n"
     ]
    }
   ],
   "source": [
    "# Python program to combine two dictionary \n",
    "# adding values for common keys \n",
    "# initializing two dictionaries \n",
    "d1 = {'a': 100, 'b': 200, 'c':300}\n",
    "d2 = {'a': 300, 'b': 200,'d':400}  \n",
    "# adding the values with common key \n",
    "for key in d2: \n",
    "    if key in d1: \n",
    "        d2[key] = d2[key] + d1[key] \n",
    "    else: \n",
    "        pass\n",
    "d2.update(d1) \n",
    "print(d2)"
   ]
  },
  {
   "cell_type": "markdown",
   "metadata": {},
   "source": [
    "## Q.8)Write a program to display all the unique values in the given list of dictionaries:\n",
    "## Sample Data: [{\"V\":\"S001\"}, {\"V\": \"S002\"}, {\"VI\": \"S001\"}, {\"VI\": \"S005\"}, {\"VII\":\"S005\"}, {\"V\":\"S009\"},{\"VIII\":\"S007\"}]"
   ]
  },
  {
   "cell_type": "code",
   "execution_count": 8,
   "metadata": {},
   "outputs": [
    {
     "name": "stdout",
     "output_type": "stream",
     "text": [
      "Original List:  [{'V': 'S001'}, {'V': 'S002'}, {'VI': 'S001'}, {'VI': 'S005'}, {'VII': 'S005'}, {'V': 'S009'}, {'VIII': 'S007'}]\n",
      "The unique values are: {'S001', 'S002', 'S007', 'S005', 'S009'}\n"
     ]
    }
   ],
   "source": [
    "lst = [{\"V\":\"S001\"}, {\"V\": \"S002\"}, {\"VI\": \"S001\"}, {\"VI\": \"S005\"}, {\"VII\":\"S005\"}, {\"V\":\"S009\"},{\"VIII\":\"S007\"}]\n",
    "print(\"Original List: \",lst)\n",
    "s = set()\n",
    "for dict in lst:\n",
    "    for val in dict.values():\n",
    "        s.add(val)\n",
    "        unique_values=s\n",
    "print(\"The unique values are:\",unique_values)"
   ]
  },
  {
   "cell_type": "markdown",
   "metadata": {},
   "source": [
    "## Q.9)Create a program that counts the total number of words, total number of punctuation marks and displays the most frequently occurring word from the following paragraph:\n",
    "## Entrepreneur and e-commerce pioneer Jeff Bezos was born on January 12, 1964, in Albuquerque, New Mexico. Bezos had an early love of computers and studied computer science and electrical engineering at Princeton University. After graduation he worked on Wall Street, and in 1990 he became the youngest senior vice president at the investment firm D.E. Shaw. Four years later, he quit his lucrative job to open Amazon.com, a virtual bookstore that became one of the internet's biggest success stories. In 2013, Bezos purchased The Washington Post in a \n",
    "##  250 million dollars deal. \n",
    "## His successful business ventures have made him one of the richest people in the world!"
   ]
  },
  {
   "cell_type": "code",
   "execution_count": 1,
   "metadata": {},
   "outputs": [
    {
     "name": "stdout",
     "output_type": "stream",
     "text": [
      "[('the', 5)]\n"
     ]
    }
   ],
   "source": [
    "# Python program to find the k most frequent words \n",
    "# from data set \n",
    "from collections import Counter \n",
    "\n",
    "data_set = \"Entrepreneur and e-commerce pioneer Jeff Bezos was born on January 12, 1964, in Albuquerque, New Mexico. Bezos had an early love of computers and studied computer science and electrical engineering at Princeton University. After graduation he worked on Wall Street, and in 1990 he became the youngest senior vice president at the investment firm D.E. Shaw. Four years later, he quit his lucrative job to open Amazon.com, a virtual bookstore that became one of the internet's biggest success stories. In 2013, Bezos purchased The Washington Post in a $250 million deal. His successful business ventures have made him one of the richest people in the world! \"\n",
    "# split() returns list of all the words in the string \n",
    "split_it = data_set.split() \n",
    "\n",
    "# Pass the split_it list to instance of Counter class. \n",
    "Counter = Counter(split_it) \n",
    "\n",
    "# most_common() produces k frequently encountered \n",
    "# input values and their respective counts. \n",
    "most_occur = Counter.most_common(1) \n",
    "print(most_occur) "
   ]
  },
  {
   "cell_type": "markdown",
   "metadata": {},
   "source": [
    "## Total Number of Punctuations."
   ]
  },
  {
   "cell_type": "code",
   "execution_count": 11,
   "metadata": {},
   "outputs": [
    {
     "name": "stdout",
     "output_type": "stream",
     "text": [
      "Punctuation:  19\n"
     ]
    }
   ],
   "source": [
    "import string  \n",
    "cnt_punctuation=0\n",
    "Sentence = \"Entrepreneur and e-commerce pioneer Jeff Bezos was born on January 12, 1964, in Albuquerque, New Mexico. Bezos had an early love of computers and studied computer science and electrical engineering at Princeton University. After graduation he worked on Wall Street, and in 1990 he became the youngest senior vice president at the investment firm D.E. Shaw. Four years later, he quit his lucrative job to open Amazon.com, a virtual bookstore that became one of the internet's biggest success stories. In 2013, Bezos purchased The Washington Post in a $250 million deal. His successful business ventures have made him one of the richest people in the world! \"  \n",
    "for i in Sentence:  \n",
    "    if i in string.punctuation: \n",
    "        cnt_punctuation+=1\n",
    "print(\"Punctuation: \" , cnt_punctuation)"
   ]
  },
  {
   "cell_type": "markdown",
   "metadata": {},
   "source": [
    "## Total number of Words."
   ]
  },
  {
   "cell_type": "code",
   "execution_count": 34,
   "metadata": {},
   "outputs": [
    {
     "name": "stdout",
     "output_type": "stream",
     "text": [
      "101\n"
     ]
    }
   ],
   "source": [
    "test_string = \"Entrepreneur and e-commerce pioneer Jeff Bezos was born on January 12, 1964, in Albuquerque, New Mexico. Bezos had an early love of computers and studied computer science and electrical engineering at Princeton University. After graduation he worked on Wall Street, and in 1990 he became the youngest senior vice president at the investment firm D.E. Shaw. Four years later, he quit his lucrative job to open Amazon.com, a virtual bookstore that became one of the internet's biggest success stories. In 2013, Bezos purchased The Washington Post in a $250 million deal. His successful business ventures have made him one of the richest people in the world!\"  \n",
    "  \n",
    "# printing original string \n",
    "#print (\"The original string is : \" +  test_string) \n",
    "  \n",
    "# using split() \n",
    "# to count words in string \n",
    "res = test_string.split(' ')\n",
    "res.remove('12,')\n",
    "res.remove('1964,')\n",
    "res.remove('1990')\n",
    "res.remove('2013,')\n",
    "res.remove('$250')\n",
    "print(len(res))\n",
    "##print(res) \n",
    "# printing result \n",
    "#print (\"The number of words in string are : \" +  str(res)) "
   ]
  },
  {
   "cell_type": "markdown",
   "metadata": {},
   "source": [
    "## Frequency occurence"
   ]
  },
  {
   "cell_type": "code",
   "execution_count": 23,
   "metadata": {},
   "outputs": [
    {
     "name": "stdout",
     "output_type": "stream",
     "text": [
      "['Entrepreneur', 'and', 'e-commerce', 'pioneer', 'Jeff', 'Bezos', 'was', 'born', 'on', 'January', 'in', 'Albuquerque,', 'New', 'Mexico.', 'had', 'an', 'early', 'love', 'of', 'computers', 'studied', 'computer', 'science', 'electrical', 'engineering', 'at', 'Princeton', 'University.', 'After', 'graduation', 'he', 'worked', 'Wall', 'Street,', 'became', 'the', 'youngest', 'senior', 'vice', 'president', 'investment', 'firm', 'D.E.', 'Shaw.', 'Four', 'years', 'later,', 'quit', 'his', 'lucrative', 'job', 'to', 'open', 'Amazon.com,', 'a', 'virtual', 'bookstore', 'that', 'one', \"internet's\", 'biggest', 'success', 'stories.', 'In', 'purchased', 'The', 'Washington', 'Post', 'million', 'deal.', 'His', 'successful', 'business', 'ventures', 'have', 'made', 'him', 'richest', 'people', 'world!']\n",
      "Entrepreneur : 1\n",
      "and : 4\n",
      "e-commerce : 1\n",
      "pioneer : 1\n",
      "Jeff : 1\n",
      "Bezos : 3\n",
      "was : 1\n",
      "born : 1\n",
      "on : 2\n",
      "January : 1\n",
      "in : 4\n",
      "Albuquerque, : 1\n",
      "New : 1\n",
      "Mexico. : 1\n",
      "had : 1\n",
      "an : 1\n",
      "early : 1\n",
      "love : 1\n",
      "of : 3\n",
      "computers : 1\n",
      "studied : 1\n",
      "computer : 1\n",
      "science : 1\n",
      "electrical : 1\n",
      "engineering : 1\n",
      "at : 2\n",
      "Princeton : 1\n",
      "University. : 1\n",
      "After : 1\n",
      "graduation : 1\n",
      "he : 3\n",
      "worked : 1\n",
      "Wall : 1\n",
      "Street, : 1\n",
      "became : 2\n",
      "the : 5\n",
      "youngest : 1\n",
      "senior : 1\n",
      "vice : 1\n",
      "president : 1\n",
      "investment : 1\n",
      "firm : 1\n",
      "D.E. : 1\n",
      "Shaw. : 1\n",
      "Four : 1\n",
      "years : 1\n",
      "later, : 1\n",
      "quit : 1\n",
      "his : 1\n",
      "lucrative : 1\n",
      "job : 1\n",
      "to : 1\n",
      "open : 1\n",
      "Amazon.com, : 1\n",
      "a : 2\n",
      "virtual : 1\n",
      "bookstore : 1\n",
      "that : 1\n",
      "one : 2\n",
      "internet's : 1\n",
      "biggest : 1\n",
      "success : 1\n",
      "stories. : 1\n",
      "In : 1\n",
      "purchased : 1\n",
      "The : 1\n",
      "Washington : 1\n",
      "Post : 1\n",
      "million : 1\n",
      "deal. : 1\n",
      "His : 1\n",
      "successful : 1\n",
      "business : 1\n",
      "ventures : 1\n",
      "have : 1\n",
      "made : 1\n",
      "him : 1\n",
      "richest : 1\n",
      "people : 1\n",
      "world! : 1\n"
     ]
    }
   ],
   "source": [
    "non_duplicate=[]\n",
    "for each in res:\n",
    "    if each not in non_duplicate:\n",
    "        non_duplicate.append(each)\n",
    "print(non_duplicate)\n",
    "\n",
    "#max(set(res) , key = res.count\n",
    "for each in range(len(non_duplicate)):\n",
    "    print('{} : {}'.format(non_duplicate[each] , res.count(non_duplicate[each])))"
   ]
  },
  {
   "cell_type": "markdown",
   "metadata": {},
   "source": [
    "## Q.10)From the above paragraph, extract all the years mentioned."
   ]
  },
  {
   "cell_type": "code",
   "execution_count": 7,
   "metadata": {},
   "outputs": [
    {
     "name": "stdout",
     "output_type": "stream",
     "text": [
      "The three years mentioned in the above paragraph: ['1964', '1990', '2013']\n"
     ]
    }
   ],
   "source": [
    "s =\"Entrepreneur and e-commerce pioneer Jeff Bezos was born on January 12, 1964, in Albuquerque, New Mexico. Bezos had an early love of computers and studied computer science and electrical engineering at Princeton University. After graduation he worked on Wall Street, and in 1990 he became the youngest senior vice president at the investment firm D.E. Shaw. Four years later, he quit his lucrative job to open Amazon.com, a virtual bookstore that became one of the internet's biggest success stories. In 2013, Bezos purchased The Washington Post in a $250 million deal. His successful business ventures have made him one of the richest people in the world!\"\n",
    "lst=s.split(' ')\n",
    "lst2=[]\n",
    "for each in lst:\n",
    "    lst2.append(each.replace(',',''))\n",
    "    ##print(type(each))\n",
    "##print(lst2)\n",
    "num_list=[]\n",
    "for each in lst2:\n",
    "    if each.isdigit() and (len(each)==4):\n",
    "        num_list.append(each)\n",
    "print(\"The three years mentioned in the above paragraph:\",num_list)"
   ]
  },
  {
   "cell_type": "code",
   "execution_count": null,
   "metadata": {},
   "outputs": [],
   "source": []
  }
 ],
 "metadata": {
  "kernelspec": {
   "display_name": "Python 3",
   "language": "python",
   "name": "python3"
  },
  "language_info": {
   "codemirror_mode": {
    "name": "ipython",
    "version": 3
   },
   "file_extension": ".py",
   "mimetype": "text/x-python",
   "name": "python",
   "nbconvert_exporter": "python",
   "pygments_lexer": "ipython3",
   "version": "3.7.3"
  }
 },
 "nbformat": 4,
 "nbformat_minor": 2
}
