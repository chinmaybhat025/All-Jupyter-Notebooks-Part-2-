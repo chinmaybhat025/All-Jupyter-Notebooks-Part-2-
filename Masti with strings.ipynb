{
 "cells": [
  {
   "cell_type": "code",
   "execution_count": 9,
   "metadata": {},
   "outputs": [
    {
     "name": "stdout",
     "output_type": "stream",
     "text": [
      "abcdef\n",
      "abcdef 3\n",
      "defghi"
     ]
    }
   ],
   "source": [
    "str1=input()\n",
    "print(str1,end=' ')\n",
    "n=int(input())\n",
    "if n==0:\n",
    "    print(str1.swapcase())\n",
    "else:\n",
    "    for i in range(0,len(str1)):\n",
    "        print(chr(ord(str1[i])+n),end='')"
   ]
  },
  {
   "cell_type": "code",
   "execution_count": null,
   "metadata": {},
   "outputs": [],
   "source": []
  }
 ],
 "metadata": {
  "kernelspec": {
   "display_name": "Python 3",
   "language": "python",
   "name": "python3"
  },
  "language_info": {
   "codemirror_mode": {
    "name": "ipython",
    "version": 3
   },
   "file_extension": ".py",
   "mimetype": "text/x-python",
   "name": "python",
   "nbconvert_exporter": "python",
   "pygments_lexer": "ipython3",
   "version": "3.7.4"
  }
 },
 "nbformat": 4,
 "nbformat_minor": 2
}
