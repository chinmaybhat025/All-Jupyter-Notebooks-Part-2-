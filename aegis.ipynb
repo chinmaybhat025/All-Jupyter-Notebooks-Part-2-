{
  "nbformat": 4,
  "nbformat_minor": 0,
  "metadata": {
    "colab": {
      "name": "aegis.ipynb",
      "provenance": [],
      "collapsed_sections": []
    },
    "kernelspec": {
      "name": "python3",
      "display_name": "Python 3"
    }
  },
  "cells": [
    {
      "cell_type": "code",
      "metadata": {
        "id": "Je3DAwUsk3hm",
        "colab_type": "code",
        "colab": {
          "base_uri": "https://localhost:8080/",
          "height": 1000
        },
        "outputId": "7ee1fa2d-7650-4ddc-ea89-8098714e3fe6"
      },
      "source": [
        "!apt-get install openjdk-8-jdk"
      ],
      "execution_count": null,
      "outputs": [
        {
          "output_type": "stream",
          "text": [
            "Reading package lists... Done\n",
            "Building dependency tree       \n",
            "Reading state information... Done\n",
            "The following package was automatically installed and is no longer required:\n",
            "  libnvidia-common-440\n",
            "Use 'apt autoremove' to remove it.\n",
            "The following additional packages will be installed:\n",
            "  fonts-dejavu-core fonts-dejavu-extra libatk-wrapper-java\n",
            "  libatk-wrapper-java-jni libxxf86dga1 openjdk-8-jdk-headless openjdk-8-jre\n",
            "  openjdk-8-jre-headless x11-utils\n",
            "Suggested packages:\n",
            "  openjdk-8-demo openjdk-8-source visualvm icedtea-8-plugin libnss-mdns\n",
            "  fonts-ipafont-gothic fonts-ipafont-mincho fonts-wqy-microhei\n",
            "  fonts-wqy-zenhei fonts-indic mesa-utils\n",
            "The following NEW packages will be installed:\n",
            "  fonts-dejavu-core fonts-dejavu-extra libatk-wrapper-java\n",
            "  libatk-wrapper-java-jni libxxf86dga1 openjdk-8-jdk openjdk-8-jdk-headless\n",
            "  openjdk-8-jre openjdk-8-jre-headless x11-utils\n",
            "0 upgraded, 10 newly installed, 0 to remove and 33 not upgraded.\n",
            "Need to get 40.7 MB of archives.\n",
            "After this operation, 153 MB of additional disk space will be used.\n",
            "Get:1 http://archive.ubuntu.com/ubuntu bionic/main amd64 libxxf86dga1 amd64 2:1.1.4-1 [13.7 kB]\n",
            "Get:2 http://archive.ubuntu.com/ubuntu bionic/main amd64 fonts-dejavu-core all 2.37-1 [1,041 kB]\n",
            "Get:3 http://archive.ubuntu.com/ubuntu bionic/main amd64 fonts-dejavu-extra all 2.37-1 [1,953 kB]\n",
            "Get:4 http://archive.ubuntu.com/ubuntu bionic/main amd64 x11-utils amd64 7.7+3build1 [196 kB]\n",
            "Get:5 http://archive.ubuntu.com/ubuntu bionic/main amd64 libatk-wrapper-java all 0.33.3-20ubuntu0.1 [34.7 kB]\n",
            "Get:6 http://archive.ubuntu.com/ubuntu bionic/main amd64 libatk-wrapper-java-jni amd64 0.33.3-20ubuntu0.1 [28.3 kB]\n",
            "Get:7 http://archive.ubuntu.com/ubuntu bionic-updates/universe amd64 openjdk-8-jre-headless amd64 8u252-b09-1~18.04 [27.5 MB]\n",
            "Get:8 http://archive.ubuntu.com/ubuntu bionic-updates/universe amd64 openjdk-8-jre amd64 8u252-b09-1~18.04 [69.8 kB]\n",
            "Get:9 http://archive.ubuntu.com/ubuntu bionic-updates/universe amd64 openjdk-8-jdk-headless amd64 8u252-b09-1~18.04 [8,250 kB]\n",
            "Get:10 http://archive.ubuntu.com/ubuntu bionic-updates/universe amd64 openjdk-8-jdk amd64 8u252-b09-1~18.04 [1,622 kB]\n",
            "Fetched 40.7 MB in 1s (64.9 MB/s)\n",
            "Selecting previously unselected package libxxf86dga1:amd64.\n",
            "(Reading database ... 144379 files and directories currently installed.)\n",
            "Preparing to unpack .../0-libxxf86dga1_2%3a1.1.4-1_amd64.deb ...\n",
            "Unpacking libxxf86dga1:amd64 (2:1.1.4-1) ...\n",
            "Selecting previously unselected package fonts-dejavu-core.\n",
            "Preparing to unpack .../1-fonts-dejavu-core_2.37-1_all.deb ...\n",
            "Unpacking fonts-dejavu-core (2.37-1) ...\n",
            "Selecting previously unselected package fonts-dejavu-extra.\n",
            "Preparing to unpack .../2-fonts-dejavu-extra_2.37-1_all.deb ...\n",
            "Unpacking fonts-dejavu-extra (2.37-1) ...\n",
            "Selecting previously unselected package x11-utils.\n",
            "Preparing to unpack .../3-x11-utils_7.7+3build1_amd64.deb ...\n",
            "Unpacking x11-utils (7.7+3build1) ...\n",
            "Selecting previously unselected package libatk-wrapper-java.\n",
            "Preparing to unpack .../4-libatk-wrapper-java_0.33.3-20ubuntu0.1_all.deb ...\n",
            "Unpacking libatk-wrapper-java (0.33.3-20ubuntu0.1) ...\n",
            "Selecting previously unselected package libatk-wrapper-java-jni:amd64.\n",
            "Preparing to unpack .../5-libatk-wrapper-java-jni_0.33.3-20ubuntu0.1_amd64.deb ...\n",
            "Unpacking libatk-wrapper-java-jni:amd64 (0.33.3-20ubuntu0.1) ...\n",
            "Selecting previously unselected package openjdk-8-jre-headless:amd64.\n",
            "Preparing to unpack .../6-openjdk-8-jre-headless_8u252-b09-1~18.04_amd64.deb ...\n",
            "Unpacking openjdk-8-jre-headless:amd64 (8u252-b09-1~18.04) ...\n",
            "Selecting previously unselected package openjdk-8-jre:amd64.\n",
            "Preparing to unpack .../7-openjdk-8-jre_8u252-b09-1~18.04_amd64.deb ...\n",
            "Unpacking openjdk-8-jre:amd64 (8u252-b09-1~18.04) ...\n",
            "Selecting previously unselected package openjdk-8-jdk-headless:amd64.\n",
            "Preparing to unpack .../8-openjdk-8-jdk-headless_8u252-b09-1~18.04_amd64.deb ...\n",
            "Unpacking openjdk-8-jdk-headless:amd64 (8u252-b09-1~18.04) ...\n",
            "Selecting previously unselected package openjdk-8-jdk:amd64.\n",
            "Preparing to unpack .../9-openjdk-8-jdk_8u252-b09-1~18.04_amd64.deb ...\n",
            "Unpacking openjdk-8-jdk:amd64 (8u252-b09-1~18.04) ...\n",
            "Setting up fonts-dejavu-core (2.37-1) ...\n",
            "Setting up libxxf86dga1:amd64 (2:1.1.4-1) ...\n",
            "Setting up fonts-dejavu-extra (2.37-1) ...\n",
            "Setting up openjdk-8-jre-headless:amd64 (8u252-b09-1~18.04) ...\n",
            "update-alternatives: using /usr/lib/jvm/java-8-openjdk-amd64/jre/bin/orbd to provide /usr/bin/orbd (orbd) in auto mode\n",
            "update-alternatives: using /usr/lib/jvm/java-8-openjdk-amd64/jre/bin/servertool to provide /usr/bin/servertool (servertool) in auto mode\n",
            "update-alternatives: using /usr/lib/jvm/java-8-openjdk-amd64/jre/bin/tnameserv to provide /usr/bin/tnameserv (tnameserv) in auto mode\n",
            "Setting up openjdk-8-jdk-headless:amd64 (8u252-b09-1~18.04) ...\n",
            "update-alternatives: using /usr/lib/jvm/java-8-openjdk-amd64/bin/idlj to provide /usr/bin/idlj (idlj) in auto mode\n",
            "update-alternatives: using /usr/lib/jvm/java-8-openjdk-amd64/bin/wsimport to provide /usr/bin/wsimport (wsimport) in auto mode\n",
            "update-alternatives: using /usr/lib/jvm/java-8-openjdk-amd64/bin/jsadebugd to provide /usr/bin/jsadebugd (jsadebugd) in auto mode\n",
            "update-alternatives: using /usr/lib/jvm/java-8-openjdk-amd64/bin/native2ascii to provide /usr/bin/native2ascii (native2ascii) in auto mode\n",
            "update-alternatives: using /usr/lib/jvm/java-8-openjdk-amd64/bin/javah to provide /usr/bin/javah (javah) in auto mode\n",
            "update-alternatives: using /usr/lib/jvm/java-8-openjdk-amd64/bin/clhsdb to provide /usr/bin/clhsdb (clhsdb) in auto mode\n",
            "update-alternatives: using /usr/lib/jvm/java-8-openjdk-amd64/bin/extcheck to provide /usr/bin/extcheck (extcheck) in auto mode\n",
            "update-alternatives: using /usr/lib/jvm/java-8-openjdk-amd64/bin/hsdb to provide /usr/bin/hsdb (hsdb) in auto mode\n",
            "update-alternatives: using /usr/lib/jvm/java-8-openjdk-amd64/bin/schemagen to provide /usr/bin/schemagen (schemagen) in auto mode\n",
            "update-alternatives: using /usr/lib/jvm/java-8-openjdk-amd64/bin/xjc to provide /usr/bin/xjc (xjc) in auto mode\n",
            "update-alternatives: using /usr/lib/jvm/java-8-openjdk-amd64/bin/jhat to provide /usr/bin/jhat (jhat) in auto mode\n",
            "update-alternatives: using /usr/lib/jvm/java-8-openjdk-amd64/bin/wsgen to provide /usr/bin/wsgen (wsgen) in auto mode\n",
            "Setting up x11-utils (7.7+3build1) ...\n",
            "Setting up libatk-wrapper-java (0.33.3-20ubuntu0.1) ...\n",
            "Setting up libatk-wrapper-java-jni:amd64 (0.33.3-20ubuntu0.1) ...\n",
            "Setting up openjdk-8-jre:amd64 (8u252-b09-1~18.04) ...\n",
            "update-alternatives: using /usr/lib/jvm/java-8-openjdk-amd64/jre/bin/policytool to provide /usr/bin/policytool (policytool) in auto mode\n",
            "Setting up openjdk-8-jdk:amd64 (8u252-b09-1~18.04) ...\n",
            "update-alternatives: using /usr/lib/jvm/java-8-openjdk-amd64/bin/appletviewer to provide /usr/bin/appletviewer (appletviewer) in auto mode\n",
            "update-alternatives: using /usr/lib/jvm/java-8-openjdk-amd64/bin/jconsole to provide /usr/bin/jconsole (jconsole) in auto mode\n",
            "Processing triggers for man-db (2.8.3-2ubuntu0.1) ...\n",
            "Processing triggers for hicolor-icon-theme (0.17-2) ...\n",
            "Processing triggers for fontconfig (2.12.6-0ubuntu2) ...\n",
            "Processing triggers for mime-support (3.60ubuntu1) ...\n",
            "Processing triggers for libc-bin (2.27-3ubuntu1) ...\n",
            "/sbin/ldconfig.real: /usr/local/lib/python3.6/dist-packages/ideep4py/lib/libmkldnn.so.0 is not a symbolic link\n",
            "\n"
          ],
          "name": "stdout"
        }
      ]
    },
    {
      "cell_type": "code",
      "metadata": {
        "id": "hEUZsSJ3kvYH",
        "colab_type": "code",
        "colab": {}
      },
      "source": [
        "import os"
      ],
      "execution_count": null,
      "outputs": []
    },
    {
      "cell_type": "code",
      "metadata": {
        "id": "fiL4NyeulZ52",
        "colab_type": "code",
        "colab": {}
      },
      "source": [
        "os.environ[\"JAVA_HOME\"]=\"/usr/lib/jvm/java-8-openjdk-amd64\""
      ],
      "execution_count": null,
      "outputs": []
    },
    {
      "cell_type": "code",
      "metadata": {
        "id": "kyZAcQWCviG3",
        "colab_type": "code",
        "colab": {
          "base_uri": "https://localhost:8080/",
          "height": 34
        },
        "outputId": "dfa72d8b-d156-49ee-c067-a99403f99eae"
      },
      "source": [
        "!pwd"
      ],
      "execution_count": null,
      "outputs": [
        {
          "output_type": "stream",
          "text": [
            "/content\n"
          ],
          "name": "stdout"
        }
      ]
    },
    {
      "cell_type": "code",
      "metadata": {
        "id": "7zfvvNxyl_5d",
        "colab_type": "code",
        "colab": {
          "base_uri": "https://localhost:8080/",
          "height": 34
        },
        "outputId": "b63082c2-6e87-47b5-dd3b-f6e7577641e0"
      },
      "source": [
        "!echo $JAVA_HOME"
      ],
      "execution_count": null,
      "outputs": [
        {
          "output_type": "stream",
          "text": [
            "/usr/lib/jvm/java-8-openjdk-amd64\n"
          ],
          "name": "stdout"
        }
      ]
    },
    {
      "cell_type": "code",
      "metadata": {
        "id": "Iy1WOj9or-g6",
        "colab_type": "code",
        "colab": {
          "base_uri": "https://localhost:8080/",
          "height": 263
        },
        "outputId": "69427b28-f28d-40f9-8fb3-c1eebd05bd63"
      },
      "source": [
        "!pip install pyspark==2.4.4"
      ],
      "execution_count": null,
      "outputs": [
        {
          "output_type": "stream",
          "text": [
            "Collecting pyspark==2.4.4\n",
            "\u001b[?25l  Downloading https://files.pythonhosted.org/packages/87/21/f05c186f4ddb01d15d0ddc36ef4b7e3cedbeb6412274a41f26b55a650ee5/pyspark-2.4.4.tar.gz (215.7MB)\n",
            "\u001b[K     |████████████████████████████████| 215.7MB 54kB/s \n",
            "\u001b[?25hCollecting py4j==0.10.7\n",
            "\u001b[?25l  Downloading https://files.pythonhosted.org/packages/e3/53/c737818eb9a7dc32a7cd4f1396e787bd94200c3997c72c1dbe028587bd76/py4j-0.10.7-py2.py3-none-any.whl (197kB)\n",
            "\u001b[K     |████████████████████████████████| 204kB 45.7MB/s \n",
            "\u001b[?25hBuilding wheels for collected packages: pyspark\n",
            "  Building wheel for pyspark (setup.py) ... \u001b[?25l\u001b[?25hdone\n",
            "  Created wheel for pyspark: filename=pyspark-2.4.4-py2.py3-none-any.whl size=216130388 sha256=3e4eb0de4bf3785d1d7152010ea91c974bca3f6225f1a70c65f95ff7be3b3f2c\n",
            "  Stored in directory: /root/.cache/pip/wheels/ab/09/4d/0d184230058e654eb1b04467dbc1292f00eaa186544604b471\n",
            "Successfully built pyspark\n",
            "Installing collected packages: py4j, pyspark\n",
            "Successfully installed py4j-0.10.7 pyspark-2.4.4\n"
          ],
          "name": "stdout"
        }
      ]
    },
    {
      "cell_type": "markdown",
      "metadata": {
        "id": "xAMQ7JGrsAwf",
        "colab_type": "text"
      },
      "source": [
        "# New Section"
      ]
    },
    {
      "cell_type": "code",
      "metadata": {
        "id": "gJllMZ0rs3-Q",
        "colab_type": "code",
        "colab": {}
      },
      "source": [
        "import pyspark"
      ],
      "execution_count": null,
      "outputs": []
    },
    {
      "cell_type": "code",
      "metadata": {
        "id": "2n2KqGgps62B",
        "colab_type": "code",
        "colab": {}
      },
      "source": [
        "from pyspark import SparkContext\n",
        "from pyspark.sql import SparkSession"
      ],
      "execution_count": null,
      "outputs": []
    },
    {
      "cell_type": "code",
      "metadata": {
        "id": "RXx5np3atSwF",
        "colab_type": "code",
        "colab": {}
      },
      "source": [
        "myspark = SparkSession.builder \\\n",
        ".master(\"local[*]\") \\\n",
        ".appName(\"datta\") \\\n",
        ".config(\"spark.executor.memory\", \"6g\") \\\n",
        ".config(\"spark.driver.memory\", \"4g\") \\\n",
        ".getOrCreate()"
      ],
      "execution_count": null,
      "outputs": []
    },
    {
      "cell_type": "code",
      "metadata": {
        "id": "7GMebXdnskho",
        "colab_type": "code",
        "colab": {
          "base_uri": "https://localhost:8080/",
          "height": 124
        },
        "outputId": "1c7a8e69-5926-4475-ad04-8ae2028ab9c2"
      },
      "source": [
        "from google.colab import drive\n",
        "drive.mount('/content/drive')"
      ],
      "execution_count": null,
      "outputs": [
        {
          "output_type": "stream",
          "text": [
            "Go to this URL in a browser: https://accounts.google.com/o/oauth2/auth?client_id=947318989803-6bn6qk8qdgf4n4g3pfee6491hc0brc4i.apps.googleusercontent.com&redirect_uri=urn%3aietf%3awg%3aoauth%3a2.0%3aoob&response_type=code&scope=email%20https%3a%2f%2fwww.googleapis.com%2fauth%2fdocs.test%20https%3a%2f%2fwww.googleapis.com%2fauth%2fdrive%20https%3a%2f%2fwww.googleapis.com%2fauth%2fdrive.photos.readonly%20https%3a%2f%2fwww.googleapis.com%2fauth%2fpeopleapi.readonly\n",
            "\n",
            "Enter your authorization code:\n",
            "··········\n",
            "Mounted at /content/drive\n"
          ],
          "name": "stdout"
        }
      ]
    },
    {
      "cell_type": "code",
      "metadata": {
        "id": "9iWgWKYZuEsf",
        "colab_type": "code",
        "colab": {}
      },
      "source": [
        "df = myspark.read.csv(\"/content/sample_data/california_housing_train.csv\",header=True)"
      ],
      "execution_count": null,
      "outputs": []
    },
    {
      "cell_type": "code",
      "metadata": {
        "id": "kkHjDTTuu_Ni",
        "colab_type": "code",
        "colab": {
          "base_uri": "https://localhost:8080/",
          "height": 228
        },
        "outputId": "788ae27b-3cff-473a-fb85-2cbbb86b66af"
      },
      "source": [
        "df.show(5,False)"
      ],
      "execution_count": null,
      "outputs": [
        {
          "output_type": "stream",
          "text": [
            "+-----------+---------+------------------+-----------+--------------+-----------+----------+-------------+------------------+\n",
            "|longitude  |latitude |housing_median_age|total_rooms|total_bedrooms|population |households|median_income|median_house_value|\n",
            "+-----------+---------+------------------+-----------+--------------+-----------+----------+-------------+------------------+\n",
            "|-114.310000|34.190000|15.000000         |5612.000000|1283.000000   |1015.000000|472.000000|1.493600     |66900.000000      |\n",
            "|-114.470000|34.400000|19.000000         |7650.000000|1901.000000   |1129.000000|463.000000|1.820000     |80100.000000      |\n",
            "|-114.560000|33.690000|17.000000         |720.000000 |174.000000    |333.000000 |117.000000|1.650900     |85700.000000      |\n",
            "|-114.570000|33.640000|14.000000         |1501.000000|337.000000    |515.000000 |226.000000|3.191700     |73400.000000      |\n",
            "|-114.570000|33.570000|20.000000         |1454.000000|326.000000    |624.000000 |262.000000|1.925000     |65500.000000      |\n",
            "+-----------+---------+------------------+-----------+--------------+-----------+----------+-------------+------------------+\n",
            "only showing top 5 rows\n",
            "\n"
          ],
          "name": "stdout"
        }
      ]
    },
    {
      "cell_type": "code",
      "metadata": {
        "id": "FoiCIRmmcSja",
        "colab_type": "code",
        "colab": {
          "base_uri": "https://localhost:8080/",
          "height": 489
        },
        "outputId": "ce517eda-6f17-4f78-c49f-189d50e8334c"
      },
      "source": [
        "df.createOrReplaceTempView(\"parquetFile\")\n",
        "samplecsv = myspark.sql(\"SELECT * FROM parquetFile\")\n",
        "samplecsv.show()"
      ],
      "execution_count": null,
      "outputs": [
        {
          "output_type": "stream",
          "text": [
            "+-----------+---------+------------------+-----------+--------------+-----------+-----------+-------------+------------------+\n",
            "|  longitude| latitude|housing_median_age|total_rooms|total_bedrooms| population| households|median_income|median_house_value|\n",
            "+-----------+---------+------------------+-----------+--------------+-----------+-----------+-------------+------------------+\n",
            "|-114.310000|34.190000|         15.000000|5612.000000|   1283.000000|1015.000000| 472.000000|     1.493600|      66900.000000|\n",
            "|-114.470000|34.400000|         19.000000|7650.000000|   1901.000000|1129.000000| 463.000000|     1.820000|      80100.000000|\n",
            "|-114.560000|33.690000|         17.000000| 720.000000|    174.000000| 333.000000| 117.000000|     1.650900|      85700.000000|\n",
            "|-114.570000|33.640000|         14.000000|1501.000000|    337.000000| 515.000000| 226.000000|     3.191700|      73400.000000|\n",
            "|-114.570000|33.570000|         20.000000|1454.000000|    326.000000| 624.000000| 262.000000|     1.925000|      65500.000000|\n",
            "|-114.580000|33.630000|         29.000000|1387.000000|    236.000000| 671.000000| 239.000000|     3.343800|      74000.000000|\n",
            "|-114.580000|33.610000|         25.000000|2907.000000|    680.000000|1841.000000| 633.000000|     2.676800|      82400.000000|\n",
            "|-114.590000|34.830000|         41.000000| 812.000000|    168.000000| 375.000000| 158.000000|     1.708300|      48500.000000|\n",
            "|-114.590000|33.610000|         34.000000|4789.000000|   1175.000000|3134.000000|1056.000000|     2.178200|      58400.000000|\n",
            "|-114.600000|34.830000|         46.000000|1497.000000|    309.000000| 787.000000| 271.000000|     2.190800|      48100.000000|\n",
            "|-114.600000|33.620000|         16.000000|3741.000000|    801.000000|2434.000000| 824.000000|     2.679700|      86500.000000|\n",
            "|-114.600000|33.600000|         21.000000|1988.000000|    483.000000|1182.000000| 437.000000|     1.625000|      62000.000000|\n",
            "|-114.610000|34.840000|         48.000000|1291.000000|    248.000000| 580.000000| 211.000000|     2.157100|      48600.000000|\n",
            "|-114.610000|34.830000|         31.000000|2478.000000|    464.000000|1346.000000| 479.000000|     3.212000|      70400.000000|\n",
            "|-114.630000|32.760000|         15.000000|1448.000000|    378.000000| 949.000000| 300.000000|     0.858500|      45000.000000|\n",
            "|-114.650000|34.890000|         17.000000|2556.000000|    587.000000|1005.000000| 401.000000|     1.699100|      69100.000000|\n",
            "|-114.650000|33.600000|         28.000000|1678.000000|    322.000000| 666.000000| 256.000000|     2.965300|      94900.000000|\n",
            "|-114.650000|32.790000|         21.000000|  44.000000|     33.000000|  64.000000|  27.000000|     0.857100|      25000.000000|\n",
            "|-114.660000|32.740000|         17.000000|1388.000000|    386.000000| 775.000000| 320.000000|     1.204900|      44000.000000|\n",
            "|-114.670000|33.920000|         17.000000|  97.000000|     24.000000|  29.000000|  15.000000|     1.265600|      27500.000000|\n",
            "+-----------+---------+------------------+-----------+--------------+-----------+-----------+-------------+------------------+\n",
            "only showing top 20 rows\n",
            "\n"
          ],
          "name": "stdout"
        }
      ]
    },
    {
      "cell_type": "code",
      "metadata": {
        "id": "Y-5-HDSWvCIc",
        "colab_type": "code",
        "colab": {}
      },
      "source": [
        ""
      ],
      "execution_count": null,
      "outputs": []
    },
    {
      "cell_type": "code",
      "metadata": {
        "id": "eQpttZO3H96v",
        "colab_type": "code",
        "colab": {}
      },
      "source": [
        "from pyspark.sql.types import *\n",
        "from pyspark.sql.functions import *"
      ],
      "execution_count": null,
      "outputs": []
    },
    {
      "cell_type": "code",
      "metadata": {
        "id": "XALI7HFWHzn0",
        "colab_type": "code",
        "colab": {}
      },
      "source": [
        "table_schema = StructType([StructField('status', StringType(), True),\n",
        "                     StructField('txn_id', StringType(), True),\n",
        "                     StructField('trn_date',TimestampType(), True),\n",
        "                     StructField('fin_nfin', StringType(), True),\n",
        "                     StructField('proc_code', StringType(), True),\n",
        "                     StructField('resp_cpde', StringType(), True),\n",
        "                     StructField('state', StringType(), True),\n",
        "                     StructField('mob_no', StringType(), True)])"
      ],
      "execution_count": null,
      "outputs": []
    },
    {
      "cell_type": "code",
      "metadata": {
        "id": "U9JeG3bZvWO1",
        "colab_type": "code",
        "colab": {}
      },
      "source": [
        "df1 = myspark.read.csv(\"/content/drive/My Drive/Divefire/mb_out_large.csv\",schema=table_schema,sep=\",\")"
      ],
      "execution_count": null,
      "outputs": []
    },
    {
      "cell_type": "code",
      "metadata": {
        "id": "Y6QI2wWmEA67",
        "colab_type": "code",
        "colab": {
          "base_uri": "https://localhost:8080/",
          "height": 139
        },
        "outputId": "f496be49-3c7b-4d07-9d76-cbb4fc796f6b"
      },
      "source": [
        "df1.show(1)"
      ],
      "execution_count": null,
      "outputs": [
        {
          "output_type": "stream",
          "text": [
            "+---------+------------------+-------------------+--------------+--------------+---------+-----------+----------+\n",
            "|   status|            txn_id|           trn_date|      fin_nfin|     proc_code|resp_cpde|      state|    mob_no|\n",
            "+---------+------------------+-------------------+--------------+--------------+---------+-----------+----------+\n",
            "|COMPLETED|INBbxkrb7677446468|2019-05-26 20:42:26|Non-Financials|balanceInquiry|       00|Maharashtra|9945539882|\n",
            "+---------+------------------+-------------------+--------------+--------------+---------+-----------+----------+\n",
            "only showing top 1 row\n",
            "\n"
          ],
          "name": "stdout"
        }
      ]
    },
    {
      "cell_type": "code",
      "metadata": {
        "id": "ypicR58IWN3V",
        "colab_type": "code",
        "colab": {
          "base_uri": "https://localhost:8080/",
          "height": 191
        },
        "outputId": "46339f41-bb4b-4b07-d979-c224a438b951"
      },
      "source": [
        "df1.printSchema()"
      ],
      "execution_count": null,
      "outputs": [
        {
          "output_type": "stream",
          "text": [
            "root\n",
            " |-- status: string (nullable = true)\n",
            " |-- txn_id: string (nullable = true)\n",
            " |-- trn_date: timestamp (nullable = true)\n",
            " |-- fin_nfin: string (nullable = true)\n",
            " |-- proc_code: string (nullable = true)\n",
            " |-- resp_cpde: string (nullable = true)\n",
            " |-- state: string (nullable = true)\n",
            " |-- mob_no: string (nullable = true)\n",
            "\n"
          ],
          "name": "stdout"
        }
      ]
    },
    {
      "cell_type": "code",
      "metadata": {
        "id": "PhDat94cECr5",
        "colab_type": "code",
        "colab": {
          "base_uri": "https://localhost:8080/",
          "height": 489
        },
        "outputId": "1e9f50ba-50aa-411f-b4c9-c8d437a8bd77"
      },
      "source": [
        "df1.createOrReplaceTempView(\"csvfile\")\n",
        "bankdata = myspark.sql(\"SELECT *,cast(cast(trn_date as DATE) as STRING) as trn_date_part FROM csvfile\")\n",
        "bankdata.show()"
      ],
      "execution_count": null,
      "outputs": [
        {
          "output_type": "stream",
          "text": [
            "+---------+------------------+-------------------+--------------+-----------------+---------+--------------+----------+-------------+\n",
            "|   status|            txn_id|           trn_date|      fin_nfin|        proc_code|resp_cpde|         state|    mob_no|trn_date_part|\n",
            "+---------+------------------+-------------------+--------------+-----------------+---------+--------------+----------+-------------+\n",
            "|COMPLETED|INBbxkrb7677446468|2019-05-26 20:42:26|Non-Financials|   balanceInquiry|       00|   Maharashtra|9945539882|   2019-05-26|\n",
            "|COMPLETED|INBpmcbm7874430557|2019-05-17 05:30:54|    Financials|     fundTransfer|       00|   Maharashtra|9991940167|   2019-05-17|\n",
            "|COMPLETED|INBycnbh3838184217|2019-05-19 06:52:02|    Financials|     fundTransfer|       00|   Maharashtra|9998664135|   2019-05-19|\n",
            "|   FAILED|INBlevml0264925092|2019-05-18 05:53:07|    Financials|     fundTransfer|       96|   Maharashtra|9997491417|   2019-05-18|\n",
            "|COMPLETED|INBkovsp0528222721|2019-05-27 19:16:44|Non-Financials|   balanceInquiry|       00|    Tamil Nadu|9990054108|   2019-05-27|\n",
            "|COMPLETED|INBelmpy0845924917|2019-05-08 10:28:27|Non-Financials|   balanceInquiry|       00|   Maharashtra|9967286093|   2019-05-08|\n",
            "|COMPLETED|INBtdrut5221005029|2019-05-24 12:58:30|Non-Financials|CHANGE_MPIN_MTPIN|       00|        Kerala|9965205492|   2019-05-24|\n",
            "|COMPLETED|INBgdovs6547070178|2019-05-28 09:29:01|Non-Financials|CHANGE_MPIN_MTPIN|       00|   Maharashtra|9944474766|   2019-05-28|\n",
            "|COMPLETED|INBoialc6841563565|2019-05-03 09:05:30|    Financials|     fundTransfer|       00|     Karnataka|9909313598|   2019-05-03|\n",
            "|COMPLETED|INBqakai6783168890|2019-05-26 17:35:06|    Financials|     fundTransfer|       00|   Maharashtra|9912817454|   2019-05-26|\n",
            "|   FAILED|INBpdybx8044532205|2019-05-26 04:05:31|    Financials|      neftRequest|       96|    Tamil Nadu|9976027893|   2019-05-26|\n",
            "|COMPLETED|INBomzze7600111266|2019-05-13 16:41:28|    Financials|     fundTransfer|       00|    Tamil Nadu|9949757514|   2019-05-13|\n",
            "|COMPLETED|INBnomii0493145305|2019-05-06 07:43:54|Non-Financials|   balanceInquiry|       00|           Goa|9989138977|   2019-05-06|\n",
            "|COMPLETED|INByoptd2087456435|2019-05-19 05:50:06|    Financials|     fundTransfer|       00|   Maharashtra|9935041880|   2019-05-19|\n",
            "|   FAILED|INBcopte9368483615|2019-05-19 03:43:01|Non-Financials|   balanceInquiry|      101|        Kerala|9979324140|   2019-05-19|\n",
            "|COMPLETED|INBisell0458853629|2019-05-12 10:56:07|    Financials|     fundTransfer|       00|    Tamil Nadu|9920214562|   2019-05-12|\n",
            "|COMPLETED|INBktvfv9229756088|2019-05-06 22:04:00|Non-Financials|   balanceInquiry|       00|Madhya Pradesh|9991664370|   2019-05-06|\n",
            "|COMPLETED|INBypikd9676387038|2019-05-16 14:01:53|    Financials|     fundTransfer|       00|Andhra Pradesh|9972557303|   2019-05-16|\n",
            "|COMPLETED|INBeelxf5010595515|2019-05-26 11:48:36|    Financials|GETPAYMENTDETAILS|       00|   Maharashtra|9937263202|   2019-05-26|\n",
            "|COMPLETED|INBiexmj6499909190|2019-05-21 03:51:27|    Financials|     fundTransfer|       00|        Kerala|9974682974|   2019-05-21|\n",
            "+---------+------------------+-------------------+--------------+-----------------+---------+--------------+----------+-------------+\n",
            "only showing top 20 rows\n",
            "\n"
          ],
          "name": "stdout"
        }
      ]
    },
    {
      "cell_type": "code",
      "metadata": {
        "id": "jReemmKvhDdz",
        "colab_type": "code",
        "colab": {
          "base_uri": "https://localhost:8080/",
          "height": 208
        },
        "outputId": "0f177b20-d163-414c-f80f-ba7c2b7c5377"
      },
      "source": [
        "bankdata.printSchema()"
      ],
      "execution_count": null,
      "outputs": [
        {
          "output_type": "stream",
          "text": [
            "root\n",
            " |-- status: string (nullable = true)\n",
            " |-- txn_id: string (nullable = true)\n",
            " |-- trn_date: timestamp (nullable = true)\n",
            " |-- fin_nfin: string (nullable = true)\n",
            " |-- proc_code: string (nullable = true)\n",
            " |-- resp_cpde: string (nullable = true)\n",
            " |-- state: string (nullable = true)\n",
            " |-- mob_no: string (nullable = true)\n",
            " |-- trn_date_part: string (nullable = true)\n",
            "\n"
          ],
          "name": "stdout"
        }
      ]
    },
    {
      "cell_type": "code",
      "metadata": {
        "id": "NpNzY3GLFDAm",
        "colab_type": "code",
        "colab": {}
      },
      "source": [
        "bankdata.write.mode(\"overwrite\").partitionBy(\"trn_date_part\").parquet(\"/content/datta_parquet1/out\")"
      ],
      "execution_count": null,
      "outputs": []
    },
    {
      "cell_type": "code",
      "metadata": {
        "id": "5PKDQI8IduVy",
        "colab_type": "code",
        "colab": {}
      },
      "source": [
        "parquetFile = myspark.read.parquet(\"/content/datta_parquet1/out\")"
      ],
      "execution_count": null,
      "outputs": []
    },
    {
      "cell_type": "code",
      "metadata": {
        "id": "tXmjTi1UduTV",
        "colab_type": "code",
        "colab": {
          "base_uri": "https://localhost:8080/",
          "height": 489
        },
        "outputId": "335c994f-5da6-48dc-9695-715af9455037"
      },
      "source": [
        "parquetFile.show()"
      ],
      "execution_count": null,
      "outputs": [
        {
          "output_type": "stream",
          "text": [
            "+---------+------------------+-------------------+--------------+-----------------+---------+--------------+----------+-------------+\n",
            "|   status|            txn_id|           trn_date|      fin_nfin|        proc_code|resp_cpde|         state|    mob_no|trn_date_part|\n",
            "+---------+------------------+-------------------+--------------+-----------------+---------+--------------+----------+-------------+\n",
            "|COMPLETED|INBjnyax8407463428|2019-05-11 03:35:28|Non-Financials|   balanceInquiry|       00|   Maharashtra|9935844951|   2019-05-11|\n",
            "|COMPLETED|INButbxt3703655342|2019-05-11 06:36:16|Non-Financials|stopChequeRequest|       00|   Maharashtra|9906117253|   2019-05-11|\n",
            "|COMPLETED|INBjuqkj4734676844|2019-05-11 20:54:17|    Financials|     fundTransfer|       00|   Maharashtra|9988826560|   2019-05-11|\n",
            "|   FAILED|INBhasld6980542147|2019-05-11 13:14:38|    Financials|     fundTransfer|      200|   Maharashtra|9945420243|   2019-05-11|\n",
            "|COMPLETED|INBbcepz7869807822|2019-05-11 08:28:24|Non-Financials|   balanceInquiry|       00|   Maharashtra|9960547923|   2019-05-11|\n",
            "|   FAILED|INBjnfdz4852965634|2019-05-11 10:26:49|    Financials|      neftRequest|        6|     Karnataka|9998790953|   2019-05-11|\n",
            "|COMPLETED|INBeekju7643425665|2019-05-11 00:46:28|Non-Financials|CHANGE_MPIN_MTPIN|       00|   Maharashtra|9991314499|   2019-05-11|\n",
            "|COMPLETED|INBuuieg3976114461|2019-05-11 10:45:06|    Financials|     fundTransfer|       00|   Maharashtra|9974580978|   2019-05-11|\n",
            "|COMPLETED|INBmjvuo3493640970|2019-05-11 09:54:09|    Financials|     fundTransfer|       00|     Rajasthan|9912663961|   2019-05-11|\n",
            "|COMPLETED|INBnljnf9817111262|2019-05-11 01:08:31|Non-Financials|   balanceInquiry|       00|     Karnataka|9904527259|   2019-05-11|\n",
            "|COMPLETED|INBbhuhz6645109265|2019-05-11 01:42:35|    Financials|GETPAYMENTDETAILS|       00|        Kerala|9904913591|   2019-05-11|\n",
            "|COMPLETED|INBfjkwd6921174734|2019-05-11 20:44:44|Non-Financials|CHANGE_MPIN_MTPIN|       00|Andhra Pradesh|9953727415|   2019-05-11|\n",
            "|COMPLETED|INBaitpu8781136155|2019-05-11 11:32:50|Non-Financials|   balanceInquiry|       00|    Tamil Nadu|9968693905|   2019-05-11|\n",
            "|COMPLETED|INBujysd2522688855|2019-05-11 05:58:06|Non-Financials|   balanceInquiry|       00|   Maharashtra|9996364999|   2019-05-11|\n",
            "|COMPLETED|INBkeydi9315763066|2019-05-11 10:40:58|Non-Financials|CHANGE_MPIN_MTPIN|       00|   Maharashtra|9989503026|   2019-05-11|\n",
            "|COMPLETED|INBstddq8396054233|2019-05-11 14:20:32|    Financials|     fundTransfer|       00|     Rajasthan|9931232810|   2019-05-11|\n",
            "|COMPLETED|INBursbm9641641575|2019-05-11 13:31:44|    Financials|      neftRequest|       00|   Maharashtra|9988867777|   2019-05-11|\n",
            "|COMPLETED|INBfwivm1022312308|2019-05-11 18:55:53|Non-Financials|CHANGE_MPIN_MTPIN|       00|        Kerala|9937652367|   2019-05-11|\n",
            "|COMPLETED|INBwnlqe5484139728|2019-05-11 07:36:17|    Financials|     fundTransfer|       00|Madhya Pradesh|9900679837|   2019-05-11|\n",
            "|COMPLETED|INBnkkaw4583008703|2019-05-11 14:03:02|    Financials|     fundTransfer|       00|Andhra Pradesh|9925502748|   2019-05-11|\n",
            "+---------+------------------+-------------------+--------------+-----------------+---------+--------------+----------+-------------+\n",
            "only showing top 20 rows\n",
            "\n"
          ],
          "name": "stdout"
        }
      ]
    },
    {
      "cell_type": "code",
      "metadata": {
        "id": "kxPCuU3jKYB1",
        "colab_type": "code",
        "colab": {
          "base_uri": "https://localhost:8080/",
          "height": 489
        },
        "outputId": "adadee45-6ff5-494d-b484-0e2ebef8a53e"
      },
      "source": [
        "parquetFile.filter((col(\"status\")==\"COMPLETED\") & (col(\"state\")==\"Maharashtra\")).show()"
      ],
      "execution_count": null,
      "outputs": [
        {
          "output_type": "stream",
          "text": [
            "+---------+------------------+-------------------+--------------+-----------------+---------+-----------+----------+-------------+\n",
            "|   status|            txn_id|           trn_date|      fin_nfin|        proc_code|resp_cpde|      state|    mob_no|trn_date_part|\n",
            "+---------+------------------+-------------------+--------------+-----------------+---------+-----------+----------+-------------+\n",
            "|COMPLETED|INBjnyax8407463428|2019-05-11 03:35:28|Non-Financials|   balanceInquiry|       00|Maharashtra|9935844951|   2019-05-11|\n",
            "|COMPLETED|INButbxt3703655342|2019-05-11 06:36:16|Non-Financials|stopChequeRequest|       00|Maharashtra|9906117253|   2019-05-11|\n",
            "|COMPLETED|INBjuqkj4734676844|2019-05-11 20:54:17|    Financials|     fundTransfer|       00|Maharashtra|9988826560|   2019-05-11|\n",
            "|COMPLETED|INBbcepz7869807822|2019-05-11 08:28:24|Non-Financials|   balanceInquiry|       00|Maharashtra|9960547923|   2019-05-11|\n",
            "|COMPLETED|INBeekju7643425665|2019-05-11 00:46:28|Non-Financials|CHANGE_MPIN_MTPIN|       00|Maharashtra|9991314499|   2019-05-11|\n",
            "|COMPLETED|INBuuieg3976114461|2019-05-11 10:45:06|    Financials|     fundTransfer|       00|Maharashtra|9974580978|   2019-05-11|\n",
            "|COMPLETED|INBujysd2522688855|2019-05-11 05:58:06|Non-Financials|   balanceInquiry|       00|Maharashtra|9996364999|   2019-05-11|\n",
            "|COMPLETED|INBkeydi9315763066|2019-05-11 10:40:58|Non-Financials|CHANGE_MPIN_MTPIN|       00|Maharashtra|9989503026|   2019-05-11|\n",
            "|COMPLETED|INBursbm9641641575|2019-05-11 13:31:44|    Financials|      neftRequest|       00|Maharashtra|9988867777|   2019-05-11|\n",
            "|COMPLETED|INBfzuyi0284572895|2019-05-11 11:40:44|Non-Financials|  ATOMBILLPAYMENT|       00|Maharashtra|9911936161|   2019-05-11|\n",
            "|COMPLETED|INBmhbcc0907953428|2019-05-11 19:07:42|Non-Financials|   balanceInquiry|       00|Maharashtra|9993642705|   2019-05-11|\n",
            "|COMPLETED|INBxbzzw9313870419|2019-05-11 04:51:03|    Financials|     fundTransfer|       00|Maharashtra|9905716580|   2019-05-11|\n",
            "|COMPLETED|INBjyfgk5835666835|2019-05-11 08:26:07|Non-Financials|   balanceInquiry|       00|Maharashtra|9905444965|   2019-05-11|\n",
            "|COMPLETED|INBkoaqk7288100400|2019-05-11 22:55:27|Non-Financials|   balanceInquiry|       00|Maharashtra|9906602593|   2019-05-11|\n",
            "|COMPLETED|INBhxonq5598724016|2019-05-11 00:57:19|Non-Financials|   ADDBENEFICIARY|       00|Maharashtra|9917781669|   2019-05-11|\n",
            "|COMPLETED|INBpdefe0887014136|2019-05-11 02:42:44|    Financials|     fundTransfer|       00|Maharashtra|9960744123|   2019-05-11|\n",
            "|COMPLETED|INBqbggs0646635831|2019-05-11 18:46:01|    Financials|     fundTransfer|       00|Maharashtra|9980091957|   2019-05-11|\n",
            "|COMPLETED|INBpzeqi9433091176|2019-05-11 21:55:16|Non-Financials|       CANCELMMID|       00|Maharashtra|9908557481|   2019-05-11|\n",
            "|COMPLETED|INBszfoh8920468155|2019-05-11 03:28:11|Non-Financials|CHANGE_MPIN_MTPIN|       00|Maharashtra|9976332907|   2019-05-11|\n",
            "|COMPLETED|INBwegxn7890463703|2019-05-11 13:35:40|    Financials|     fundTransfer|       00|Maharashtra|9954163504|   2019-05-11|\n",
            "+---------+------------------+-------------------+--------------+-----------------+---------+-----------+----------+-------------+\n",
            "only showing top 20 rows\n",
            "\n"
          ],
          "name": "stdout"
        }
      ]
    },
    {
      "cell_type": "code",
      "metadata": {
        "id": "Dc3bFDvrp6xX",
        "colab_type": "code",
        "colab": {
          "base_uri": "https://localhost:8080/",
          "height": 34
        },
        "outputId": "2d691ac8-bfe1-4ec3-8799-40f0b2af5e93"
      },
      "source": [
        "parquetFile.cache().count()"
      ],
      "execution_count": null,
      "outputs": [
        {
          "output_type": "execute_result",
          "data": {
            "text/plain": [
              "999999"
            ]
          },
          "metadata": {
            "tags": []
          },
          "execution_count": 25
        }
      ]
    },
    {
      "cell_type": "code",
      "metadata": {
        "id": "CTrey5aIuJFi",
        "colab_type": "code",
        "colab": {}
      },
      "source": [
        ""
      ],
      "execution_count": null,
      "outputs": []
    },
    {
      "cell_type": "code",
      "metadata": {
        "id": "O8Kv5y0quP32",
        "colab_type": "code",
        "colab": {
          "base_uri": "https://localhost:8080/",
          "height": 469
        },
        "outputId": "9aa5203d-80e2-4ce6-b597-8617f6a52083"
      },
      "source": [
        "parquetFile.groupBy([\"state\",\"status\"]).count().collect()"
      ],
      "execution_count": null,
      "outputs": [
        {
          "output_type": "execute_result",
          "data": {
            "text/plain": [
              "[Row(state='Rajasthan', status='COMPLETED', count=11100),\n",
              " Row(state='Andhra Pradesh', status='FAILED', count=16054),\n",
              " Row(state='Tamil Nadu', status='FAILED', count=19802),\n",
              " Row(state='Maharashtra', status='FAILED', count=100023),\n",
              " Row(state='Maharashtra', status='COMPLETED', count=399703),\n",
              " Row(state='Karnataka', status='COMPLETED', count=64246),\n",
              " Row(state='Goa', status='FAILED', count=10122),\n",
              " Row(state='Madhya Pradesh', status='FAILED', count=4026),\n",
              " Row(state='Karnataka', status='FAILED', count=15836),\n",
              " Row(state='Andhra Pradesh', status='COMPLETED', count=63938),\n",
              " Row(state='Gujarat', status='COMPLETED', count=39928),\n",
              " Row(state='Goa', status='COMPLETED', count=40274),\n",
              " Row(state='Assam', status='FAILED', count=1008),\n",
              " Row(state='West Bengal', status='COMPLETED', count=3892),\n",
              " Row(state='Punjab', status='FAILED', count=195),\n",
              " Row(state='Haryana', status='FAILED', count=1013),\n",
              " Row(state='Assam', status='COMPLETED', count=3950),\n",
              " Row(state='Madhya Pradesh', status='COMPLETED', count=15937),\n",
              " Row(state='Haryana', status='COMPLETED', count=3884),\n",
              " Row(state='Gujarat', status='FAILED', count=10094),\n",
              " Row(state='Kerala', status='COMPLETED', count=72191),\n",
              " Row(state='West Bengal', status='FAILED', count=1012),\n",
              " Row(state='Punjab', status='COMPLETED', count=833),\n",
              " Row(state='Tamil Nadu', status='COMPLETED', count=80008),\n",
              " Row(state='Kerala', status='FAILED', count=18127),\n",
              " Row(state='Rajasthan', status='FAILED', count=2803)]"
            ]
          },
          "metadata": {
            "tags": []
          },
          "execution_count": 26
        }
      ]
    },
    {
      "cell_type": "code",
      "metadata": {
        "id": "BCDUTCfwuuEZ",
        "colab_type": "code",
        "colab": {
          "base_uri": "https://localhost:8080/",
          "height": 54
        },
        "outputId": "f365bab6-2faf-4b37-a0d0-e6b4b141cb19"
      },
      "source": [
        "parquetFile.unpersist()"
      ],
      "execution_count": null,
      "outputs": [
        {
          "output_type": "execute_result",
          "data": {
            "text/plain": [
              "DataFrame[status: string, txn_id: string, trn_date: timestamp, fin_nfin: string, proc_code: string, resp_cpde: string, state: string, mob_no: string, trn_date_part: date]"
            ]
          },
          "metadata": {
            "tags": []
          },
          "execution_count": 27
        }
      ]
    },
    {
      "cell_type": "code",
      "metadata": {
        "id": "fBIJluZFvM8L",
        "colab_type": "code",
        "colab": {}
      },
      "source": [
        "myspark.stop()"
      ],
      "execution_count": null,
      "outputs": []
    },
    {
      "cell_type": "code",
      "metadata": {
        "id": "gznTTTQr0JKG",
        "colab_type": "code",
        "colab": {}
      },
      "source": [
        ""
      ],
      "execution_count": null,
      "outputs": []
    }
  ]
}