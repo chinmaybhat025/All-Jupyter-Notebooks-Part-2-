{
 "cells": [
  {
   "cell_type": "code",
   "execution_count": 1,
   "metadata": {},
   "outputs": [
    {
     "name": "stdout",
     "output_type": "stream",
     "text": [
      "6 3\n",
      "[1, 8, 2, 6, 4, 12]\n",
      "19\n"
     ]
    }
   ],
   "source": [
    "lst =[1,8,2,6,4,12]\n",
    "print(len(lst),end=' ')\n",
    "k=int(input())\n",
    "print(lst)\n",
    "new_lst=lst.sort()\n",
    "max_total=(lst[-1]+lst[-2]+lst[-3])\n",
    "min_total=(lst[0]+lst[1]+lst[2])\n",
    "difference=max_total-min_total\n",
    "print(difference)"
   ]
  },
  {
   "cell_type": "code",
   "execution_count": null,
   "metadata": {},
   "outputs": [],
   "source": []
  }
 ],
 "metadata": {
  "kernelspec": {
   "display_name": "Python 3",
   "language": "python",
   "name": "python3"
  },
  "language_info": {
   "codemirror_mode": {
    "name": "ipython",
    "version": 3
   },
   "file_extension": ".py",
   "mimetype": "text/x-python",
   "name": "python",
   "nbconvert_exporter": "python",
   "pygments_lexer": "ipython3",
   "version": "3.7.4"
  }
 },
 "nbformat": 4,
 "nbformat_minor": 2
}
