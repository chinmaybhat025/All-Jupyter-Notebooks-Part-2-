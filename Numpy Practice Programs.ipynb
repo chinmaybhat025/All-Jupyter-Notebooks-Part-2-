{
 "cells": [
  {
   "cell_type": "markdown",
   "metadata": {},
   "source": [
    "## Q.1)Find the rows for which the first value (value in position 0) in the row is greater than 2."
   ]
  },
  {
   "cell_type": "code",
   "execution_count": 4,
   "metadata": {},
   "outputs": [
    {
     "name": "stdout",
     "output_type": "stream",
     "text": [
      "Original array: \n",
      "[[1 2 4 3]\n",
      " [3 5 4 2]\n",
      " [4 6 1 7]\n",
      " [5 3 3 1]\n",
      " [0 4 3 2]\n",
      " [1 9 8 3]]\n",
      "Values bigger than 2 = [4 3 3 5 4 4 6 7 5 3 3 4 3 9 8 3]\n",
      "Their indices are  (array([0, 0, 1, 1, 1, 2, 2, 2, 3, 3, 3, 4, 4, 5, 5, 5], dtype=int64), array([2, 3, 0, 1, 2, 0, 1, 3, 0, 1, 2, 1, 2, 1, 2, 3], dtype=int64))\n"
     ]
    }
   ],
   "source": [
    "import numpy as np\n",
    "example_list = np.array([[1, 2, 4, 3],[3, 5, 4 ,2],[4, 6, 1, 7],[5, 3, 3, 1],[0, 4, 3, 2], [1 ,9 ,8,3]])\n",
    "print(\"Original array: \")\n",
    "print(example_list)\n",
    "print(\"Values bigger than 2 =\", example_list[example_list>2])\n",
    "print(\"Their indices are \", np.nonzero(example_list > 2))"
   ]
  },
  {
   "cell_type": "markdown",
   "metadata": {},
   "source": [
    "## Q.2)Find the rows where the element in position 2 in the row equals 4."
   ]
  },
  {
   "cell_type": "code",
   "execution_count": 17,
   "metadata": {},
   "outputs": [
    {
     "name": "stdout",
     "output_type": "stream",
     "text": [
      "Tuple of arrays returned :  (array([4], dtype=int64), array([0], dtype=int64))\n"
     ]
    }
   ],
   "source": [
    "import numpy as np\n",
    "arr = np.array([[1, 2, 4, 3],[3, 5, 4 ,2],[4, 6, 1, 7],[5, 3, 3, 1],[0, 4, 3, 2], [1 ,9 ,8,3]])\n",
    "result = np.where(arr[:,1:2] == 4)\n",
    "print('Tuple of arrays returned : ', result)"
   ]
  },
  {
   "cell_type": "markdown",
   "metadata": {},
   "source": [
    "## Q.3)Create a 5x5 array with random values and find the minimum and\n",
    "## maximum values."
   ]
  },
  {
   "cell_type": "code",
   "execution_count": 2,
   "metadata": {},
   "outputs": [
    {
     "name": "stdout",
     "output_type": "stream",
     "text": [
      "Original Array:\n",
      "[[0.7060315  0.3605065  0.47938088 0.05688083 0.82179114]\n",
      " [0.80786025 0.61287212 0.50847068 0.0330736  0.01367164]\n",
      " [0.85866321 0.59059634 0.63224432 0.56056855 0.85431883]\n",
      " [0.05042365 0.72935044 0.91197131 0.95432215 0.70626771]\n",
      " [0.17224659 0.9348302  0.45762204 0.55789169 0.48573032]\n",
      " [0.65139701 0.00884242 0.28580439 0.4270445  0.78811297]\n",
      " [0.7602606  0.07593328 0.52564576 0.79104036 0.8430644 ]\n",
      " [0.61199544 0.93444196 0.01926292 0.15326731 0.04094628]\n",
      " [0.82819454 0.61714442 0.18452371 0.52341078 0.26043948]\n",
      " [0.62328939 0.51169794 0.05103091 0.71459676 0.18816402]]\n",
      "Minimum and Maximum Values:\n",
      "0.00884241813755271 0.9543221464441293\n"
     ]
    }
   ],
   "source": [
    "import numpy as np\n",
    "x = np.random.random((10,5))\n",
    "print(\"Original Array:\")\n",
    "print(x) \n",
    "xmin, xmax = x.min(), x.max()\n",
    "print(\"Minimum and Maximum Values:\")\n",
    "print(xmin, xmax)"
   ]
  },
  {
   "cell_type": "markdown",
   "metadata": {},
   "source": [
    "## Q.4)Check whether the two arrays are equal: ar_list1=[3,4,5] ;\n",
    "## ar_list2=[3,5,4]"
   ]
  },
  {
   "cell_type": "code",
   "execution_count": 3,
   "metadata": {},
   "outputs": [
    {
     "data": {
      "text/plain": [
       "False"
      ]
     },
     "execution_count": 3,
     "metadata": {},
     "output_type": "execute_result"
    }
   ],
   "source": [
    "import numpy as np\n",
    "np.array_equal(np.array([3,4,5]), np.array([3,5,4]))"
   ]
  },
  {
   "cell_type": "markdown",
   "metadata": {},
   "source": [
    "## Q.5)Create a random 10x4 array and extract the first five rows of the array\n",
    "## and store them into a variable."
   ]
  },
  {
   "cell_type": "code",
   "execution_count": 5,
   "metadata": {},
   "outputs": [
    {
     "name": "stdout",
     "output_type": "stream",
     "text": [
      "First 5 rows of the above array:\n",
      "[[0.40297925 0.24018061 0.06390841 0.62903242]\n",
      " [0.2033726  0.27114424 0.09295752 0.10987479]\n",
      " [0.64234949 0.45538774 0.02711442 0.56726192]\n",
      " [0.26311243 0.25491863 0.17919717 0.07823663]\n",
      " [0.77622798 0.50283222 0.0105442  0.39652232]]\n"
     ]
    }
   ],
   "source": [
    "import numpy as np\n",
    "x = np.random.rand(10, 4)\n",
    "y= x[:5, :]\n",
    "print(\"First 5 rows of the above array:\")\n",
    "print(y)"
   ]
  },
  {
   "cell_type": "markdown",
   "metadata": {},
   "source": [
    "## Q.6)Create a random vector of size 10 and sort it in ascending and\n",
    "## descending."
   ]
  },
  {
   "cell_type": "code",
   "execution_count": 6,
   "metadata": {},
   "outputs": [
    {
     "name": "stdout",
     "output_type": "stream",
     "text": [
      "Sorted array:\n",
      "[0.06183916 0.07534066 0.15017735 0.20693859 0.3153095  0.49592206\n",
      " 0.59976204 0.60232591 0.65516062 0.99298138]\n"
     ]
    }
   ],
   "source": [
    "import numpy as np\n",
    "x = np.random.random(10)\n",
    "x.sort()\n",
    "print(\"Sorted array:\")\n",
    "print(x)"
   ]
  },
  {
   "cell_type": "markdown",
   "metadata": {},
   "source": [
    "## Q.7)Find the nearest value from a given value in an array:\n",
    "## example_list\n",
    "## = [[12,3,4],[6,7,4],[10,8,11]] & value is 7.8"
   ]
  },
  {
   "cell_type": "code",
   "execution_count": 14,
   "metadata": {},
   "outputs": [
    {
     "name": "stdout",
     "output_type": "stream",
     "text": [
      "The Nearest Value from a given value is: 8\n"
     ]
    }
   ],
   "source": [
    "import numpy as np\n",
    "x = np.array([[12,3,4],[6,7,4],[10,8,11]])\n",
    "v = 7.8\n",
    "n = x.flat[np.abs(x - v).argmin()]\n",
    "print(\"The Nearest Value from a given value is:\",n)"
   ]
  },
  {
   "cell_type": "markdown",
   "metadata": {},
   "source": [
    "## Q.8)Create a random vector of size 15 and replace the maximum value by -1."
   ]
  },
  {
   "cell_type": "code",
   "execution_count": 9,
   "metadata": {},
   "outputs": [
    {
     "name": "stdout",
     "output_type": "stream",
     "text": [
      "Original array:\n",
      "[0.24870829 0.02604333 0.77562238 0.8663989  0.58871489 0.44794979\n",
      " 0.77369596 0.07478251 0.98081085 0.54442376 0.08768939 0.0330782\n",
      " 0.51309724 0.22711196 0.40709567]\n",
      "Maximum value replaced by -1:\n",
      "[ 0.24870829  0.02604333  0.77562238  0.8663989   0.58871489  0.44794979\n",
      "  0.77369596  0.07478251 -1.          0.54442376  0.08768939  0.0330782\n",
      "  0.51309724  0.22711196  0.40709567]\n"
     ]
    }
   ],
   "source": [
    "import numpy as np\n",
    "x = np.random.random(15)\n",
    "print(\"Original array:\")\n",
    "print(x)\n",
    "x[x.argmax()] = -1\n",
    "print(\"Maximum value replaced by -1:\")\n",
    "print(x)"
   ]
  },
  {
   "cell_type": "code",
   "execution_count": null,
   "metadata": {},
   "outputs": [],
   "source": []
  }
 ],
 "metadata": {
  "kernelspec": {
   "display_name": "Python 3",
   "language": "python",
   "name": "python3"
  },
  "language_info": {
   "codemirror_mode": {
    "name": "ipython",
    "version": 3
   },
   "file_extension": ".py",
   "mimetype": "text/x-python",
   "name": "python",
   "nbconvert_exporter": "python",
   "pygments_lexer": "ipython3",
   "version": "3.7.3"
  }
 },
 "nbformat": 4,
 "nbformat_minor": 2
}
