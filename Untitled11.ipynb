{
 "cells": [
  {
   "cell_type": "code",
   "execution_count": 11,
   "metadata": {},
   "outputs": [
    {
     "name": "stdout",
     "output_type": "stream",
     "text": [
      "19\n"
     ]
    }
   ],
   "source": [
    "lst=[1,8,2,6,4,12]\n",
    "new_lst=lst.sort()\n",
    "max_total=lst[-1]+lst[-2]+lst[-3]\n",
    "min_total=lst[0]+lst[1]+lst[2]\n",
    "difference=max_total-min_total\n",
    "print(difference)"
   ]
  },
  {
   "cell_type": "code",
   "execution_count": 12,
   "metadata": {},
   "outputs": [
    {
     "name": "stdout",
     "output_type": "stream",
     "text": [
      "6 3\n",
      "[1, 8, 2, 6, 4, 12]\n",
      "19\n"
     ]
    }
   ],
   "source": [
    "lst =[1,8,2,6,4,12]\n",
    "print(len(lst),end=' ')\n",
    "k=int(input())\n",
    "print(lst)\n",
    "new_lst=lst.sort()\n",
    "max_total=(lst[-1]+lst[-2]+lst[-3])\n",
    "min_total=(lst[0]+lst[1]+lst[2])\n",
    "difference=max_total-min_total\n",
    "print(difference)"
   ]
  },
  {
   "cell_type": "code",
   "execution_count": null,
   "metadata": {},
   "outputs": [],
   "source": [
    "# creating an empty list \n",
    "lst = [] \n",
    "  \n",
    "# number of elemetns as input \n",
    "n = int(input(\"Enter number of elements : \")) \n",
    "  \n",
    "# iterating till the range \n",
    "for i in range(0, n): \n",
    "    ele = int(input()) \n",
    "  \n",
    "    lst.append(ele) # adding the element \n",
    "      \n",
    "#print(lst) \n",
    "k=int(input(\"Enter the number for which you want sum of the difference to be printed:\"))\n",
    "new_lst=lst.sort()\n",
    "max_total=lst[-k]+lst[-k+1]+lst[-k+2]\n",
    "min_total=lst[k-1]+lst[k-2]+lst[k-3]\n",
    "difference=max_total-min_total\n",
    "print(difference)"
   ]
  },
  {
   "cell_type": "code",
   "execution_count": 9,
   "metadata": {},
   "outputs": [
    {
     "name": "stdout",
     "output_type": "stream",
     "text": [
      "abcdef\n",
      "abcdef 3\n",
      "defghi"
     ]
    }
   ],
   "source": [
    "str1=input()\n",
    "print(str1,end=' ')\n",
    "n=int(input())\n",
    "if n==0:\n",
    "    print(str1.swapcase())\n",
    "else:\n",
    "    for i in range(0,len(str1)):\n",
    "        print(chr(ord(str1[i])+n),end='')"
   ]
  },
  {
   "cell_type": "code",
   "execution_count": 10,
   "metadata": {},
   "outputs": [
    {
     "name": "stdout",
     "output_type": "stream",
     "text": [
      "abcdef\n",
      "abcdef 3\n",
      "i"
     ]
    }
   ],
   "source": [
    "str1=input()\n",
    "print(str1,end=' ')\n",
    "n=int(input())\n",
    "if n==0:\n",
    "    print(str1.swapcase())\n",
    "else:\n",
    "    print(chr(ord(str1[i])+n),end='')"
   ]
  },
  {
   "cell_type": "code",
   "execution_count": null,
   "metadata": {},
   "outputs": [],
   "source": []
  }
 ],
 "metadata": {
  "kernelspec": {
   "display_name": "Python 3",
   "language": "python",
   "name": "python3"
  },
  "language_info": {
   "codemirror_mode": {
    "name": "ipython",
    "version": 3
   },
   "file_extension": ".py",
   "mimetype": "text/x-python",
   "name": "python",
   "nbconvert_exporter": "python",
   "pygments_lexer": "ipython3",
   "version": "3.7.4"
  }
 },
 "nbformat": 4,
 "nbformat_minor": 2
}
