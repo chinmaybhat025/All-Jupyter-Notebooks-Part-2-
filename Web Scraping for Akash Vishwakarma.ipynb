{
 "cells": [
  {
   "cell_type": "markdown",
   "metadata": {},
   "source": [
    "## Import Required libraries"
   ]
  },
  {
   "cell_type": "code",
   "execution_count": 1,
   "metadata": {},
   "outputs": [],
   "source": [
    "import scrapy\n",
    "from scrapy.linkextractors import LinkExtractor\n",
    "from scrapy.spiders import CrawlSpider, Rule\n",
    "from scrapy.selector import Selector\n",
    "from datetime import timedelta, date"
   ]
  },
  {
   "cell_type": "code",
   "execution_count": 2,
   "metadata": {},
   "outputs": [
    {
     "ename": "IndentationError",
     "evalue": "unexpected indent (<ipython-input-2-21c49aaa18e2>, line 12)",
     "output_type": "error",
     "traceback": [
      "\u001b[1;36m  File \u001b[1;32m\"<ipython-input-2-21c49aaa18e2>\"\u001b[1;36m, line \u001b[1;32m12\u001b[0m\n\u001b[1;33m    for single_date in daterange(start_date, end_date):\u001b[0m\n\u001b[1;37m    ^\u001b[0m\n\u001b[1;31mIndentationError\u001b[0m\u001b[1;31m:\u001b[0m unexpected indent\n"
     ]
    }
   ],
   "source": [
    "class example(CrawlSpider):\n",
    "    name = 'bexar'\n",
    "    allowed_domains = ['bexar.tx.publicsearch.us']\n",
    "    def daterange(start_date, end_date):\n",
    "        for n in range(int((end_date - start_date).days)):\n",
    "            yield start_date + timedelta(n)\n",
    "    start_date = date(2021,3,8)\n",
    "    end_date = date(2021,3,9)\n",
    "     \n",
    "    start_urls = 'https://bexar.tx.publicsearch.us/'\n",
    "\n",
    "        for single_date in daterange(start_date, end_date):\n",
    "            print(single_date.strftime(start_urls+\"%Y-%m-%d\"))\n",
    "        rules = (Rule(LinkExtractor(restrict_xpaths=\"//td[@class='example__example']/a\"), callback='parse_item', follow=True),)\n",
    "\n",
    "    "
   ]
  },
  {
   "cell_type": "code",
   "execution_count": 3,
   "metadata": {},
   "outputs": [
    {
     "ename": "IndentationError",
     "evalue": "unexpected indent (<ipython-input-3-e771c989423e>, line 3)",
     "output_type": "error",
     "traceback": [
      "\u001b[1;36m  File \u001b[1;32m\"<ipython-input-3-e771c989423e>\"\u001b[1;36m, line \u001b[1;32m3\u001b[0m\n\u001b[1;33m    def daterange(start_date, end_date):\u001b[0m\n\u001b[1;37m    ^\u001b[0m\n\u001b[1;31mIndentationError\u001b[0m\u001b[1;31m:\u001b[0m unexpected indent\n"
     ]
    }
   ],
   "source": [
    "from datetime import timedelta, date\n",
    "\n",
    "    def daterange(start_date, end_date):\n",
    "\n",
    "        for n in range(int((end_date - start_date).days)):\n",
    "\n",
    "            yield start_date + timedelta(n)\n",
    "\n",
    "    start_date = date(2021,3,8)\n",
    "\n",
    "    end_date = date(2021,3,9)\n",
    "\n",
    "    start_urls = []\n",
    "\n",
    "    start_url='https://bexar.tx.publicsearch.us/'\n",
    "\n",
    "    for single_date in daterange(start_date, end_date):\n",
    "\n",
    "        start_urls.append(single_date.strftime(start_url+\"%Y-%m-%d\"))"
   ]
  },
  {
   "cell_type": "code",
   "execution_count": null,
   "metadata": {},
   "outputs": [],
   "source": []
  }
 ],
 "metadata": {
  "kernelspec": {
   "display_name": "Python 3",
   "language": "python",
   "name": "python3"
  },
  "language_info": {
   "codemirror_mode": {
    "name": "ipython",
    "version": 3
   },
   "file_extension": ".py",
   "mimetype": "text/x-python",
   "name": "python",
   "nbconvert_exporter": "python",
   "pygments_lexer": "ipython3",
   "version": "3.7.4"
  }
 },
 "nbformat": 4,
 "nbformat_minor": 2
}
