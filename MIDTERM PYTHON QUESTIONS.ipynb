{
 "cells": [
  {
   "cell_type": "markdown",
   "metadata": {},
   "source": [
    "## 1. Write a Python program which accepts a sequence of comma-separated numbers from user and generate a list and a tuple with those numbers."
   ]
  },
  {
   "cell_type": "code",
   "execution_count": 22,
   "metadata": {},
   "outputs": [
    {
     "name": "stdout",
     "output_type": "stream",
     "text": [
      "Input some comma seprated numbers : 21 33 4 5 6\n",
      "List :  ['21 33 4 5 6']\n"
     ]
    }
   ],
   "source": [
    "values = input(\"Input some comma seprated numbers : \")\n",
    "list = values.split(\",\")\n",
    "tuple = tuple(list)\n",
    "print('List : ',list)\n",
    "print('Tuple : ',tuple)"
   ]
  },
  {
   "cell_type": "markdown",
   "metadata": {},
   "source": [
    "## 2. Write a Python program that accepts an integer (n) and computes the value of n+nn+nnn."
   ]
  },
  {
   "cell_type": "code",
   "execution_count": 2,
   "metadata": {},
   "outputs": [
    {
     "name": "stdout",
     "output_type": "stream",
     "text": [
      "Input an integer : 6\n",
      "738\n"
     ]
    }
   ],
   "source": [
    "a = int(input(\"Input an integer : \"))\n",
    "n1 = int( \"%s\" % a )\n",
    "n2 = int( \"%s%s\" % (a,a) )\n",
    "n3 = int( \"%s%s%s\" % (a,a,a) )\n",
    "print (n1+n2+n3)"
   ]
  },
  {
   "cell_type": "markdown",
   "metadata": {},
   "source": [
    "## 3. Write a Python program to get the difference between a given number and 17, if the number is greater than 17 return double the absolute difference."
   ]
  },
  {
   "cell_type": "code",
   "execution_count": 26,
   "metadata": {},
   "outputs": [
    {
     "name": "stdout",
     "output_type": "stream",
     "text": [
      "Enter the number: 55\n",
      "The difference is:  36\n"
     ]
    }
   ],
   "source": [
    "n = int(input(\"Enter the number: \"))\n",
    "if n<=17:\n",
    "    print(\"The difference is: \",abs(17-n))\n",
    "else:\n",
    "    print(\"The difference is: \",(n-17)^2)"
   ]
  },
  {
   "cell_type": "markdown",
   "metadata": {},
   "source": [
    "## 4. Write a Python program to test whether a number is within 100 of 1000 or 2000."
   ]
  },
  {
   "cell_type": "code",
   "execution_count": 28,
   "metadata": {},
   "outputs": [
    {
     "name": "stdout",
     "output_type": "stream",
     "text": [
      "Enter the number: 999\n",
      "The number lies in 100 of 1000.\n"
     ]
    }
   ],
   "source": [
    "n = int(input(\"Enter the number: \"))\n",
    "if n in range(900,1100):\n",
    "    print(\"The number lies in 100 of 1000.\")\n",
    "elif n in range(1900, 2100):\n",
    "    print(\"The number lies in 100 of 2000.\")\n",
    "else:\n",
    "    print(\"The number doesn't lies in the range.\")"
   ]
  },
  {
   "cell_type": "markdown",
   "metadata": {},
   "source": [
    "## 5. Write a Python program to calculate the sum of three given numbers, if the values are equal then return three times of their sum."
   ]
  },
  {
   "cell_type": "code",
   "execution_count": 34,
   "metadata": {},
   "outputs": [
    {
     "name": "stdout",
     "output_type": "stream",
     "text": [
      "Enter the first number: 5\n",
      "Enter the second number: 6\n",
      "Enter the third number: 7\n",
      "The sum is:  18\n"
     ]
    }
   ],
   "source": [
    "n1 = int(input(\"Enter the first number: \"))\n",
    "n2 = int(input(\"Enter the second number: \"))\n",
    "n3 = int(input(\"Enter the third number: \"))\n",
    "\n",
    "if n1 == n2 == n3:\n",
    "    sum = sum*3\n",
    "    print(\"The sum is: \",sum)\n",
    "else:\n",
    "    sum = n1+n2+n3\n",
    "    print(\"The sum is: \",sum )"
   ]
  },
  {
   "cell_type": "markdown",
   "metadata": {},
   "source": [
    "## 6.  Write a Python program to get a new string from a given string where \"Is\" has been added to the front. If the given string already begins with \"Is\" then return the string unchanged."
   ]
  },
  {
   "cell_type": "code",
   "execution_count": 44,
   "metadata": {},
   "outputs": [
    {
     "name": "stdout",
     "output_type": "stream",
     "text": [
      "Enter the string: is\n",
      "The string is:  is\n"
     ]
    }
   ],
   "source": [
    "str = input(\"Enter the string: \")\n",
    "if len(str) >= 2 and str[:2] == \"Is\" or \"is\":\n",
    "    print(\"The string is: \",str)\n",
    "else:\n",
    "    print(\"The string is: \",\"Is \" + str)"
   ]
  },
  {
   "cell_type": "markdown",
   "metadata": {},
   "source": [
    "## 7. Write a Python program to find whether a given number (accept from the user) is even or odd, print out an appropriate message to the user."
   ]
  },
  {
   "cell_type": "code",
   "execution_count": 45,
   "metadata": {},
   "outputs": [
    {
     "name": "stdout",
     "output_type": "stream",
     "text": [
      "Enter a number: 21\n",
      "The number is odd.\n"
     ]
    }
   ],
   "source": [
    "n = int(input(\"Enter a number: \"))\n",
    "if n%2 == 0:\n",
    "    print(\"The number is even.\")\n",
    "else:\n",
    "    print(\"The number is odd.\")"
   ]
  },
  {
   "cell_type": "markdown",
   "metadata": {},
   "source": [
    "## 8. Write a Python program to concatenate all elements in a list into a string and return it."
   ]
  },
  {
   "cell_type": "code",
   "execution_count": 46,
   "metadata": {},
   "outputs": [
    {
     "name": "stdout",
     "output_type": "stream",
     "text": [
      "1233456788\n"
     ]
    }
   ],
   "source": [
    "lis = [12,33,45,67,88]\n",
    "t = \"\"\n",
    "for i in lis:\n",
    "    t = t+str(i)\n",
    "print(t)"
   ]
  },
  {
   "cell_type": "markdown",
   "metadata": {},
   "source": [
    "## 9. Write a Python program to compute the greatest common divisor (GCD) of two positive integers."
   ]
  },
  {
   "cell_type": "code",
   "execution_count": 5,
   "metadata": {},
   "outputs": [
    {
     "name": "stdout",
     "output_type": "stream",
     "text": [
      "Enter first number:23\n",
      "Enter second number:31\n",
      "GCD is: \n",
      "1\n"
     ]
    }
   ],
   "source": [
    "def gcd(a,b):\n",
    "    if(b==0):\n",
    "        return a\n",
    "    else:\n",
    "        return gcd(b,a%b)\n",
    "a=int(input(\"Enter first number:\"))\n",
    "b=int(input(\"Enter second number:\"))\n",
    "GCD = gcd(a,b)\n",
    "print(\"GCD is: \")\n",
    "print(GCD)"
   ]
  },
  {
   "cell_type": "markdown",
   "metadata": {},
   "source": [
    "## 10. Write a Python program to get the least common multiple (LCM) of two positive integers."
   ]
  },
  {
   "cell_type": "code",
   "execution_count": 9,
   "metadata": {},
   "outputs": [
    {
     "name": "stdout",
     "output_type": "stream",
     "text": [
      "Enter the first number: 33\n",
      "Enter second number: 34\n",
      "The L.C.M. of 33 and 34 is 1122\n"
     ]
    }
   ],
   "source": [
    "def lcm(x, y):  \n",
    "    if x > y:\n",
    "        greater = x\n",
    "    else:\n",
    "        greater = y\n",
    " \n",
    "    while True:\n",
    "        if (greater % x == 0) and (greater % y == 0):\n",
    "            lcm_result = greater\n",
    "            break\n",
    "        greater += 1\n",
    " \n",
    "    return lcm_result\n",
    " \n",
    "\n",
    "num1 = int(input(\"Enter the first number: \"))\n",
    "num2 = int(input(\"Enter second number: \"))\n",
    " \n",
    "print(\"The L.C.M. of\", num1, \"and\", num2, \"is\", lcm(num1, num2))"
   ]
  },
  {
   "cell_type": "markdown",
   "metadata": {},
   "source": [
    "## 11. Write a Python program to sum of two given integers. However, if the sum is between 15 to 20 it will return 20."
   ]
  },
  {
   "cell_type": "code",
   "execution_count": 11,
   "metadata": {},
   "outputs": [
    {
     "name": "stdout",
     "output_type": "stream",
     "text": [
      "Enter the first number: 11\n",
      "Enter the second number: 8\n",
      "The number is:  20\n"
     ]
    }
   ],
   "source": [
    "x = int(input(\"Enter the first number: \"))\n",
    "y = int(input(\"Enter the second number: \"))\n",
    "\n",
    "sum = x+y\n",
    "\n",
    "if sum in range(15,20):\n",
    "    print(\"The number is: \",20)\n",
    "else:\n",
    "    print(\"The number is: \",sum)"
   ]
  },
  {
   "cell_type": "markdown",
   "metadata": {},
   "source": [
    "## 12. Write a Python program that will return true if the two given integer values are equal or their sum or difference is 5."
   ]
  },
  {
   "cell_type": "code",
   "execution_count": 19,
   "metadata": {},
   "outputs": [
    {
     "name": "stdout",
     "output_type": "stream",
     "text": [
      "Enter the first number: 9\n",
      "Enter the second number: 4\n",
      "true"
     ]
    }
   ],
   "source": [
    "x = int(input(\"Enter the first number: \"))\n",
    "y = int(input(\"Enter the second number: \"))\n",
    "\n",
    "sum = x+y\n",
    "dif = x-y\n",
    "\n",
    "if x == y:\n",
    "    print(\"true\",end=\"\")\n",
    "elif sum == 5:\n",
    "    print(\"true\",end=\"\")\n",
    "elif dif == 5:\n",
    "    print(\"true\",end=\"\")\n",
    "else:\n",
    "    print(\"false\",end=\"\")"
   ]
  },
  {
   "cell_type": "markdown",
   "metadata": {},
   "source": [
    "## 13. Write a Python program to take the user information for n students details like name, age, address and print them on different lines."
   ]
  },
  {
   "cell_type": "code",
   "execution_count": 9,
   "metadata": {},
   "outputs": [
    {
     "name": "stdout",
     "output_type": "stream",
     "text": [
      "Enter the number of records to be added: 2\n",
      "Enter the records of student 1 :\n",
      "Name: Sandipta\n",
      "Age: 21\n",
      "Address: Mumbai\n",
      "Enter the records of student 2 :\n",
      "Name: Jay Borodra\n",
      "Age: 32\n",
      "Address: Delhi\n",
      "The details of Student 0 is: \n",
      " Name is Sandipta \n",
      " Age is 21 \n",
      " Address is Mumbai\n",
      "The details of Student 1 is: \n",
      " Name is Jay Borodra \n",
      " Age is 32 \n",
      " Address is Delhi\n"
     ]
    }
   ],
   "source": [
    "list = ['Name','Age','Address']\n",
    "list2 = []\n",
    "n = int(input(\"Enter the number of records to be added: \"))\n",
    "for i in range(1,n+1):\n",
    "    print(\"Enter the records of student\",i,\":\")\n",
    "    name = input(\"Name: \")\n",
    "    age = input(\"Age: \")\n",
    "    address = input(\"Address: \")\n",
    "    list2.append([name,age,address])\n",
    "\n",
    "for i in range(0,n):\n",
    "    print(\"The details of Student\", i, \"is: \\n Name is\",list2[i][0],\"\\n Age is\",list2[i][1],\"\\n Address is\",list2[i][2])"
   ]
  },
  {
   "cell_type": "markdown",
   "metadata": {},
   "source": [
    "## 14. Write a Python program to find the sum of array (hint take a list as array)."
   ]
  },
  {
   "cell_type": "code",
   "execution_count": 12,
   "metadata": {},
   "outputs": [
    {
     "name": "stdout",
     "output_type": "stream",
     "text": [
      "Enter the number of elements: 5\n",
      "12\n",
      "13\n",
      "14\n",
      "15\n",
      "16\n",
      "[12, 13, 14, 15, 16]\n",
      "Sum of the list is:  70\n"
     ]
    }
   ],
   "source": [
    "lst = []\n",
    "n = int (input(\"Enter the number of elements: \"))\n",
    "for i in range(0,n):\n",
    "    elm = int(input())\n",
    "    lst.append(elm)\n",
    "print(lst)\n",
    "print(\"Sum of the list is: \",sum(lst))"
   ]
  },
  {
   "cell_type": "markdown",
   "metadata": {},
   "source": [
    "## 15. Write a Python program to imitate bank transactions like deposit, withdrawal and check balance."
   ]
  },
  {
   "cell_type": "code",
   "execution_count": 13,
   "metadata": {},
   "outputs": [
    {
     "name": "stdout",
     "output_type": "stream",
     "text": [
      "Weclcome to HDFC Bank\n",
      "Transaction Withdrawl, Deposit and Check Balance\n",
      "Enter your account enter number: 191\n",
      "How may I help you Sir/Maam: Deposit\n",
      "Please enter the right account number.\n"
     ]
    }
   ],
   "source": [
    "print(\"Weclcome to HDFC Bank\")\n",
    "print(\"Transaction Withdrawl, Deposit and Check Balance\")\n",
    "acc = int(input(\"Enter your account enter number: \"))\n",
    "a = str(input(\"How may I help you Sir/Maam: \"))\n",
    "currbalance = 150000\n",
    "ac = [100, 101, 102, 103, 104, 105, 106, 107, 108, 109, 110, 111, 112, 113, 114, 115]\n",
    "if acc in ac:\n",
    "    if a == \"Deposit\":\n",
    "        n = int(input(\"Enter the ammount you want to dposit: \"))\n",
    "        def deposit(n,currbalance):\n",
    "            return(currbalance + n)\n",
    "        print(\"The currnt balance is: \",deposit(n,currbalance))\n",
    "    elif a== \"Withdrawl\":\n",
    "        m = int(input(\"Enter the value you want to withdrawl: \"))\n",
    "        def withdrawl(m,currbalance):\n",
    "            return(currbalance-m)\n",
    "            print(\"The current balance is: \",withdrawl(m,currbalance))\n",
    "    else:\n",
    "        print(\"The curret balance is: \",currbalance)\n",
    "else:\n",
    "    print(\"Please enter the right account number.\")"
   ]
  },
  {
   "cell_type": "markdown",
   "metadata": {},
   "source": [
    "## 16. Write a Python program to imitate login activity of a user also do its validation. (hint:-If user enters the wrong userid or password it should provide a message)."
   ]
  },
  {
   "cell_type": "code",
   "execution_count": 6,
   "metadata": {},
   "outputs": [
    {
     "name": "stdout",
     "output_type": "stream",
     "text": [
      "Enter your password: Sandipta\n",
      "Password is not valid.\n"
     ]
    }
   ],
   "source": [
    "pwd = input(\"Enter your password: \")\n",
    "c = len(pwd)\n",
    "l = True\n",
    "ucase = 0\n",
    "lcase = 0\n",
    "numb = 0\n",
    "char = 0\n",
    "for i in range(c):\n",
    "    for j in range(65,91):\n",
    "        CH = chr(j)\n",
    "        if pwd[i] == CH:\n",
    "            ucase = ucase+1\n",
    "    for j in range(97,123):\n",
    "        ch = chr(j)\n",
    "        if pwd[i] == ch:\n",
    "            lcase = lcase+1\n",
    "    for j in range(0,10):\n",
    "        num = str(j)\n",
    "        if pwd[i] == num:\n",
    "            numb = numb + 1\n",
    "    for j in range(c):\n",
    "        if pwd[j] == \"@\" or pwd[j] == \"#\" or pwd[j] == \"$\":\n",
    "            char = char +1\n",
    "            \n",
    "if ucase > 0 and lcase > 0 and numb > 0 and char > 0 and c >= 6 and c<=16:\n",
    "    print(\"Password is valid.\")\n",
    "else:\n",
    "    print(\"Password is not valid.\")"
   ]
  },
  {
   "cell_type": "markdown",
   "metadata": {},
   "source": [
    "## 17. Write a Python program to imitate a shopping transaction where user purchase 5 notebooks of 20 rs each and 2 pens of 5 rs each. Show the total amount to be payable to the shopkeeper."
   ]
  },
  {
   "cell_type": "code",
   "execution_count": 1,
   "metadata": {},
   "outputs": [
    {
     "name": "stdout",
     "output_type": "stream",
     "text": [
      "Welcome to D-mart.\n",
      "You have purchased 5 notebooks of 20rs each\n",
      "You have purchased 2 pens of 5rs each\n",
      "Your total amount is:  110 Rs.\n"
     ]
    }
   ],
   "source": [
    "print(\"Welcome to D-mart.\")\n",
    "print(\"You have purchased 5 notebooks of 20rs each\")\n",
    "print(\"You have purchased 2 pens of 5rs each\")\n",
    "amt = 20*5 + 2*5\n",
    "print(\"Your total amount is: \",amt,\"Rs.\")"
   ]
  },
  {
   "cell_type": "markdown",
   "metadata": {},
   "source": [
    "## 18. Accept the age of the person and print an appropriate message as per the table given alongside:\n",
    "##    Age                                   Message         \n",
    "##    <=12                              You are child\n",
    "##    13-19                             You are a teenager      \n",
    "##    20-59                             You are an adult \n",
    "##    >= 60                             You are a senior citizen"
   ]
  },
  {
   "cell_type": "code",
   "execution_count": 36,
   "metadata": {},
   "outputs": [
    {
     "name": "stdout",
     "output_type": "stream",
     "text": [
      "Enter your age: 88\n",
      "You are Senior Citizen.\n"
     ]
    }
   ],
   "source": [
    "age = int(input(\"Enter your age: \"))\n",
    "if age in range(0,13):\n",
    "    print(\"You are child.\")\n",
    "elif age in range(13,20):\n",
    "    print(\"You are teenager.\")\n",
    "elif age in range(20,59):\n",
    "    print(\"You are adult.\")\n",
    "else:\n",
    "    print(\"You are Senior Citizen.\")"
   ]
  },
  {
   "cell_type": "markdown",
   "metadata": {},
   "source": [
    "## 19. Accept the purchases made by a customer and calculate and print the discount payable by him. You are given that a discount of 10% is given on purchases greater than Rs. 3000/- and no discount is given for purchases below that."
   ]
  },
  {
   "cell_type": "code",
   "execution_count": 38,
   "metadata": {},
   "outputs": [
    {
     "name": "stdout",
     "output_type": "stream",
     "text": [
      "Enter the amount to be payable: 3450\n",
      "The total discount is:  3105.0\n"
     ]
    }
   ],
   "source": [
    "n = int(input(\"Enter the amount to be payable: \"))\n",
    "if (n >= 3000):\n",
    "    m = (10*n)/100\n",
    "    n = n-m\n",
    "    print(\"The total discount is: \",n)\n",
    "    \n",
    "else:\n",
    "    print(\"The amount to be paid \",n)"
   ]
  },
  {
   "cell_type": "markdown",
   "metadata": {},
   "source": [
    "## 20. Accept the gross salary of an employee. Calculate and print the tax based on the given criteria.\n",
    "##          Salary                                                                      Tax Rate        \n",
    "##  Upto Rs.2,00,000                                                                  Nil       \n",
    "##  2,00,001-5,00,000                                                                 10%        \n",
    "##  Above 5,00,000                                                                     20% \n"
   ]
  },
  {
   "cell_type": "code",
   "execution_count": 2,
   "metadata": {},
   "outputs": [
    {
     "name": "stdout",
     "output_type": "stream",
     "text": [
      "Enter the salary: 560000\n",
      "After the taxe paid  112000.0\n"
     ]
    }
   ],
   "source": [
    "n = int(input(\"Enter the salary: \"))\n",
    "if (n <= 200000):\n",
    "    print(\"No taxe would be charged.\")\n",
    "elif n in range(20001,500000):\n",
    "    m = (n*10)/100\n",
    "    n = n-m\n",
    "    print(\"After the tax paid \",m)\n",
    "else:\n",
    "    m = (n*20)/100\n",
    "    n = n-m\n",
    "    print(\"After the taxe paid \",m)    "
   ]
  },
  {
   "cell_type": "markdown",
   "metadata": {},
   "source": [
    "## 21. Scholarships are given to students on the following basis:\n",
    "##     Percentage obtained                 Scholarship Amount \n",
    "##                     >=90                                             5000                                       \n",
    "##                     >=80                                             1000                       \n",
    "\n",
    "##                  Otherwise                                        Nil  "
   ]
  },
  {
   "cell_type": "code",
   "execution_count": 3,
   "metadata": {},
   "outputs": [
    {
     "name": "stdout",
     "output_type": "stream",
     "text": [
      "Enter the percentage: 91\n",
      "You would get 5000 rs Scholarship Amount.\n"
     ]
    }
   ],
   "source": [
    "n = int(input(\"Enter the percentage: \"))\n",
    "if n >= 90:\n",
    "    print(\"You would get 5000 rs Scholarship Amount.\")\n",
    "elif n in range(80,90):\n",
    "    print(\"You would get 1000 rs Scholarship Amount.\")\n",
    "else: \n",
    "    print(\"You would not get the scholarship.\")"
   ]
  },
  {
   "cell_type": "markdown",
   "metadata": {},
   "source": [
    "## 22. Accept the quantity of an item purchased and its price. Calculate the amount of purchase. If the amount exceeds Rs.5000, a discount of 20% is given otherwise the discount rate is 10%. Print the input values, the discount rate and amount, net amount to be paid by the customer."
   ]
  },
  {
   "cell_type": "code",
   "execution_count": 4,
   "metadata": {},
   "outputs": [
    {
     "name": "stdout",
     "output_type": "stream",
     "text": [
      "Enter the amount: 5020\n",
      "The total amount paid:  4016.0\n"
     ]
    }
   ],
   "source": [
    "n = int(input(\"Enter the amount: \"))\n",
    "if n >= 5000:\n",
    "    m = (n*20)/100\n",
    "    n = n-m\n",
    "    print(\"The total amount paid: \",n)\n",
    "elif n < 5000:\n",
    "    m = (n*10)/100\n",
    "    n = n-m\n",
    "    print(\"The total amount paid: \",n)"
   ]
  },
  {
   "cell_type": "markdown",
   "metadata": {},
   "source": [
    "## 23. Accept the marks obtained by the 5 students for subjects of Python, Statistics, Machine Learning, Deep Learning, Big-Data also all marks are out of 100. Find the sum and percentage of the for all students and display the name and marks of the first rank holder."
   ]
  },
  {
   "cell_type": "code",
   "execution_count": 2,
   "metadata": {},
   "outputs": [
    {
     "name": "stdout",
     "output_type": "stream",
     "text": [
      "Enter the number of students who scored marks: 4\n",
      "Enter the marks in Python: 56\n",
      "Enter the marks in Machine Learning: 56\n",
      "Enter the marks in Deep Learning: 66\n",
      "Enter the marks in Big Data: 65\n",
      "Enter the marks in Statistics and Probability: 65\n",
      "Total percentage scored:  61.6\n",
      "Enter the marks in Python: 56\n",
      "Enter the marks in Machine Learning: 67\n",
      "Enter the marks in Deep Learning: 78\n",
      "Enter the marks in Big Data: 79\n",
      "Enter the marks in Statistics and Probability: 90\n",
      "Total percentage scored:  74.0\n",
      "Enter the marks in Python: 87\n",
      "Enter the marks in Machine Learning: 88\n",
      "Enter the marks in Deep Learning: 89\n",
      "Enter the marks in Big Data: 80\n",
      "Enter the marks in Statistics and Probability: 90\n",
      "Total percentage scored:  86.8\n",
      "Enter the marks in Python: 98\n",
      "Enter the marks in Machine Learning: 90\n",
      "Enter the marks in Deep Learning: 99\n",
      "Enter the marks in Big Data: 96\n",
      "Enter the marks in Statistics and Probability: 78\n",
      "Total percentage scored:  92.2\n"
     ]
    }
   ],
   "source": [
    "m = int(input(\"Enter the number of students who scored marks: \"))\n",
    "for i in range(0,m):\n",
    "    m1 = int(input(\"Enter the marks in Python: \"))\n",
    "    m2 = int(input(\"Enter the marks in Machine Learning: \"))\n",
    "    m3 = int(input(\"Enter the marks in Deep Learning: \"))\n",
    "    m4 = int(input(\"Enter the marks in Big Data: \"))\n",
    "    m5 = int(input(\"Enter the marks in Statistics and Probability: \"))\n",
    "    percentage = ((m1+m2+m3+m4+m5)/500)*100\n",
    "    print(\"Total percentage scored: \",percentage)\n"
   ]
  },
  {
   "cell_type": "markdown",
   "metadata": {},
   "source": [
    "## 24. Given 2 int arrays, a and b, each length 3, return a new array length 2 containing their middle elements.\n",
    "##           middle_way([1, 2, 3], [4, 5, 6]) → [2, 5]            \n",
    "##           middle_way([7, 7, 7], [3, 8, 0]) → [7, 8]            \n",
    "##           middle_way([5, 2, 9], [1, 4, 5]) → [2, 4]"
   ]
  },
  {
   "cell_type": "code",
   "execution_count": null,
   "metadata": {},
   "outputs": [],
   "source": []
  },
  {
   "cell_type": "markdown",
   "metadata": {},
   "source": [
    "## 25. Given an array of ints, return a new array length 2 containing the first and last elements from the original array. The original array will be length 1 or more.\n",
    "##               make_ends([1, 2, 3]) → [1, 3]   \n",
    "##               make_ends([1, 2, 3, 4]) → [1, 4]\n",
    "##               make_ends([7, 4, 6, 2]) → [7, 2]"
   ]
  },
  {
   "cell_type": "code",
   "execution_count": null,
   "metadata": {},
   "outputs": [],
   "source": []
  },
  {
   "cell_type": "markdown",
   "metadata": {},
   "source": [
    "## 26. Write a Python program to find the Mean, Median and Mode of three user entered values."
   ]
  },
  {
   "cell_type": "code",
   "execution_count": 6,
   "metadata": {},
   "outputs": [
    {
     "name": "stdout",
     "output_type": "stream",
     "text": [
      "Enter the first value: 34\n",
      "Enter the second value: 45\n",
      "Enter thr third value: 56\n",
      "The mean is:  45.0\n",
      "The median is:  45\n",
      "The mode is:  34\n",
      "The mode is:  35\n",
      "The mode is:  36\n",
      "The mode is:  37\n",
      "The mode is:  38\n",
      "The mode is:  39\n",
      "The mode is:  40\n",
      "The mode is:  41\n",
      "The mode is:  42\n",
      "The mode is:  43\n",
      "The mode is:  44\n",
      "The mode is:  45\n",
      "The mode is:  46\n",
      "The mode is:  47\n",
      "The mode is:  48\n",
      "The mode is:  49\n",
      "The mode is:  50\n",
      "The mode is:  51\n",
      "The mode is:  52\n",
      "The mode is:  53\n",
      "The mode is:  54\n",
      "The mode is:  55\n"
     ]
    }
   ],
   "source": [
    "n1 = int(input(\"Enter the first value: \"))\n",
    "n2 = int(input(\"Enter the second value: \"))\n",
    "n3 = int(input(\"Enter thr third value: \"))\n",
    "avg = (n1+n2+n3)/3\n",
    "median = n2\n",
    "null = 0\n",
    "print(\"The mean is: \",avg)\n",
    "print(\"The median is: \",median)"
   ]
  },
  {
   "cell_type": "markdown",
   "metadata": {},
   "source": [
    "## 27. Write a Python program to check the validity of password input by users. Go to the editor Validation:\n",
    " ## a.    At least 1 letter between [a-z] and 1 letter between [A-Z]. \n",
    " ## b.    At least 1 number between [0-9]. "
   ]
  },
  {
   "cell_type": "markdown",
   "metadata": {},
   "source": [
    "## c.    At least 1 character from [$#@]."
   ]
  },
  {
   "cell_type": "markdown",
   "metadata": {},
   "source": [
    "## d.    Minimum length 6 characters"
   ]
  },
  {
   "cell_type": "markdown",
   "metadata": {},
   "source": [
    "## e.  Maximum length 16 characters."
   ]
  },
  {
   "cell_type": "code",
   "execution_count": null,
   "metadata": {},
   "outputs": [],
   "source": [
    "pwd = input(\"Enter your password: \")\n",
    "c = len(pwd)\n",
    "l = True\n",
    "ucase = 0\n",
    "lcase = 0\n",
    "numb = 0\n",
    "char = 0\n",
    "for i in range(c):\n",
    "    for j in range(65,91):\n",
    "        CH = chr(j)\n",
    "        if pwd[i] == CH:\n",
    "            ucase = ucase+1\n",
    "    for j in range(97,123):\n",
    "        ch = chr(j)\n",
    "        if pwd[i] == ch:\n",
    "            lcase = lcase+1\n",
    "    for j in range(0,10):\n",
    "        num = str(j)\n",
    "        if pwd[i] == num:\n",
    "            numb = numb + 1\n",
    "    for j in range(c):\n",
    "        if pwd[j] == \"@\" or pwd[j] == \"#\" or pwd[j] == \"$\":\n",
    "            char = char +1\n",
    "            \n",
    "if ucase > 0 and lcase > 0 and numb > 0 and char > 0 and c >= 6 and c<=16:\n",
    "    print(\"Password is valid.\")\n",
    "else:\n",
    "    print(\"Password is not valid.\")"
   ]
  },
  {
   "cell_type": "markdown",
   "metadata": {},
   "source": [
    "## 28. Write a program to print the A using stars."
   ]
  },
  {
   "cell_type": "code",
   "execution_count": 15,
   "metadata": {},
   "outputs": [
    {
     "name": "stdout",
     "output_type": "stream",
     "text": [
      "*****\n",
      "*   *\n",
      "*   *\n",
      "*****\n",
      "*   *\n",
      "*   *\n",
      "*   *\n",
      "\n"
     ]
    }
   ],
   "source": [
    "str1 = \"\"\n",
    "for row in range(7):\n",
    "    for col in range(5):\n",
    "        if (col == 0 or col == 4) or ((row == 0 or row == 3) and (col>0 and col<4)):\n",
    "            str1 = str1+\"*\"\n",
    "        else:\n",
    "            str1 = str1+\" \"\n",
    "    str1 = str1+\"\\n\"\n",
    "print(str1)"
   ]
  },
  {
   "cell_type": "markdown",
   "metadata": {},
   "source": [
    "## 29. Write a program to print the B using stars."
   ]
  },
  {
   "cell_type": "code",
   "execution_count": 22,
   "metadata": {},
   "outputs": [
    {
     "name": "stdout",
     "output_type": "stream",
     "text": [
      "*****\n",
      "*   *\n",
      "*   *\n",
      "*****\n",
      "*   *\n",
      "*   *\n",
      "*****\n"
     ]
    }
   ],
   "source": [
    "for row in range(7):\n",
    "    for col in range(5):\n",
    "        if (col == 0 or col == 4) or ((row == 0 or row == 3 or row == 6) and (col > 0 and col < 4)):\n",
    "            print(\"*\",end=\"\")\n",
    "        else:\n",
    "            print(end=\" \")\n",
    "    print()"
   ]
  },
  {
   "cell_type": "markdown",
   "metadata": {},
   "source": [
    "## 30. Write a program to print the C using stars."
   ]
  },
  {
   "cell_type": "code",
   "execution_count": 20,
   "metadata": {},
   "outputs": [
    {
     "name": "stdout",
     "output_type": "stream",
     "text": [
      "*****\n",
      "*    \n",
      "*    \n",
      "*    \n",
      "*    \n",
      "*    \n",
      "*****\n"
     ]
    }
   ],
   "source": [
    "for row in range(7):\n",
    "    for col in range(5):\n",
    "        if (col==0) or ((row==0 or row==6) and (col>0)):\n",
    "            print(\"*\",end=\"\")\n",
    "        else:\n",
    "            print(end=\" \")\n",
    "    print()"
   ]
  },
  {
   "cell_type": "markdown",
   "metadata": {},
   "source": [
    "## 31. Write a program to print the D using stars."
   ]
  },
  {
   "cell_type": "code",
   "execution_count": 26,
   "metadata": {},
   "outputs": [
    {
     "name": "stdout",
     "output_type": "stream",
     "text": [
      "**** \n",
      "*   *\n",
      "*   *\n",
      "*   *\n",
      "*   *\n",
      "*   *\n",
      "**** \n"
     ]
    }
   ],
   "source": [
    "for row in range(7):\n",
    "    for col in range(5):\n",
    "        if (col == 0) or (col == 4 and (row != 0 and row != 6)) or ((row == 0 or row == 6) and (col>0 and col<4)):\n",
    "            print(\"*\",end=\"\")\n",
    "        else:\n",
    "            print(end=\" \")\n",
    "    print()"
   ]
  },
  {
   "cell_type": "markdown",
   "metadata": {},
   "source": [
    "## 32. Write a program to print the E using stars."
   ]
  },
  {
   "cell_type": "code",
   "execution_count": 28,
   "metadata": {},
   "outputs": [
    {
     "name": "stdout",
     "output_type": "stream",
     "text": [
      "*****\n",
      "*    \n",
      "*    \n",
      "*****\n",
      "*    \n",
      "*    \n",
      "*****\n"
     ]
    }
   ],
   "source": [
    "for row in range(7):\n",
    "    for col in range(5):\n",
    "        if col == 0 or ((row == 0 or row == 3 or row == 6) and (col > 0)):\n",
    "            print(\"*\",end=\"\")\n",
    "        else:\n",
    "            print(end=\" \")\n",
    "    print()"
   ]
  },
  {
   "cell_type": "markdown",
   "metadata": {},
   "source": [
    "## 33. Write a program to print the F using stars."
   ]
  },
  {
   "cell_type": "code",
   "execution_count": 31,
   "metadata": {},
   "outputs": [
    {
     "name": "stdout",
     "output_type": "stream",
     "text": [
      "*****\n",
      "*    \n",
      "*    \n",
      "*****\n",
      "*    \n",
      "*    \n",
      "*    \n",
      "*    \n"
     ]
    }
   ],
   "source": [
    " for row in range(8):\n",
    "        for col in range(5):\n",
    "            if (col == 0 or (row == 0 or row == 3)):\n",
    "                print(\"*\",end=\"\")\n",
    "            else:\n",
    "                print(end=\" \")\n",
    "        print()"
   ]
  },
  {
   "cell_type": "markdown",
   "metadata": {},
   "source": [
    "## 34. Write a program to print the G using stars."
   ]
  },
  {
   "cell_type": "code",
   "execution_count": 34,
   "metadata": {},
   "outputs": [
    {
     "name": "stdout",
     "output_type": "stream",
     "text": [
      "***** \n",
      "*     \n",
      "*     \n",
      "*  ***\n",
      "*   * \n",
      "*   * \n",
      "***** \n"
     ]
    }
   ],
   "source": [
    "for row in range(7):\n",
    "    for col in range(6):\n",
    "        if(col == 0) or (col == 4 and (row !=1 and row !=2)) or ((row==0 or row==6) and (col>0 and col<4)) or (row == 3 and (col == 3 or col == 5)):\n",
    "            print(\"*\",end=\"\")\n",
    "        else:\n",
    "            print(end=\" \")\n",
    "    print()"
   ]
  },
  {
   "cell_type": "markdown",
   "metadata": {},
   "source": [
    "## 35. Write a program to print the H using stars."
   ]
  },
  {
   "cell_type": "code",
   "execution_count": 35,
   "metadata": {},
   "outputs": [
    {
     "name": "stdout",
     "output_type": "stream",
     "text": [
      "*   *\n",
      "*   *\n",
      "*   *\n",
      "*****\n",
      "*   *\n",
      "*   *\n",
      "*   *\n"
     ]
    }
   ],
   "source": [
    "for row in range(7):\n",
    "    for col in range(5):\n",
    "        if(col == 0 or col == 4 or row == 3):\n",
    "            print(\"*\",end=\"\")\n",
    "        else:\n",
    "            print(end=\" \")\n",
    "    print()"
   ]
  },
  {
   "cell_type": "markdown",
   "metadata": {},
   "source": [
    "## 36. Write a program to print the I using stars."
   ]
  },
  {
   "cell_type": "code",
   "execution_count": 39,
   "metadata": {},
   "outputs": [
    {
     "name": "stdout",
     "output_type": "stream",
     "text": [
      "*****\n",
      "  *  \n",
      "  *  \n",
      "  *  \n",
      "  *  \n",
      "  *  \n",
      "*****\n"
     ]
    }
   ],
   "source": [
    "for row in range(7):\n",
    "    for col in range(5):\n",
    "        if(col == 2 or row == 0 or row == 6):\n",
    "            print(\"*\",end=\"\")\n",
    "        else:\n",
    "            print(end=\" \")\n",
    "    print()"
   ]
  },
  {
   "cell_type": "markdown",
   "metadata": {},
   "source": [
    "## 37. Write a program to print the J using stars."
   ]
  },
  {
   "cell_type": "code",
   "execution_count": 41,
   "metadata": {},
   "outputs": [
    {
     "name": "stdout",
     "output_type": "stream",
     "text": [
      "*****\n",
      "  *  \n",
      "  *  \n",
      "  *  \n",
      "  *  \n",
      "  *  \n",
      "***  \n"
     ]
    }
   ],
   "source": [
    "for row in range(7):\n",
    "    for col in range(5):\n",
    "        if(col == 2) or (row == 0 and col != 2) or (row == 6 and col < 2):\n",
    "            print(\"*\",end=\"\")\n",
    "        else:\n",
    "            print(end=\" \")\n",
    "    print()"
   ]
  },
  {
   "cell_type": "markdown",
   "metadata": {},
   "source": [
    "## 38. Write a program to print the K using stars."
   ]
  },
  {
   "cell_type": "code",
   "execution_count": 47,
   "metadata": {},
   "outputs": [
    {
     "name": "stdout",
     "output_type": "stream",
     "text": [
      "*   *\n",
      "*  * \n",
      "* *  \n",
      "**   \n",
      "* *  \n",
      "*  * \n",
      "*   *\n"
     ]
    }
   ],
   "source": [
    "i = 0\n",
    "j = 4\n",
    "for row in range(7):\n",
    "    for col in range(5):\n",
    "        if col == 0 or (row == col+2 and col>1):\n",
    "            print(\"*\",end=\"\")\n",
    "        elif ((row == i and col == j) and col > 0):\n",
    "            print(\"*\", end= \"\")\n",
    "            i = i+1\n",
    "            j = j-1\n",
    "        else:\n",
    "            print(end=\" \")\n",
    "    print()"
   ]
  },
  {
   "cell_type": "markdown",
   "metadata": {},
   "source": [
    "## 39. Write a program to print the L using stars."
   ]
  },
  {
   "cell_type": "code",
   "execution_count": 48,
   "metadata": {},
   "outputs": [
    {
     "name": "stdout",
     "output_type": "stream",
     "text": [
      "*    \n",
      "*    \n",
      "*    \n",
      "*    \n",
      "*    \n",
      "*    \n",
      "*****\n"
     ]
    }
   ],
   "source": [
    "for row in range(7):\n",
    "    for col in range(5):\n",
    "        if (col == 0 or row == 6):\n",
    "            print(\"*\",end=\"\")\n",
    "        else:\n",
    "            print(end=\" \")\n",
    "    print()"
   ]
  },
  {
   "cell_type": "markdown",
   "metadata": {},
   "source": [
    "## 40. Write a program to print the M using stars."
   ]
  },
  {
   "cell_type": "code",
   "execution_count": 50,
   "metadata": {},
   "outputs": [
    {
     "name": "stdout",
     "output_type": "stream",
     "text": [
      "*     *\n",
      "**   **\n",
      "* * * *\n",
      "*  *  *\n",
      "*     *\n",
      "*     *\n",
      "*     *\n"
     ]
    }
   ],
   "source": [
    "for row in range(7):\n",
    "    for col in range(7):\n",
    "        if col == 0 or col == 6 or ((row == col) and (col>0 and col<4)) or (row == 1 and col == 5) or (row == 2 and col == 4):\n",
    "            print(\"*\",end=\"\")\n",
    "        else:\n",
    "            print(end=\" \")\n",
    "    print()"
   ]
  },
  {
   "cell_type": "markdown",
   "metadata": {},
   "source": [
    "## 41. Write a program to print the N using stars."
   ]
  },
  {
   "cell_type": "code",
   "execution_count": 51,
   "metadata": {},
   "outputs": [
    {
     "name": "stdout",
     "output_type": "stream",
     "text": [
      "*    *\n",
      "**   *\n",
      "* *  *\n",
      "*  * *\n",
      "*   **\n",
      "*    *\n"
     ]
    }
   ],
   "source": [
    "for row in range(6):\n",
    "    for col in range(6):\n",
    "        if col == 0 or col == 5 or (row == col and (col > 0 and col < 5)):\n",
    "            print(\"*\",end=\"\")\n",
    "        else:\n",
    "            print(end=\" \")\n",
    "    print()"
   ]
  },
  {
   "cell_type": "markdown",
   "metadata": {},
   "source": [
    "## 42. Write a program to print the O using stars."
   ]
  },
  {
   "cell_type": "code",
   "execution_count": 52,
   "metadata": {},
   "outputs": [
    {
     "name": "stdout",
     "output_type": "stream",
     "text": [
      " *** \n",
      "*   *\n",
      "*   *\n",
      "*   *\n",
      "*   *\n",
      "*   *\n",
      " *** \n"
     ]
    }
   ],
   "source": [
    "for row in range(7):\n",
    "    for col in range(5):\n",
    "        if((col == 0 or col == 4) and (row != 0 and row !=6)) or ((row == 0 or row == 6) and (col > 0 and col < 4)):\n",
    "            print(\"*\",end=\"\")\n",
    "        else:\n",
    "            print(end=\" \")\n",
    "    print()"
   ]
  },
  {
   "cell_type": "markdown",
   "metadata": {},
   "source": [
    "## 43. Write a program to print the P using stars."
   ]
  },
  {
   "cell_type": "code",
   "execution_count": 59,
   "metadata": {},
   "outputs": [
    {
     "name": "stdout",
     "output_type": "stream",
     "text": [
      "**** \n",
      "*   *\n",
      "*   *\n",
      "**** \n",
      "*    \n",
      "*    \n",
      "*    \n"
     ]
    }
   ],
   "source": [
    "for row in range(7):\n",
    "    for col in range(5):\n",
    "        if col == 0 or (col == 4 and (row == 1 or row == 2)) or ((row == 0 or row == 3) and (col > 0 and col < 4)):\n",
    "            print(\"*\",end=\"\")\n",
    "        else:\n",
    "            print(end=\" \")\n",
    "    print()"
   ]
  },
  {
   "cell_type": "markdown",
   "metadata": {},
   "source": [
    "## 44. Write a program to print the Q using stars."
   ]
  },
  {
   "cell_type": "code",
   "execution_count": 60,
   "metadata": {},
   "outputs": [
    {
     "name": "stdout",
     "output_type": "stream",
     "text": [
      " *** \n",
      "*   *\n",
      "*   *\n",
      "*   *\n",
      "*   *\n",
      "*   *\n",
      " *** \n",
      "     \n"
     ]
    }
   ],
   "source": [
    "for row in range(8):\n",
    "    for col in range(5):\n",
    "        if ((col == 0 or col == 4) and (row > 0 and row < 6)) or ((row == 0 or row == 6) and (col > 0 and col < 4)):\n",
    "            print(\"*\",end=\"\")\n",
    "        else:\n",
    "            print(end=\" \")\n",
    "    print()"
   ]
  },
  {
   "cell_type": "markdown",
   "metadata": {},
   "source": [
    "## 45. Write a program to print the R using stars."
   ]
  },
  {
   "cell_type": "code",
   "execution_count": 61,
   "metadata": {},
   "outputs": [
    {
     "name": "stdout",
     "output_type": "stream",
     "text": [
      "**** \n",
      "*   *\n",
      "*   *\n",
      "**** \n",
      "*   *\n",
      "*   *\n",
      "*   *\n"
     ]
    }
   ],
   "source": [
    "for row in range(7):\n",
    "    for col in range(5):\n",
    "        if col == 0 or (col == 4 and (row != 0 and row != 3)) or ((row == 0 or row == 3) and (col > 0 and col < 4)):\n",
    "            print(\"*\",end=\"\")\n",
    "        else:\n",
    "            print(end=\" \")\n",
    "    print()"
   ]
  },
  {
   "cell_type": "markdown",
   "metadata": {},
   "source": [
    "## 46. Write a program to print the S using stars."
   ]
  },
  {
   "cell_type": "code",
   "execution_count": 62,
   "metadata": {},
   "outputs": [
    {
     "name": "stdout",
     "output_type": "stream",
     "text": [
      " *** \n",
      "*    \n",
      "*    \n",
      " *** \n",
      "    *\n",
      "    *\n",
      " *** \n"
     ]
    }
   ],
   "source": [
    "for row in range(7):\n",
    "    for col in range(5):\n",
    "        if((row == 0 or row == 3 or row == 6) and (col > 0 and col <4)) or (col == 0 and (row > 0 and row <3)) or (col == 4 and (row > 3 and row <6)):\n",
    "            print(\"*\",end=\"\")\n",
    "        else:\n",
    "            print(end=\" \")\n",
    "    print()"
   ]
  },
  {
   "cell_type": "markdown",
   "metadata": {},
   "source": [
    "## 47. Write a program to print the T using stars."
   ]
  },
  {
   "cell_type": "code",
   "execution_count": 49,
   "metadata": {},
   "outputs": [
    {
     "name": "stdout",
     "output_type": "stream",
     "text": [
      "*****\n",
      "  *  \n",
      "  *  \n",
      "  *  \n",
      "  *  \n",
      "  *  \n",
      "  *  \n"
     ]
    }
   ],
   "source": [
    "for row in range(7):\n",
    "    for col in range(5):\n",
    "        if(col == 2 or row == 0):\n",
    "            print(\"*\",end=\"\")\n",
    "        else:\n",
    "            print(end=\" \")\n",
    "    print()"
   ]
  },
  {
   "cell_type": "markdown",
   "metadata": {},
   "source": [
    "## 48. Write a program to print the U using stars."
   ]
  },
  {
   "cell_type": "code",
   "execution_count": 63,
   "metadata": {},
   "outputs": [
    {
     "name": "stdout",
     "output_type": "stream",
     "text": [
      "*   *\n",
      "*   *\n",
      "*   *\n",
      "*   *\n",
      "*   *\n",
      "*   *\n",
      " *** \n"
     ]
    }
   ],
   "source": [
    "for row in range(7):\n",
    "    for col in range(5):\n",
    "        if((col == 0 or col == 4) and row != 6) or (row == 6 and (col > 0 and col < 4)):\n",
    "            print(\"*\",end=\"\")\n",
    "        else:\n",
    "            print(end=\" \")\n",
    "    print()"
   ]
  },
  {
   "cell_type": "markdown",
   "metadata": {},
   "source": [
    "## 49. Write a program to print the V using stars."
   ]
  },
  {
   "cell_type": "code",
   "execution_count": 69,
   "metadata": {},
   "outputs": [
    {
     "name": "stdout",
     "output_type": "stream",
     "text": [
      "*     *\n",
      " *   * \n",
      "  * *  \n",
      "   *   \n"
     ]
    }
   ],
   "source": [
    "i = 0\n",
    "j = 6\n",
    "for row in range(4):\n",
    "    for col in range(7):\n",
    "        if row == col:\n",
    "            print(\"*\",end=\"\")\n",
    "        elif row == i and col == j:\n",
    "            print(\"*\", end=\"\")\n",
    "            i = i+1\n",
    "            j = j-1\n",
    "        else:\n",
    "            print(end=\" \")\n",
    "    print()"
   ]
  },
  {
   "cell_type": "markdown",
   "metadata": {},
   "source": [
    "## 50. Write a program to print the W using stars."
   ]
  },
  {
   "cell_type": "code",
   "execution_count": 75,
   "metadata": {},
   "outputs": [
    {
     "name": "stdout",
     "output_type": "stream",
     "text": [
      "*  *  *\n",
      "* * * *\n",
      "**   **\n",
      "*     *\n"
     ]
    }
   ],
   "source": [
    "i = 0\n",
    "j = 3\n",
    "for row in range(4):\n",
    "    for col in range(7):\n",
    "        if col == 0 or col == 6 or (col == 5 and row == 2) or (col == 4 and row == 1):\n",
    "            print(\"*\",end=\"\")\n",
    "        elif row == i and col == j:\n",
    "            print(\"*\",end=\"\")\n",
    "            i=i+1\n",
    "            j=j-1\n",
    "        else:\n",
    "            print(end=\" \")\n",
    "    print()"
   ]
  },
  {
   "cell_type": "markdown",
   "metadata": {},
   "source": [
    "## 51. Write a program to print the X using stars."
   ]
  },
  {
   "cell_type": "code",
   "execution_count": 73,
   "metadata": {},
   "outputs": [
    {
     "name": "stdout",
     "output_type": "stream",
     "text": [
      "*   *\n",
      " * * \n",
      "  *  \n",
      " * * \n",
      "*   *\n"
     ]
    }
   ],
   "source": [
    "i = 0\n",
    "j = 4\n",
    "for row in range(5):\n",
    "    for col in range(5):\n",
    "        if row == i and col == j:\n",
    "            print(\"*\",end=\"\")\n",
    "            i = i+1\n",
    "            j = j-1\n",
    "        elif  row == col:\n",
    "            print(\"*\", end=\"\")\n",
    "        else:\n",
    "            print(end=\" \")\n",
    "    print()"
   ]
  },
  {
   "cell_type": "markdown",
   "metadata": {},
   "source": [
    "## 52. Write a program to print the Y using stars."
   ]
  },
  {
   "cell_type": "code",
   "execution_count": 76,
   "metadata": {},
   "outputs": [
    {
     "name": "stdout",
     "output_type": "stream",
     "text": [
      "*   *\n",
      " * * \n",
      "  *  \n",
      "  *  \n",
      "  *  \n"
     ]
    }
   ],
   "source": [
    "for row in range(5):\n",
    "    for col in range(5):\n",
    "        if(col == 2 and row > 1) or (row == col and col < 2) or (row == 0 and col == 4) or (row == 1 and col == 3):\n",
    "            print(\"*\",end=\"\")\n",
    "        else:\n",
    "            print(end=\" \")\n",
    "    print()"
   ]
  },
  {
   "cell_type": "markdown",
   "metadata": {},
   "source": [
    "## 53. Write a program to print the Z using stars."
   ]
  },
  {
   "cell_type": "code",
   "execution_count": 78,
   "metadata": {},
   "outputs": [
    {
     "name": "stdout",
     "output_type": "stream",
     "text": [
      "******\n",
      "    * \n",
      "   *  \n",
      "  *   \n",
      " *    \n",
      "******\n"
     ]
    }
   ],
   "source": [
    "i = 1\n",
    "j = 4\n",
    "for row in range(0,6):\n",
    "    for col in range(0,6):\n",
    "        if row == 0 or row == 5:\n",
    "            print(\"*\",end=\"\")\n",
    "        elif row == i and col == j:\n",
    "            print(\"*\",end=\"\")\n",
    "            i = i+1\n",
    "            j = j-1\n",
    "        else:\n",
    "            print(end=\" \")\n",
    "    print()"
   ]
  },
  {
   "cell_type": "markdown",
   "metadata": {},
   "source": [
    "## 54. Write a program to find the largest of two numbers without using function."
   ]
  },
  {
   "cell_type": "code",
   "execution_count": 9,
   "metadata": {},
   "outputs": [
    {
     "name": "stdout",
     "output_type": "stream",
     "text": [
      "Enter the first number: 23\n",
      "Enter the first number: 34\n",
      "The second number is greater than first number.\n"
     ]
    }
   ],
   "source": [
    "x1 = int(input(\"Enter the first number: \"))\n",
    "x2 = int(input(\"Enter the first number: \"))\n",
    "\n",
    "if (x1 > x2):\n",
    "    print(\"The first is larger than second number.\")\n",
    "else:\n",
    "    print(\"The second number is greater than first number.\")"
   ]
  },
  {
   "cell_type": "markdown",
   "metadata": {},
   "source": [
    "## 55. Write a program to find the largest of three numbers without using functions. "
   ]
  },
  {
   "cell_type": "code",
   "execution_count": 17,
   "metadata": {},
   "outputs": [
    {
     "name": "stdout",
     "output_type": "stream",
     "text": [
      "Enter the first number: 1\n",
      "Enter the second number: 2\n",
      "Enter the third number: 3\n",
      "The third number is greater than first and second number. \n"
     ]
    }
   ],
   "source": [
    "x1 = int(input(\"Enter the first number: \"))\n",
    "x2 = int(input(\"Enter the second number: \"))\n",
    "x3 = int(input(\"Enter the third number: \"))\n",
    "\n",
    "if (x1 > x2 and x1 > x3):\n",
    "    print(\"The first number is greater than second and third number.\")\n",
    "elif (x2 > x1 and x2 > x3):\n",
    "    print(\"The second number is greater than first and third number.\")\n",
    "elif(x3 > x2 and x3 > x1):\n",
    "    print(\"The third number is greater than first and second number. \")\n",
    "else:\n",
    "    print(\"Enter the correct numbers.\")"
   ]
  },
  {
   "cell_type": "markdown",
   "metadata": {},
   "source": [
    "## 56. Write a program to find even and odd numbers from the given list."
   ]
  },
  {
   "cell_type": "code",
   "execution_count": 21,
   "metadata": {},
   "outputs": [
    {
     "name": "stdout",
     "output_type": "stream",
     "text": [
      "Even numbers in the list:  3\n",
      "Odd numbers in the list:  4\n"
     ]
    }
   ],
   "source": [
    "list1 = [10, 21, 4, 45, 66, 93, 1] \n",
    "  \n",
    "even_count, odd_count = 0, 0\n",
    "  \n",
    "# iterating each number in list \n",
    "for num in list1: \n",
    "      \n",
    "    # checking condition \n",
    "    if num % 2 == 0: \n",
    "        even_count += 1\n",
    "  \n",
    "    else: \n",
    "        odd_count += 1\n",
    "          \n",
    "print(\"Even numbers in the list: \", even_count) \n",
    "print(\"Odd numbers in the list: \", odd_count) "
   ]
  },
  {
   "cell_type": "markdown",
   "metadata": {},
   "source": [
    "## 57. Write a program to append elements of various datatypes (total three elements 1 integer, 1 float and 1 string).  "
   ]
  },
  {
   "cell_type": "code",
   "execution_count": null,
   "metadata": {},
   "outputs": [],
   "source": []
  },
  {
   "cell_type": "markdown",
   "metadata": {},
   "source": [
    "## 58. Write a program to illustrate the difference between append and extend functions in list. "
   ]
  },
  {
   "cell_type": "code",
   "execution_count": null,
   "metadata": {},
   "outputs": [],
   "source": []
  },
  {
   "cell_type": "markdown",
   "metadata": {},
   "source": [
    "## 59. Write a program to reverse a string input should be taken from the user."
   ]
  },
  {
   "cell_type": "code",
   "execution_count": 1,
   "metadata": {},
   "outputs": [
    {
     "name": "stdout",
     "output_type": "stream",
     "text": [
      "Input a word to reverse: Sandipta Subir Khare\n",
      "erahK ribuS atpidnaS\n",
      "\n"
     ]
    }
   ],
   "source": [
    "word = input(\"Input a word to reverse: \")\n",
    "\n",
    "for char in range(len(word) - 1, -1, -1):\n",
    "    print(word[char], end=\"\")\n",
    "print(\"\\n\")"
   ]
  },
  {
   "cell_type": "markdown",
   "metadata": {},
   "source": [
    "## 60. Write a program to reverse a number input should be taken from the user."
   ]
  },
  {
   "cell_type": "code",
   "execution_count": 4,
   "metadata": {},
   "outputs": [
    {
     "name": "stdout",
     "output_type": "stream",
     "text": [
      "Please Enter any Number: 12345\n",
      "\n",
      " Reverse of entered number is = 54321\n"
     ]
    }
   ],
   "source": [
    "Number = int(input(\"Please Enter any Number: \"))    \n",
    "Reverse = 0    \n",
    "while(Number > 0):    \n",
    "    Reminder = Number %10    \n",
    "    Reverse = (Reverse *10) + Reminder    \n",
    "    Number = Number //10    \n",
    "     \n",
    "print(\"\\n Reverse of entered number is = %d\" %Reverse)   "
   ]
  },
  {
   "cell_type": "markdown",
   "metadata": {},
   "source": [
    "## 61. Write a program using functions to create a calculator (only +, -, * and /) operations should be performed."
   ]
  },
  {
   "cell_type": "code",
   "execution_count": 14,
   "metadata": {},
   "outputs": [
    {
     "name": "stdout",
     "output_type": "stream",
     "text": [
      "1 Addition\n",
      "2 Subtraction\n",
      "3 Multiplication\n",
      "4 Division\n",
      "5 Float Division\n",
      "Choose the option: 1\n",
      "Enter the first value: 21\n",
      "Enter the second value: 21\n",
      "The sum of two values:  42\n"
     ]
    }
   ],
   "source": [
    "print(\"1 Addition\")\n",
    "print(\"2 Subtraction\")\n",
    "print(\"3 Multiplication\")\n",
    "print(\"4 Division\")\n",
    "print(\"5 Float Division\")\n",
    "\n",
    "m = int(input(\"Choose the option: \"))\n",
    "\n",
    "a = int(input(\"Enter the first value: \"))\n",
    "b = int(input(\"Enter the second value: \"))\n",
    "\n",
    "if (m == 1):\n",
    "    sum = a+b\n",
    "    print(\"The sum of two values: \",sum)\n",
    "elif (m == 2):\n",
    "    sub = a-b\n",
    "    print(\"The substraction of two values: \",sub)\n",
    "elif (m == 3):\n",
    "    pro = a*b\n",
    "    print(\"The product of the two values: \",pro)\n",
    "elif (m == 4):\n",
    "    div = a/b\n",
    "    print(\"The division of the two values: \",div)\n",
    "else:\n",
    "    fldiv = a//b\n",
    "    print(\"The float division of the two values: \",fldiv)"
   ]
  },
  {
   "cell_type": "markdown",
   "metadata": {},
   "source": [
    "## 62. Write a program to add all the elements in the list without using inbuilt function."
   ]
  },
  {
   "cell_type": "code",
   "execution_count": 7,
   "metadata": {},
   "outputs": [
    {
     "name": "stdout",
     "output_type": "stream",
     "text": [
      "How many numbers: 5\n",
      "Enter number 25\n",
      "Enter number 35\n",
      "Enter number 45\n",
      "Enter number 55\n",
      "Enter number 65\n",
      "Sum of elements in given list is : 225\n"
     ]
    }
   ],
   "source": [
    "lst = []\n",
    "num = int(input('How many numbers: '))\n",
    "for n in range(num):\n",
    "    numbers = int(input('Enter number '))\n",
    "    lst.append(numbers)\n",
    "print(\"Sum of elements in given list is :\", sum(lst))"
   ]
  },
  {
   "cell_type": "markdown",
   "metadata": {},
   "source": [
    "## 63. Write a program to take two lists from the user and add the element present at same index from two list and create a third list. for e.g. element at index 1 of list 1 should get added with element at index 1 of list 2 and so on."
   ]
  },
  {
   "cell_type": "code",
   "execution_count": null,
   "metadata": {},
   "outputs": [],
   "source": []
  },
  {
   "cell_type": "markdown",
   "metadata": {},
   "source": [
    "## 64. Write a program to get whether the element is prime or not. "
   ]
  },
  {
   "cell_type": "code",
   "execution_count": 20,
   "metadata": {},
   "outputs": [
    {
     "name": "stdout",
     "output_type": "stream",
     "text": [
      "11 is a prime number\n"
     ]
    }
   ],
   "source": [
    "num = 11 \n",
    "(num % i) == 0\n",
    "print(num,\"is a prime number\")  \n"
   ]
  },
  {
   "cell_type": "markdown",
   "metadata": {},
   "source": [
    "## 65. Write a program to get the prime no up to n. n should be taken from the user. "
   ]
  },
  {
   "cell_type": "code",
   "execution_count": 16,
   "metadata": {},
   "outputs": [
    {
     "name": "stdout",
     "output_type": "stream",
     "text": [
      "Enter a number: 560\n",
      "560 is not a prime number\n",
      "1 times 560 is 560\n"
     ]
    }
   ],
   "source": [
    "num = int(input(\"Enter a number: \"))  \n",
    "  \n",
    "if num > 1:  \n",
    "    for i in range(2,num):\n",
    "        if (num % i) == 0:\n",
    "            print(num,\"is not a prime number\")  \n",
    "            print(i,\"times\",num//i,\"is\",num)  \n",
    "            break\n",
    "        else:\n",
    "            print(num,\"is a prime number\")  \n",
    "    \n",
    "else:\n",
    "    print(num,\"is not a prime number\") "
   ]
  },
  {
   "cell_type": "markdown",
   "metadata": {},
   "source": [
    "## 66. Write a program to find sum of first 10 natural number."
   ]
  },
  {
   "cell_type": "code",
   "execution_count": 17,
   "metadata": {},
   "outputs": [
    {
     "name": "stdout",
     "output_type": "stream",
     "text": [
      "Enter the value of n: 10\n",
      "Sum of first 10 natural numbers is:  55\n"
     ]
    }
   ],
   "source": [
    "num = int(input(\"Enter the value of n: \"))\n",
    "hold = num\n",
    "sum = 0\n",
    "\n",
    "if num <= 0: \n",
    "    print(\"Enter a whole positive number!\") \n",
    "else:\n",
    "    while num > 0:\n",
    "        sum = sum + num\n",
    "        num = num - 1;\n",
    "    # displaying output\n",
    "    print(\"Sum of first\", hold, \"natural numbers is: \", sum)"
   ]
  },
  {
   "cell_type": "markdown",
   "metadata": {},
   "source": [
    "## 67. Write a program to find sum of first n natural no value of n should be taken from the user."
   ]
  },
  {
   "cell_type": "code",
   "execution_count": 18,
   "metadata": {},
   "outputs": [
    {
     "name": "stdout",
     "output_type": "stream",
     "text": [
      "Enter the value of n: 10\n",
      "Sum of first 10 natural numbers is:  55\n"
     ]
    }
   ],
   "source": [
    "num = int(input(\"Enter the value of n: \"))\n",
    "hold = num\n",
    "sum = 0\n",
    "\n",
    "if num <= 0: \n",
    "    print(\"Enter a whole positive number!\") \n",
    "else:\n",
    "    while num > 0:\n",
    "        sum = sum + num\n",
    "        num = num - 1;\n",
    "    # displaying output\n",
    "    print(\"Sum of first\", hold, \"natural numbers is: \", sum)"
   ]
  },
  {
   "cell_type": "markdown",
   "metadata": {},
   "source": [
    "## 68. Write a program to calculate area of various shapes like circle, rectangle and square using function."
   ]
  },
  {
   "cell_type": "code",
   "execution_count": null,
   "metadata": {},
   "outputs": [],
   "source": [
    "m = input(\"Enter the Shape Name(Circle, Rectangle and Square): \")\n",
    "pie = 3.14\n",
    "if (m == circle):\n",
    "    def circle(area):\n",
    "        r = int(input(\"Enter the radius of the circle: \"))\n",
    "        area = pie*r*r\n",
    "elif (m == )"
   ]
  },
  {
   "cell_type": "markdown",
   "metadata": {},
   "source": [
    "## 69. Write a program to calculate Simple Interest using function. Take the values from the user for P, N, and R."
   ]
  },
  {
   "cell_type": "code",
   "execution_count": 21,
   "metadata": {},
   "outputs": [
    {
     "name": "stdout",
     "output_type": "stream",
     "text": [
      "Enter the principle amount= 20000\n",
      "Enter the rate= 12\n",
      "Enter the time= 23\n",
      "The simple interest is:  55200.0\n"
     ]
    }
   ],
   "source": [
    "p = int(input(\"Enter the principle amount= \"))\n",
    "r = int(input(\"Enter the rate= \"))\n",
    "t = int(input(\"Enter the time= \"))\n",
    "si = (p*r*t)/100\n",
    "print(\"The simple interest is: \",si)"
   ]
  },
  {
   "cell_type": "markdown",
   "metadata": {},
   "source": [
    "## 70. Write a program to calculate Compound Interest using function. Take the required parameter from the user."
   ]
  },
  {
   "cell_type": "code",
   "execution_count": 22,
   "metadata": {},
   "outputs": [
    {
     "name": "stdout",
     "output_type": "stream",
     "text": [
      "Enter the principal amount: 21000\n",
      "Enter the interest rate: 21\n",
      "Enter the time in years: 11\n",
      "Compound amount is 170945.77\n",
      "Compound interest is 149945.77\n"
     ]
    }
   ],
   "source": [
    "def compound_interest(principle, rate, time):\n",
    "    result = principle * (pow((1 + rate / 100), time))\n",
    "    return result\n",
    " \n",
    " \n",
    "p = float(input(\"Enter the principal amount: \"))\n",
    "r = float(input(\"Enter the interest rate: \"))\n",
    "t = float(input(\"Enter the time in years: \"))\n",
    " \n",
    "amount = compound_interest(p, r, t)\n",
    "interest = amount - p\n",
    "print(\"Compound amount is %.2f\" % amount)\n",
    "print(\"Compound interest is %.2f\" % interest)"
   ]
  },
  {
   "cell_type": "markdown",
   "metadata": {},
   "source": [
    "## 71. Write a program to convert temperature in degree to Celsius and vice-versa."
   ]
  },
  {
   "cell_type": "code",
   "execution_count": 23,
   "metadata": {},
   "outputs": [
    {
     "name": "stdout",
     "output_type": "stream",
     "text": [
      "Input the  temperature you like to convert? (e.g., 45F, 102C etc.) : 33F\n",
      "The temperature in Celsius is 1 degrees.\n"
     ]
    }
   ],
   "source": [
    "temp = input(\"Input the  temperature you like to convert? (e.g., 45F, 102C etc.) : \")\n",
    "degree = int(temp[:-1])\n",
    "i_convention = temp[-1]\n",
    "\n",
    "if i_convention.upper() == \"C\":\n",
    "    result = int(round((9 * degree) / 5 + 32))\n",
    "    o_convention = \"Fahrenheit\"\n",
    "elif i_convention.upper() == \"F\":\n",
    "    result = int(round((degree - 32) * 5 / 9))\n",
    "    o_convention = \"Celsius\"\n",
    "else:\n",
    "    print(\"Input proper convention.\")\n",
    "    quit()\n",
    "print(\"The temperature in\", o_convention, \"is\", result, \"degrees.\")\n"
   ]
  },
  {
   "cell_type": "markdown",
   "metadata": {},
   "source": [
    "## 72. Write a program to take the paise value from the user and convert it into rupee."
   ]
  },
  {
   "cell_type": "code",
   "execution_count": 29,
   "metadata": {},
   "outputs": [
    {
     "name": "stdout",
     "output_type": "stream",
     "text": [
      "Enter the amount in paisa: 2900\n",
      "The total amount in ruppes:  29.0\n"
     ]
    }
   ],
   "source": [
    "p = int(input(\"Enter the amount in paisa: \"))\n",
    "r = p/100\n",
    "print(\"The total amount in ruppes: \",r)"
   ]
  },
  {
   "cell_type": "markdown",
   "metadata": {},
   "source": [
    "## 73. Write a program to take a list from the user and find the cube and square root of every number in it."
   ]
  },
  {
   "cell_type": "code",
   "execution_count": null,
   "metadata": {},
   "outputs": [],
   "source": [
    "values = int(input(\"Enter the elements in list: \"))\n",
    "lst = value.split(,)\n",
    "print(\"List\",lst)\n",
    "for i in range(values):\n",
    "    "
   ]
  },
  {
   "cell_type": "markdown",
   "metadata": {},
   "source": [
    "## 74. Write a program to find the Second Largest Number in a List?"
   ]
  },
  {
   "cell_type": "code",
   "execution_count": null,
   "metadata": {},
   "outputs": [],
   "source": []
  },
  {
   "cell_type": "markdown",
   "metadata": {},
   "source": [
    "## 75. Write a program to Swap the first and last value of a List?"
   ]
  },
  {
   "cell_type": "code",
   "execution_count": null,
   "metadata": {},
   "outputs": [],
   "source": []
  },
  {
   "cell_type": "markdown",
   "metadata": {},
   "source": [
    "## 76. Write a program to count the number of Vowels in a String?"
   ]
  },
  {
   "cell_type": "code",
   "execution_count": 30,
   "metadata": {},
   "outputs": [
    {
     "name": "stdout",
     "output_type": "stream",
     "text": [
      "Enter string:Sandipta Subir Khare\n",
      "Number of vowels are: \n",
      "7\n"
     ]
    }
   ],
   "source": [
    "string = input(\"Enter string:\")\n",
    "vowels = 0\n",
    "for i in string:\n",
    "      if(i=='a' or i=='e' or i=='i' or i=='o' or i=='u' or i=='A' or i=='E' or i=='I' or i=='O' or i=='U'):\n",
    "            vowels=vowels+1\n",
    "print(\"Number of vowels are: \")\n",
    "print(vowels)"
   ]
  },
  {
   "cell_type": "markdown",
   "metadata": {},
   "source": [
    "## 77. Write a program to check common letters in two input String?"
   ]
  },
  {
   "cell_type": "code",
   "execution_count": 11,
   "metadata": {},
   "outputs": [
    {
     "name": "stdout",
     "output_type": "stream",
     "text": [
      "Enter first string:Sandipta Subir Khare\n",
      "Enter second string:Subir Khare\n",
      "The common letters are:\n",
      "r\n",
      "K\n",
      "b\n",
      "u\n",
      "S\n",
      "i\n",
      " \n",
      "a\n",
      "e\n",
      "h\n"
     ]
    }
   ],
   "source": [
    "s1=input(\"Enter first string:\")\n",
    "s2=input(\"Enter second string:\")\n",
    "a=list(set(s1)&set(s2))\n",
    "print(\"The common letters are:\")\n",
    "for i in a:\n",
    "    print(i)"
   ]
  },
  {
   "cell_type": "markdown",
   "metadata": {},
   "source": [
    "## 78. Write a program to check if a number is an Armstrong Number?"
   ]
  },
  {
   "cell_type": "code",
   "execution_count": 35,
   "metadata": {},
   "outputs": [
    {
     "name": "stdout",
     "output_type": "stream",
     "text": [
      "Enter a number: 10\n",
      "10 is not an Armstrong number\n"
     ]
    }
   ],
   "source": [
    " num = int(input(\"Enter a number: \"))  \n",
    "sum = 0  \n",
    "temp = num  \n",
    "  \n",
    "while temp > 0:  \n",
    "   digit = temp % 10  \n",
    "   sum += digit ** 3  \n",
    "   temp //= 10  \n",
    "  \n",
    "if num == sum:  \n",
    "   print(num,\"is an Armstrong number\")  \n",
    "else:  \n",
    "   print(num,\"is not an Armstrong number\")  "
   ]
  },
  {
   "cell_type": "markdown",
   "metadata": {},
   "source": [
    "## 79. Write a program to print Table of given number."
   ]
  },
  {
   "cell_type": "code",
   "execution_count": 36,
   "metadata": {},
   "outputs": [
    {
     "name": "stdout",
     "output_type": "stream",
     "text": [
      "Input a number: 100\n",
      "100 x 1 = 100\n",
      "100 x 2 = 200\n",
      "100 x 3 = 300\n",
      "100 x 4 = 400\n",
      "100 x 5 = 500\n",
      "100 x 6 = 600\n",
      "100 x 7 = 700\n",
      "100 x 8 = 800\n",
      "100 x 9 = 900\n",
      "100 x 10 = 1000\n"
     ]
    }
   ],
   "source": [
    "n = int(input(\"Input a number: \"))\n",
    "\n",
    "# use for loop to iterate 10 times\n",
    "for i in range(1,11):\n",
    "   print(n,'x',i,'=',n*i)"
   ]
  },
  {
   "cell_type": "markdown",
   "metadata": {},
   "source": [
    "## 80. Write a program to count the number of Digits in a number?"
   ]
  },
  {
   "cell_type": "code",
   "execution_count": 26,
   "metadata": {},
   "outputs": [
    {
     "name": "stdout",
     "output_type": "stream",
     "text": [
      "Enter the number: 345\n"
     ]
    },
    {
     "ename": "TypeError",
     "evalue": "'int' object is not iterable",
     "output_type": "error",
     "traceback": [
      "\u001b[1;31m---------------------------------------------------------------------------\u001b[0m",
      "\u001b[1;31mTypeError\u001b[0m                                 Traceback (most recent call last)",
      "\u001b[1;32m<ipython-input-26-3da79a69deb4>\u001b[0m in \u001b[0;36m<module>\u001b[1;34m\u001b[0m\n\u001b[0;32m      1\u001b[0m \u001b[0mn\u001b[0m \u001b[1;33m=\u001b[0m \u001b[0mint\u001b[0m\u001b[1;33m(\u001b[0m\u001b[0minput\u001b[0m\u001b[1;33m(\u001b[0m\u001b[1;34m\"Enter the number: \"\u001b[0m\u001b[1;33m)\u001b[0m\u001b[1;33m)\u001b[0m\u001b[1;33m\u001b[0m\u001b[1;33m\u001b[0m\u001b[0m\n\u001b[0;32m      2\u001b[0m \u001b[0md\u001b[0m \u001b[1;33m=\u001b[0m \u001b[1;36m0\u001b[0m\u001b[1;33m\u001b[0m\u001b[1;33m\u001b[0m\u001b[0m\n\u001b[1;32m----> 3\u001b[1;33m \u001b[1;32mfor\u001b[0m \u001b[0mi\u001b[0m \u001b[1;32min\u001b[0m \u001b[0mn\u001b[0m\u001b[1;33m:\u001b[0m\u001b[1;33m\u001b[0m\u001b[1;33m\u001b[0m\u001b[0m\n\u001b[0m\u001b[0;32m      4\u001b[0m     \u001b[1;32mif\u001b[0m \u001b[0mi\u001b[0m\u001b[1;33m.\u001b[0m\u001b[0misdigit\u001b[0m\u001b[1;33m(\u001b[0m\u001b[1;33m)\u001b[0m\u001b[1;33m:\u001b[0m\u001b[1;33m\u001b[0m\u001b[1;33m\u001b[0m\u001b[0m\n\u001b[0;32m      5\u001b[0m         \u001b[0md\u001b[0m \u001b[1;33m=\u001b[0m \u001b[0md\u001b[0m \u001b[1;33m+\u001b[0m \u001b[1;36m1\u001b[0m\u001b[1;33m\u001b[0m\u001b[1;33m\u001b[0m\u001b[0m\n",
      "\u001b[1;31mTypeError\u001b[0m: 'int' object is not iterable"
     ]
    }
   ],
   "source": [
    "n = int(input(\"Enter the number: \"))\n",
    "d = 0\n",
    "for i in n:\n",
    "    if i.isdigit():\n",
    "        d = d + 1\n",
    "    else:\n",
    "        break\n",
    "        \n",
    "        \n",
    "print(\"Digit: \",d)"
   ]
  },
  {
   "cell_type": "markdown",
   "metadata": {},
   "source": [
    "## 81. Write a program to find sum of the digits of a number in python?"
   ]
  },
  {
   "cell_type": "code",
   "execution_count": 37,
   "metadata": {},
   "outputs": [
    {
     "name": "stdout",
     "output_type": "stream",
     "text": [
      "Enter the first number: 21\n",
      "Enter the second number: 21\n",
      "The sum of two numbers are:  42\n"
     ]
    }
   ],
   "source": [
    "a = int(input(\"Enter the first number: \"))\n",
    "b = int(input(\"Enter the second number: \"))\n",
    "\n",
    "sum = a+b\n",
    "\n",
    "print(\"The sum of two numbers are: \",sum)"
   ]
  },
  {
   "cell_type": "markdown",
   "metadata": {},
   "source": [
    "## 82. Write a Python program to find those numbers which are divisible by 7 and multiple of 5, between 1500 and 2700 (both included)."
   ]
  },
  {
   "cell_type": "code",
   "execution_count": 38,
   "metadata": {},
   "outputs": [
    {
     "name": "stdout",
     "output_type": "stream",
     "text": [
      "1505,1540,1575,1610,1645,1680,1715,1750,1785,1820,1855,1890,1925,1960,1995,2030,2065,2100,2135,2170,2205,2240,2275,2310,2345,2380,2415,2450,2485,2520,2555,2590,2625,2660,2695\n"
     ]
    }
   ],
   "source": [
    "nl=[]\n",
    "for x in range(1500, 2701):\n",
    "    if (x%7==0) and (x%5==0):\n",
    "        nl.append(str(x))\n",
    "print (','.join(nl))"
   ]
  },
  {
   "cell_type": "markdown",
   "metadata": {},
   "source": [
    "## 83. Write a Python program to convert temperatures to and from celsius, fahrenheit. [ Formula : c/5 = f-32/9 [ where c = temperature in celsius and f = temperature in fahrenheit ]."
   ]
  },
  {
   "cell_type": "code",
   "execution_count": 39,
   "metadata": {},
   "outputs": [
    {
     "name": "stdout",
     "output_type": "stream",
     "text": [
      "Input the  temperature you like to convert? (e.g., 45F, 102C etc.) : 99F\n",
      "The temperature in Celsius is 37 degrees.\n"
     ]
    }
   ],
   "source": [
    "temp = input(\"Input the  temperature you like to convert? (e.g., 45F, 102C etc.) : \")\n",
    "degree = int(temp[:-1])\n",
    "i_convention = temp[-1]\n",
    "\n",
    "if i_convention.upper() == \"C\":\n",
    "  result = int(round((9 * degree) / 5 + 32))\n",
    "  o_convention = \"Fahrenheit\"\n",
    "elif i_convention.upper() == \"F\":\n",
    "  result = int(round((degree - 32) * 5 / 9))\n",
    "  o_convention = \"Celsius\"\n",
    "else:\n",
    "  print(\"Input proper convention.\")\n",
    "  quit()\n",
    "print(\"The temperature in\", o_convention, \"is\", result, \"degrees.\")\n"
   ]
  },
  {
   "cell_type": "markdown",
   "metadata": {},
   "source": [
    "## 84. Write a Python program that accepts a word from the user and reverse it."
   ]
  },
  {
   "cell_type": "code",
   "execution_count": 40,
   "metadata": {},
   "outputs": [
    {
     "name": "stdout",
     "output_type": "stream",
     "text": [
      "Input a word to reverse: SANDIPTA SUBIR KHARE\n",
      "ERAHK RIBUS ATPIDNAS\n",
      "\n"
     ]
    }
   ],
   "source": [
    "word = input(\"Input a word to reverse: \")\n",
    "\n",
    "for char in range(len(word) - 1, -1, -1):\n",
    "    print(word[char], end=\"\")\n",
    "print(\"\\n\")"
   ]
  },
  {
   "cell_type": "markdown",
   "metadata": {},
   "source": [
    "## 85. Program to find the square root."
   ]
  },
  {
   "cell_type": "code",
   "execution_count": 41,
   "metadata": {},
   "outputs": [
    {
     "name": "stdout",
     "output_type": "stream",
     "text": [
      "enter a number:13\n",
      "square root: 3.605551275463989\n"
     ]
    }
   ],
   "source": [
    "import math\n",
    "number = int(input(\"enter a number:\"))\n",
    "sqrt = math.sqrt(number)\n",
    "print(\"square root:\" , sqrt)"
   ]
  },
  {
   "cell_type": "markdown",
   "metadata": {},
   "source": [
    "## 86. Program to calculate the area of a triangle."
   ]
  },
  {
   "cell_type": "code",
   "execution_count": 42,
   "metadata": {},
   "outputs": [
    {
     "name": "stdout",
     "output_type": "stream",
     "text": [
      "Enter the lenght of the triangle: 21\n",
      "Enter the hieght of the triangle: 23\n",
      "Area of the Triangle is:  241.5\n"
     ]
    }
   ],
   "source": [
    "L = int(input(\"Enter the lenght of the triangle: \"))\n",
    "H = int(input(\"Enter the hieght of the triangle: \"))\n",
    "area = 1/2*(L*H)\n",
    "print(\"Area of the Triangle is: \", area)"
   ]
  },
  {
   "cell_type": "markdown",
   "metadata": {},
   "source": [
    "## 87. Program to solve Quadratic Equation."
   ]
  },
  {
   "cell_type": "code",
   "execution_count": 43,
   "metadata": {},
   "outputs": [
    {
     "name": "stdout",
     "output_type": "stream",
     "text": [
      "Quadratic function : (a * x^2) + b*x + c\n",
      "a: 123\n",
      "b: 234\n",
      "c: 345\n",
      "No roots, discriminant < 0.\n"
     ]
    }
   ],
   "source": [
    "from math import sqrt\n",
    "\n",
    "print(\"Quadratic function : (a * x^2) + b*x + c\")\n",
    "a = float(input(\"a: \"))\n",
    "b = float(input(\"b: \"))\n",
    "c = float(input(\"c: \"))\n",
    "\n",
    "r = b**2 - 4*a*c\n",
    "\n",
    "if r > 0:\n",
    "    num_roots = 2\n",
    "    x1 = (((-b) + sqrt(r))/(2*a))     \n",
    "    x2 = (((-b) - sqrt(r))/(2*a))\n",
    "    print(\"There are 2 roots: %f and %f\" % (x1, x2))\n",
    "elif r == 0:\n",
    "    num_roots = 1\n",
    "    x = (-b) / 2*a\n",
    "    print(\"There is one root: \", x)\n",
    "else:\n",
    "    num_roots = 0\n",
    "    print(\"No roots, discriminant < 0.\")\n",
    "    exit()"
   ]
  },
  {
   "cell_type": "markdown",
   "metadata": {},
   "source": [
    "## 88. Program to swap Two Variables."
   ]
  },
  {
   "cell_type": "code",
   "execution_count": 1,
   "metadata": {},
   "outputs": [
    {
     "name": "stdout",
     "output_type": "stream",
     "text": [
      "Enter the number: 21\n",
      "Enter the number: 23\n",
      "\n",
      "Before swap a = 21 and b = 23\n",
      "\n",
      "After swaping a = 23 and b = 21\n",
      "\n"
     ]
    }
   ],
   "source": [
    "a = int(input(\"Enter the number: \"))\n",
    "b = int(input(\"Enter the number: \"))\n",
    "print(\"\\nBefore swap a = %d and b = %d\" %(a, b))\n",
    "a, b = b, a\n",
    "print(\"\\nAfter swaping a = %d and b = %d\" %(a, b))\n",
    "print()"
   ]
  },
  {
   "cell_type": "markdown",
   "metadata": {},
   "source": [
    "## 89. Program to generate a random number."
   ]
  },
  {
   "cell_type": "code",
   "execution_count": 2,
   "metadata": {},
   "outputs": [
    {
     "name": "stdout",
     "output_type": "stream",
     "text": [
      "80 48 7 9 12 75 31 38 92 39 74 12 20 51 40 30 73 55 85 64 31 30 30 78 57 71 31 39 75 54 56 55 88 35 73 54 38 99 46 67 82 98 87 99 88 59 69 64 51 66 92 78 62 59 88 58 69 67 64 74 60 73 74 90 82 77 96 78 76 92 73 79 73 85 96 77 91 80 82 82 91 92 82 90 91 93 99 90 91 97 90 93 99 99 97 95 96 97 99 99 "
     ]
    }
   ],
   "source": [
    "import random\n",
    "\n",
    "for x in range(100):\n",
    "    print(random.randrange(x, 100), end=' ')"
   ]
  },
  {
   "cell_type": "markdown",
   "metadata": {},
   "source": [
    "## 90. Program to convert kilometers to Miles."
   ]
  },
  {
   "cell_type": "code",
   "execution_count": 3,
   "metadata": {},
   "outputs": [
    {
     "name": "stdout",
     "output_type": "stream",
     "text": [
      "Enter the value in Kilometers: 21\n",
      "The entered value in miles:  13.048791\n"
     ]
    }
   ],
   "source": [
    "KM = int(input(\"Enter the value in Kilometers: \"))\n",
    "\n",
    "ratio = 0.621371\n",
    "\n",
    "mi = KM*ratio\n",
    "\n",
    "print(\"The entered value in miles: \",mi)"
   ]
  },
  {
   "cell_type": "markdown",
   "metadata": {},
   "source": [
    "## 91. Program to find the largest among three numbers."
   ]
  },
  {
   "cell_type": "code",
   "execution_count": 4,
   "metadata": {},
   "outputs": [
    {
     "name": "stdout",
     "output_type": "stream",
     "text": [
      "Enter the first number: 21\n",
      "Enter the second number: 23\n",
      "Enter the third number: 24\n",
      "The third number is greater.\n"
     ]
    }
   ],
   "source": [
    "a = int(input(\"Enter the first number: \"))\n",
    "b = int(input(\"Enter the second number: \"))\n",
    "c = int(input(\"Enter the third number: \"))\n",
    "\n",
    "if (a>b):\n",
    "    print(\"The first number is greater.\")\n",
    "elif (b>c):\n",
    "    print(\"The second number is greater.\")\n",
    "else:\n",
    "    print(\"The third number is greater.\")"
   ]
  },
  {
   "cell_type": "markdown",
   "metadata": {},
   "source": [
    "## 92.  Program to check leap year."
   ]
  },
  {
   "cell_type": "code",
   "execution_count": 5,
   "metadata": {},
   "outputs": [
    {
     "name": "stdout",
     "output_type": "stream",
     "text": [
      "Enter a year: 1998\n",
      "1998 is not a leap year\n"
     ]
    }
   ],
   "source": [
    "year = int(input(\"Enter a year: \"))  \n",
    "if (year % 4) == 0:\n",
    "    if (year % 100) == 0:\n",
    "        if (year % 400) == 0:\n",
    "            print(\"{0} is a leap year\".format(year))  \n",
    "        else:  \n",
    "            print(\"{0} is not a leap year\".format(year))  \n",
    "    else:  \n",
    "        print(\"{0} is a leap year\".format(year))  \n",
    "else:  \n",
    "    print(\"{0} is not a leap year\".format(year))  "
   ]
  },
  {
   "cell_type": "markdown",
   "metadata": {},
   "source": [
    "## 93. Program to check if a number is positive, negative or 0."
   ]
  },
  {
   "cell_type": "code",
   "execution_count": 6,
   "metadata": {},
   "outputs": [
    {
     "name": "stdout",
     "output_type": "stream",
     "text": [
      "Enter the number: 11\n",
      "The number is postive number. 11\n"
     ]
    }
   ],
   "source": [
    "a = int(input(\"Enter the number: \"))\n",
    "if(a>0):\n",
    "    print(\"The number is postive number.\",a)\n",
    "elif(a<0):\n",
    "    print(\"The number is negative number.\",a)\n",
    "else:\n",
    "    print(\"The number is 0.\",a)"
   ]
  },
  {
   "cell_type": "markdown",
   "metadata": {},
   "source": [
    "## 94. Program to check prime number."
   ]
  },
  {
   "cell_type": "code",
   "execution_count": 12,
   "metadata": {},
   "outputs": [
    {
     "name": "stdout",
     "output_type": "stream",
     "text": [
      "Enter a number: 21\n",
      "21 is a prime number\n",
      "21 is not a prime number\n",
      "3 times 7 is 21\n"
     ]
    }
   ],
   "source": [
    "num = int(input(\"Enter a number: \"))  \n",
    "  \n",
    "if num > 1:  \n",
    "    for i in range(2,num):\n",
    "        if (num % i) == 0:\n",
    "            print(num,\"is not a prime number\")  \n",
    "            print(i,\"times\",num//i,\"is\",num)  \n",
    "            break\n",
    "        else:\n",
    "            print(num,\"is a prime number\")  \n",
    "    \n",
    "else:\n",
    "    print(num,\"is not a prime number\") "
   ]
  },
  {
   "cell_type": "markdown",
   "metadata": {},
   "source": [
    "## 95. Program to check prime numbers in an interval."
   ]
  },
  {
   "cell_type": "code",
   "execution_count": 13,
   "metadata": {},
   "outputs": [
    {
     "name": "stdout",
     "output_type": "stream",
     "text": [
      "Enter a number: 34\n",
      "34 is not a prime number\n",
      "2 times 17 is 34\n"
     ]
    }
   ],
   "source": [
    "num = int(input(\"Enter a number: \"))  \n",
    "  \n",
    "if num > 1:  \n",
    "    for i in range(2,num):\n",
    "        if (num % i) == 0:\n",
    "            print(num,\"is not a prime number\")  \n",
    "            print(i,\"times\",num//i,\"is\",num)  \n",
    "            break\n",
    "        else:\n",
    "            print(num,\"is a prime number\")  \n",
    "    \n",
    "else:\n",
    "    print(num,\"is not a prime number\") "
   ]
  },
  {
   "cell_type": "markdown",
   "metadata": {},
   "source": [
    "## 96. Program to find the factorial of a number."
   ]
  },
  {
   "cell_type": "code",
   "execution_count": 14,
   "metadata": {},
   "outputs": [
    {
     "name": "stdout",
     "output_type": "stream",
     "text": [
      "Input a number to compute the factiorial : 100\n",
      "93326215443944152681699238856266700490715968264381621468592963895217599993229915608941463976156518286253697920827223758251185210916864000000000000000000000000\n"
     ]
    }
   ],
   "source": [
    "def factorial(n):\n",
    "    if n == 0:\n",
    "        return 1\n",
    "    else:\n",
    "        return n * factorial(n-1)\n",
    "n=int(input(\"Input a number to compute the factiorial : \"))\n",
    "print(factorial(n))"
   ]
  },
  {
   "cell_type": "markdown",
   "metadata": {},
   "source": [
    "## 97. Program to display the multiplication table."
   ]
  },
  {
   "cell_type": "code",
   "execution_count": 15,
   "metadata": {},
   "outputs": [
    {
     "name": "stdout",
     "output_type": "stream",
     "text": [
      "Input a number: 12\n",
      "12 x 1 = 12\n",
      "12 x 2 = 24\n",
      "12 x 3 = 36\n",
      "12 x 4 = 48\n",
      "12 x 5 = 60\n",
      "12 x 6 = 72\n",
      "12 x 7 = 84\n",
      "12 x 8 = 96\n",
      "12 x 9 = 108\n",
      "12 x 10 = 120\n"
     ]
    }
   ],
   "source": [
    "n = int(input(\"Input a number: \"))\n",
    "\n",
    "# use for loop to iterate 10 times\n",
    "for i in range(1,11):\n",
    "   print(n,'x',i,'=',n*i)"
   ]
  },
  {
   "cell_type": "markdown",
   "metadata": {},
   "source": [
    "## 98. Program to find Armstrong Number in an interval."
   ]
  },
  {
   "cell_type": "code",
   "execution_count": 16,
   "metadata": {},
   "outputs": [
    {
     "name": "stdout",
     "output_type": "stream",
     "text": [
      "Enter a number: 100\n",
      "100 is not an Armstrong number\n"
     ]
    }
   ],
   "source": [
    " num = int(input(\"Enter a number: \"))  \n",
    "sum = 0  \n",
    "temp = num  \n",
    "  \n",
    "while temp > 0:  \n",
    "   digit = temp % 10  \n",
    "   sum += digit ** 3  \n",
    "   temp //= 10  \n",
    "  \n",
    "if num == sum:  \n",
    "   print(num,\"is an Armstrong number\")  \n",
    "else:  \n",
    "   print(num,\"is not an Armstrong number\")  "
   ]
  },
  {
   "cell_type": "markdown",
   "metadata": {},
   "source": [
    "## 99. Program to find the sum of Natural Numbers."
   ]
  },
  {
   "cell_type": "code",
   "execution_count": 17,
   "metadata": {},
   "outputs": [
    {
     "name": "stdout",
     "output_type": "stream",
     "text": [
      "Input a number: 100\n",
      "5050.0\n"
     ]
    }
   ],
   "source": [
    "n = int(input(\"Input a number: \"))\n",
    "sum_num = (n * (n + 1)) / 2\n",
    "print(sum_num)"
   ]
  },
  {
   "cell_type": "markdown",
   "metadata": {},
   "source": [
    "## 100. Program to find factors of Number."
   ]
  },
  {
   "cell_type": "code",
   "execution_count": 18,
   "metadata": {},
   "outputs": [
    {
     "name": "stdout",
     "output_type": "stream",
     "text": [
      "Enter the number: 21\n",
      "The factors of 21 are:\n",
      "1\n",
      "3\n",
      "7\n",
      "21\n"
     ]
    }
   ],
   "source": [
    "def print_factors(x):\n",
    "   print(\"The factors of\",x,\"are:\")\n",
    "   for i in range(1, x + 1):\n",
    "       if x % i == 0:\n",
    "           print(i)\n",
    "num = int(input(\"Enter the number: \"))\n",
    "print_factors(num)"
   ]
  },
  {
   "cell_type": "markdown",
   "metadata": {},
   "source": [
    "## 101. Program to make a Simple Calculator."
   ]
  },
  {
   "cell_type": "code",
   "execution_count": 19,
   "metadata": {},
   "outputs": [
    {
     "name": "stdout",
     "output_type": "stream",
     "text": [
      "1 Addition\n",
      "2 Subtraction\n",
      "3 Multiplication\n",
      "4 Division\n",
      "5 Float Division\n",
      "Choose the option: 1\n",
      "Enter the first value: 21\n",
      "Enter the second value: 26\n",
      "The sum of two values:  47\n"
     ]
    }
   ],
   "source": [
    "print(\"1 Addition\")\n",
    "print(\"2 Subtraction\")\n",
    "print(\"3 Multiplication\")\n",
    "print(\"4 Division\")\n",
    "print(\"5 Float Division\")\n",
    "\n",
    "m = int(input(\"Choose the option: \"))\n",
    "\n",
    "a = int(input(\"Enter the first value: \"))\n",
    "b = int(input(\"Enter the second value: \"))\n",
    "\n",
    "if (m == 1):\n",
    "    sum = a+b\n",
    "    print(\"The sum of two values: \",sum)\n",
    "elif (m == 2):\n",
    "    sub = a-b\n",
    "    print(\"The substraction of two values: \",sub)\n",
    "elif (m == 3):\n",
    "    pro = a*b\n",
    "    print(\"The product of the two values: \",pro)\n",
    "elif (m == 4):\n",
    "    div = a/b\n",
    "    print(\"The division of the two values: \",div)\n",
    "else:\n",
    "    fldiv = a//b\n",
    "    print(\"The float division of the two values: \",fldiv)"
   ]
  },
  {
   "cell_type": "markdown",
   "metadata": {},
   "source": [
    "## 102. Program to find LCM."
   ]
  },
  {
   "cell_type": "code",
   "execution_count": 20,
   "metadata": {},
   "outputs": [
    {
     "name": "stdout",
     "output_type": "stream",
     "text": [
      "Enter the first number: 23\n",
      "Enter second number: 34\n",
      "The L.C.M. of 23 and 34 is 782\n"
     ]
    }
   ],
   "source": [
    "def lcm(x, y):  \n",
    "    if x > y:\n",
    "        greater = x\n",
    "    else:\n",
    "        greater = y\n",
    " \n",
    "    while True:\n",
    "        if (greater % x == 0) and (greater % y == 0):\n",
    "            lcm_result = greater\n",
    "            break\n",
    "        greater += 1\n",
    " \n",
    "    return lcm_result\n",
    " \n",
    " \n",
    "num1 = int(input(\"Enter the first number: \"))\n",
    "num2 = int(input(\"Enter second number: \"))\n",
    " \n",
    "print(\"The L.C.M. of\", num1, \"and\", num2, \"is\", lcm(num1, num2))"
   ]
  },
  {
   "cell_type": "markdown",
   "metadata": {},
   "source": [
    "## 103. Program to check whether a string is palindrome."
   ]
  },
  {
   "cell_type": "code",
   "execution_count": 21,
   "metadata": {},
   "outputs": [
    {
     "name": "stdout",
     "output_type": "stream",
     "text": [
      "Enter the string: Sandipta\n",
      "The string is not a palindrome.\n"
     ]
    }
   ],
   "source": [
    "my_str = input(\"Enter the string: \")\n",
    "# make it suitable for caseless comparison\n",
    "my_str = my_str.casefold()\n",
    "# reverse the string\n",
    "rev_str = reversed(my_str)\n",
    "# check if the string is equal to its reverse\n",
    "if list(my_str) == list(rev_str):\n",
    "   print(\"The string is a palindrome.\")\n",
    "else:\n",
    "   print(\"The string is not a palindrome.\")"
   ]
  },
  {
   "cell_type": "markdown",
   "metadata": {},
   "source": [
    "## 104. Program to sort words in Alphabetic order."
   ]
  },
  {
   "cell_type": "code",
   "execution_count": 22,
   "metadata": {},
   "outputs": [
    {
     "name": "stdout",
     "output_type": "stream",
     "text": [
      "Enter the string: sandipta\n",
      "['a', 'a', 'd', 'i', 'n', 'p', 's', 't']\n"
     ]
    }
   ],
   "source": [
    "a = input(\"Enter the string: \")\n",
    "x = sorted(a)\n",
    "print(x)"
   ]
  },
  {
   "cell_type": "markdown",
   "metadata": {},
   "source": [
    "## 105. Program to count the number of each vowel."
   ]
  },
  {
   "cell_type": "code",
   "execution_count": 23,
   "metadata": {},
   "outputs": [
    {
     "name": "stdout",
     "output_type": "stream",
     "text": [
      "Enter string:Sandipta\n",
      "Number of vowels are: \n",
      "3\n"
     ]
    }
   ],
   "source": [
    "string = input(\"Enter string:\")\n",
    "vowels = 0\n",
    "for i in string:\n",
    "      if(i=='a' or i=='e' or i=='i' or i=='o' or i=='u' or i=='A' or i=='E' or i=='I' or i=='O' or i=='U'):\n",
    "            vowels=vowels+1\n",
    "print(\"Number of vowels are: \")\n",
    "print(vowels)"
   ]
  },
  {
   "cell_type": "markdown",
   "metadata": {},
   "source": [
    "## 106. Write a Python program to print alphabet pattern 'A'."
   ]
  },
  {
   "cell_type": "code",
   "execution_count": 24,
   "metadata": {},
   "outputs": [
    {
     "name": "stdout",
     "output_type": "stream",
     "text": [
      "*****\n",
      "*   *\n",
      "*   *\n",
      "*****\n",
      "*   *\n",
      "*   *\n",
      "*   *\n",
      "\n"
     ]
    }
   ],
   "source": [
    "str1 = \"\"\n",
    "for row in range(7):\n",
    "    for col in range(5):\n",
    "        if (col == 0 or col == 4) or ((row == 0 or row == 3) and (col>0 and col<4)):\n",
    "            str1 = str1+\"*\"\n",
    "        else:\n",
    "            str1 = str1+\" \"\n",
    "    str1 = str1+\"\\n\"\n",
    "print(str1)"
   ]
  },
  {
   "cell_type": "markdown",
   "metadata": {},
   "source": [
    "## 107. Write a Python program to construct the following pattern, using a nested loop number."
   ]
  },
  {
   "cell_type": "code",
   "execution_count": null,
   "metadata": {},
   "outputs": [],
   "source": [
    "## Done."
   ]
  },
  {
   "cell_type": "markdown",
   "metadata": {},
   "source": [
    "## 108. Accept a character from the user and check for the following and display appropriate messages: \n",
    "## a. Is the character a vowel or consonant? \n",
    "## b. Is the character in uppercase or lowercase? \n",
    "## c. Does the character occur in the string “Data Science” and if so at what position?"
   ]
  },
  {
   "cell_type": "markdown",
   "metadata": {},
   "source": [
    "## a."
   ]
  },
  {
   "cell_type": "code",
   "execution_count": 16,
   "metadata": {},
   "outputs": [
    {
     "name": "stdout",
     "output_type": "stream",
     "text": [
      "Enter the character: n\n",
      "n character is constant.\n"
     ]
    }
   ],
   "source": [
    "x = input(\"Enter the character: \")\n",
    "for i in x:\n",
    "    if(i == 'a' or i == 'e' or i =='i' or i == 'o' or i == 'u' or i == 'A' or i == 'E' or i =='I' or i == 'O' or i == 'U'):\n",
    "        print(i,\"character is vowel.\")\n",
    "    else:\n",
    "        print(i,\"character is constant.\")"
   ]
  },
  {
   "cell_type": "markdown",
   "metadata": {},
   "source": [
    "## b."
   ]
  },
  {
   "cell_type": "code",
   "execution_count": 17,
   "metadata": {},
   "outputs": [
    {
     "name": "stdout",
     "output_type": "stream",
     "text": [
      "Enter the character: n\n",
      "n is the lower case character.\n"
     ]
    }
   ],
   "source": [
    "x = input(\"Enter the character: \")\n",
    "if x.lower() == x:\n",
    "    print(x,\"is the lower case character.\")\n",
    "else:\n",
    "    print(x,\"is the upper case character.\")"
   ]
  },
  {
   "cell_type": "markdown",
   "metadata": {},
   "source": [
    "## c."
   ]
  },
  {
   "cell_type": "code",
   "execution_count": 19,
   "metadata": {},
   "outputs": [
    {
     "name": "stdout",
     "output_type": "stream",
     "text": [
      "True\n",
      "1\n"
     ]
    }
   ],
   "source": [
    "x = \"Data Science\"\n",
    "y = 'a' in x\n",
    "print(y)\n",
    "print(x.index('a',0,5))"
   ]
  },
  {
   "cell_type": "markdown",
   "metadata": {},
   "source": [
    "## 109.  Write a function to add two numbers."
   ]
  },
  {
   "cell_type": "code",
   "execution_count": 29,
   "metadata": {},
   "outputs": [
    {
     "name": "stdout",
     "output_type": "stream",
     "text": [
      "Enter the first value: 23\n",
      "Enter the second value: 34\n",
      "The sum of two number is:  57\n"
     ]
    }
   ],
   "source": [
    "a = int(input(\"Enter the first value: \"))\n",
    "b = int(input(\"Enter the second value: \"))\n",
    "def sum1(a,b):\n",
    "    return a+b\n",
    "print(\"The sum of two number is: \",sum1(a,b))"
   ]
  },
  {
   "cell_type": "markdown",
   "metadata": {},
   "source": [
    "## 110. Write a function to calculate the average of two numbers."
   ]
  },
  {
   "cell_type": "code",
   "execution_count": 30,
   "metadata": {},
   "outputs": [
    {
     "name": "stdout",
     "output_type": "stream",
     "text": [
      "Enter the first value: 21\n",
      "Enter the second number: 22\n",
      "The average is:  21.5\n"
     ]
    }
   ],
   "source": [
    "x = int(input(\"Enter the first value: \"))\n",
    "y = int(input(\"Enter the second number: \"))\n",
    "def avg(x,y):\n",
    "    return (x+y)/2\n",
    "print(\"The average is: \",avg(x,y))"
   ]
  },
  {
   "cell_type": "markdown",
   "metadata": {},
   "source": [
    "## 111. Write a function to calculate the square of sum of two numbers."
   ]
  },
  {
   "cell_type": "code",
   "execution_count": 32,
   "metadata": {},
   "outputs": [
    {
     "name": "stdout",
     "output_type": "stream",
     "text": [
      "Enter the first value: 23\n",
      "Enter the second number: 34\n",
      "The average is:  3249\n"
     ]
    }
   ],
   "source": [
    "x = int(input(\"Enter the first value: \"))\n",
    "y = int(input(\"Enter the second number: \"))\n",
    "def sqr(x,y):\n",
    "    return (x+y)*(x+y)\n",
    "print(\"The average is: \",sqr(x,y))"
   ]
  },
  {
   "cell_type": "markdown",
   "metadata": {},
   "source": [
    "## 112. Write a function to check whether the number is in the range 50 to 100."
   ]
  },
  {
   "cell_type": "code",
   "execution_count": 34,
   "metadata": {},
   "outputs": [
    {
     "name": "stdout",
     "output_type": "stream",
     "text": [
      "Enter the number: 21\n",
      "The number is outside the given range.\n"
     ]
    }
   ],
   "source": [
    "m = int(input(\"Enter the number: \"))\n",
    "def test_range(n):\n",
    "    if n in range(50,100):\n",
    "        print( \" %s is in the range\"%str(n))\n",
    "    else :\n",
    "        print(\"The number is outside the given range.\")\n",
    "test_range(m)"
   ]
  },
  {
   "cell_type": "markdown",
   "metadata": {},
   "source": [
    "## 113. Write a program to shift inputed data by two bits to left."
   ]
  },
  {
   "cell_type": "code",
   "execution_count": null,
   "metadata": {},
   "outputs": [],
   "source": []
  },
  {
   "cell_type": "markdown",
   "metadata": {},
   "source": [
    "## 114. Write a program to find the entered year is a leap year or not."
   ]
  },
  {
   "cell_type": "code",
   "execution_count": 20,
   "metadata": {},
   "outputs": [
    {
     "name": "stdout",
     "output_type": "stream",
     "text": [
      "Enter a year: 2000\n",
      "2000 is a leap year\n"
     ]
    }
   ],
   "source": [
    "year = int(input(\"Enter a year: \"))  \n",
    "if (year % 4) == 0:\n",
    "    if (year % 100) == 0:\n",
    "        if (year % 400) == 0:\n",
    "            print(\"{0} is a leap year\".format(year))  \n",
    "        else:  \n",
    "            print(\"{0} is not a leap year\".format(year))  \n",
    "    else:  \n",
    "        print(\"{0} is a leap year\".format(year))  \n",
    "else:  \n",
    "    print(\"{0} is not a leap year\".format(year))  "
   ]
  },
  {
   "cell_type": "markdown",
   "metadata": {},
   "source": [
    "## 115. Write a program to sort the given string in descending order."
   ]
  },
  {
   "cell_type": "code",
   "execution_count": null,
   "metadata": {},
   "outputs": [],
   "source": []
  },
  {
   "cell_type": "markdown",
   "metadata": {},
   "source": [
    "## 116. Write a program to sort the given string in ascending order."
   ]
  },
  {
   "cell_type": "code",
   "execution_count": null,
   "metadata": {},
   "outputs": [],
   "source": []
  },
  {
   "cell_type": "markdown",
   "metadata": {},
   "source": [
    "## 117. Write a program to sort the list without inbuilt function."
   ]
  },
  {
   "cell_type": "code",
   "execution_count": null,
   "metadata": {},
   "outputs": [],
   "source": []
  },
  {
   "cell_type": "markdown",
   "metadata": {},
   "source": [
    "## 118. Write a program to show the use of all comparison operators."
   ]
  },
  {
   "cell_type": "code",
   "execution_count": null,
   "metadata": {},
   "outputs": [],
   "source": []
  },
  {
   "cell_type": "markdown",
   "metadata": {},
   "source": [
    "## 119. Write a Program to show the use of all logical operators."
   ]
  },
  {
   "cell_type": "code",
   "execution_count": null,
   "metadata": {},
   "outputs": [],
   "source": []
  },
  {
   "cell_type": "markdown",
   "metadata": {},
   "source": [
    "## 120. Write a Program to find gross Salary."
   ]
  },
  {
   "cell_type": "code",
   "execution_count": null,
   "metadata": {},
   "outputs": [],
   "source": []
  },
  {
   "cell_type": "markdown",
   "metadata": {},
   "source": [
    "## 121. Write a program to shift inputed data by two bits to right."
   ]
  },
  {
   "cell_type": "code",
   "execution_count": null,
   "metadata": {},
   "outputs": [],
   "source": []
  },
  {
   "cell_type": "markdown",
   "metadata": {},
   "source": [
    "## 122. Write a program to show the use of various arithmetic operators using if ..elif..else."
   ]
  },
  {
   "cell_type": "code",
   "execution_count": null,
   "metadata": {},
   "outputs": [],
   "source": []
  },
  {
   "cell_type": "markdown",
   "metadata": {},
   "source": [
    "## 123. Write a program to find Fibonacci series up to 100."
   ]
  },
  {
   "cell_type": "code",
   "execution_count": null,
   "metadata": {},
   "outputs": [],
   "source": []
  },
  {
   "cell_type": "markdown",
   "metadata": {},
   "source": [
    "## 124. Write a program to display sum of series 1+1/2+1/3+…..+1/n."
   ]
  },
  {
   "cell_type": "code",
   "execution_count": null,
   "metadata": {},
   "outputs": [],
   "source": []
  },
  {
   "cell_type": "markdown",
   "metadata": {},
   "source": [
    "## 125. Write a program to display series and find sum of 1+3+5+…+n."
   ]
  },
  {
   "cell_type": "code",
   "execution_count": null,
   "metadata": {},
   "outputs": [],
   "source": []
  },
  {
   "cell_type": "markdown",
   "metadata": {},
   "source": [
    "## 126. Write a program to show use of bitwise operator."
   ]
  },
  {
   "cell_type": "code",
   "execution_count": null,
   "metadata": {},
   "outputs": [],
   "source": []
  },
  {
   "cell_type": "markdown",
   "metadata": {},
   "source": [
    "## 127. Write a program to find square of a number using functions."
   ]
  },
  {
   "cell_type": "code",
   "execution_count": 27,
   "metadata": {},
   "outputs": [
    {
     "name": "stdout",
     "output_type": "stream",
     "text": [
      "Enter the number: 23\n",
      "The square of number is:  529\n"
     ]
    }
   ],
   "source": [
    "n = int(input(\"Enter the number: \"))\n",
    "def sqnum(n):\n",
    "    return n**2\n",
    "\n",
    "print(\"The square of number is: \",sqnum(n))"
   ]
  },
  {
   "cell_type": "markdown",
   "metadata": {},
   "source": [
    "## 128. Write a program to swap two numbers using functions."
   ]
  },
  {
   "cell_type": "code",
   "execution_count": 3,
   "metadata": {},
   "outputs": [
    {
     "name": "stdout",
     "output_type": "stream",
     "text": [
      "Enter the first number: 34\n",
      "Enter the Second number: 45\n",
      "Swapping of two numbers are:  None\n"
     ]
    }
   ],
   "source": [
    "x = int(input(\"Enter the first number: \"))\n",
    "y = int(input(\"Enter the Second number: \"))\n",
    "temp = 0\n",
    "def swap(x,y,temp):\n",
    "    x = temp\n",
    "    y = x\n",
    "    temp = y\n",
    "\n",
    "print(\"Swapping of two numbers are: \",swap(x,y,temp))"
   ]
  },
  {
   "cell_type": "markdown",
   "metadata": {},
   "source": [
    "## 129. Write a program to show use of break statement."
   ]
  },
  {
   "cell_type": "code",
   "execution_count": 4,
   "metadata": {},
   "outputs": [
    {
     "name": "stdout",
     "output_type": "stream",
     "text": [
      "s\n",
      "t\n",
      "r\n",
      "The end\n"
     ]
    }
   ],
   "source": [
    "for val in \"string\":\n",
    "    if val == \"i\":\n",
    "        break\n",
    "    print(val)\n",
    "\n",
    "print(\"The end\")"
   ]
  },
  {
   "cell_type": "markdown",
   "metadata": {},
   "source": [
    "## 130. Write a program to evaluate equation y=xn when n is a non-negative integer."
   ]
  },
  {
   "cell_type": "code",
   "execution_count": null,
   "metadata": {},
   "outputs": [],
   "source": []
  },
  {
   "cell_type": "markdown",
   "metadata": {},
   "source": [
    "## 131. Write a program to show use of List Comprehension."
   ]
  },
  {
   "cell_type": "code",
   "execution_count": null,
   "metadata": {},
   "outputs": [],
   "source": []
  },
  {
   "cell_type": "markdown",
   "metadata": {},
   "source": [
    "## 132. Write a program to show use of lambda function."
   ]
  },
  {
   "cell_type": "code",
   "execution_count": null,
   "metadata": {},
   "outputs": [],
   "source": []
  },
  {
   "cell_type": "markdown",
   "metadata": {},
   "source": [
    "## 133. Write a program to calculate factorial of a number using functions."
   ]
  },
  {
   "cell_type": "code",
   "execution_count": 16,
   "metadata": {},
   "outputs": [
    {
     "name": "stdout",
     "output_type": "stream",
     "text": [
      "Input a number to compute the factiorial : 3\n",
      "6\n"
     ]
    }
   ],
   "source": [
    "def factorial(n):\n",
    "    if n == 0:\n",
    "        return 1\n",
    "    else:\n",
    "        return n * factorial(n-1)\n",
    "n=int(input(\"Input a number to compute the factiorial : \"))\n",
    "print(factorial(n))"
   ]
  },
  {
   "cell_type": "markdown",
   "metadata": {},
   "source": [
    "## 134. Write a program to show table of a number using functions."
   ]
  },
  {
   "cell_type": "code",
   "execution_count": null,
   "metadata": {},
   "outputs": [],
   "source": []
  },
  {
   "cell_type": "markdown",
   "metadata": {},
   "source": [
    "## 135. Given below is the list of marks obtained by a class of 50 students in an annual examination. 43 65 51 27 79 11 56 61 82 09 25 36 07 49 55 63 74 81 49 37 40 49 16 75 87 91 33 24 58 78 65 56 76 67 45 54 36 63 12 21 73 49 51 19 39 49 68 93 85 59 Write a program to count the number of students belonging to each of following groups of marks: 0-9, 10-19, 20-29,.....,100."
   ]
  },
  {
   "cell_type": "code",
   "execution_count": null,
   "metadata": {},
   "outputs": [],
   "source": []
  },
  {
   "cell_type": "markdown",
   "metadata": {},
   "source": [
    "## 136. Write a program to sort a list and then find the median from it."
   ]
  },
  {
   "cell_type": "code",
   "execution_count": null,
   "metadata": {},
   "outputs": [],
   "source": []
  },
  {
   "cell_type": "markdown",
   "metadata": {},
   "source": [
    "## 137. Write a program to find the second highest value from the list."
   ]
  },
  {
   "cell_type": "code",
   "execution_count": null,
   "metadata": {},
   "outputs": [],
   "source": []
  },
  {
   "cell_type": "markdown",
   "metadata": {},
   "source": [
    "## 138. Write a program to find second smallest value from the list."
   ]
  },
  {
   "cell_type": "code",
   "execution_count": null,
   "metadata": {},
   "outputs": [],
   "source": []
  },
  {
   "cell_type": "markdown",
   "metadata": {},
   "source": [
    "## 139. Write a program for removing the duplicate element in the list."
   ]
  },
  {
   "cell_type": "code",
   "execution_count": null,
   "metadata": {},
   "outputs": [],
   "source": []
  },
  {
   "cell_type": "markdown",
   "metadata": {},
   "source": [
    "## 140. Write a program to evaluate the series 1/(1-x)=1+x+x2+x3+x4+…+xn."
   ]
  },
  {
   "cell_type": "code",
   "execution_count": null,
   "metadata": {},
   "outputs": [],
   "source": []
  },
  {
   "cell_type": "markdown",
   "metadata": {},
   "source": [
    "## 141. Write a program to show use of continue statement."
   ]
  },
  {
   "cell_type": "code",
   "execution_count": null,
   "metadata": {},
   "outputs": [],
   "source": []
  },
  {
   "cell_type": "markdown",
   "metadata": {},
   "source": [
    "## 142. Take three list from user first list is of gender second list of height and third list of weight for 15 students and then perform following things:\n",
    "## a. Calculate number of male and female \n",
    "## b. Find out students with gender=male and height above 5 feet. \n",
    "## c. Find out students with gender =male, height >=5 feet and weight above 70 kg 5. Find out students with gender = female, height >=4.8 feet."
   ]
  },
  {
   "cell_type": "code",
   "execution_count": 1,
   "metadata": {},
   "outputs": [
    {
     "name": "stdout",
     "output_type": "stream",
     "text": [
      "Enter number of elements : 15\n",
      "Enter number of elements : 15\n",
      "Enter number of elements : 15\n"
     ]
    },
    {
     "ename": "TypeError",
     "evalue": "'str' object cannot be interpreted as an integer",
     "output_type": "error",
     "traceback": [
      "\u001b[1;31m---------------------------------------------------------------------------\u001b[0m",
      "\u001b[1;31mTypeError\u001b[0m                                 Traceback (most recent call last)",
      "\u001b[1;32m<ipython-input-1-f3bc27c35c40>\u001b[0m in \u001b[0;36m<module>\u001b[1;34m\u001b[0m\n\u001b[0;32m     10\u001b[0m \u001b[1;33m\u001b[0m\u001b[0m\n\u001b[0;32m     11\u001b[0m \u001b[1;31m# iterating till the range\u001b[0m\u001b[1;33m\u001b[0m\u001b[1;33m\u001b[0m\u001b[1;33m\u001b[0m\u001b[0m\n\u001b[1;32m---> 12\u001b[1;33m \u001b[1;32mfor\u001b[0m \u001b[0mi\u001b[0m \u001b[1;32min\u001b[0m \u001b[0mrange\u001b[0m\u001b[1;33m(\u001b[0m\u001b[1;36m0\u001b[0m\u001b[1;33m,\u001b[0m \u001b[0mstr1\u001b[0m\u001b[1;33m)\u001b[0m\u001b[1;33m:\u001b[0m\u001b[1;33m\u001b[0m\u001b[1;33m\u001b[0m\u001b[0m\n\u001b[0m\u001b[0;32m     13\u001b[0m     \u001b[0mele\u001b[0m \u001b[1;33m=\u001b[0m \u001b[0mint\u001b[0m\u001b[1;33m(\u001b[0m\u001b[0minput\u001b[0m\u001b[1;33m(\u001b[0m\u001b[1;33m)\u001b[0m\u001b[1;33m)\u001b[0m\u001b[1;33m\u001b[0m\u001b[1;33m\u001b[0m\u001b[0m\n\u001b[0;32m     14\u001b[0m \u001b[1;33m\u001b[0m\u001b[0m\n",
      "\u001b[1;31mTypeError\u001b[0m: 'str' object cannot be interpreted as an integer"
     ]
    }
   ],
   "source": [
    "# creating an empty list \n",
    "lst1 = [] \n",
    "lst2 = [] \n",
    "lst3 = [] \n",
    "\n",
    "# number of elemetns as input \n",
    "str1 = (input(\"Enter number of elements : \")) \n",
    "str2 = (input(\"Enter number of elements : \")) \n",
    "str3 = int(input(\"Enter number of elements : \"))\n",
    "\n",
    "# iterating till the range \n",
    "for i in range(0, str1): \n",
    "    ele = int(input()) \n",
    "  \n",
    "    lst1.append(ele) # adding the element \n",
    "      \n",
    "print(\"The list of user which contain gender: \", lst1) \n",
    "\n",
    "# iterating till the range \n",
    "for i in range(0, str2): \n",
    "    ele = int(input()) \n",
    "  \n",
    "    lst2.append(ele) # adding the element \n",
    "      \n",
    "print(\"The list of user which contain gender: \", lst2)\n",
    "\n",
    "# iterating till the range \n",
    "for i in range(0, str3): \n",
    "    ele = int(input()) \n",
    "  \n",
    "    lst3.append(ele) # adding the element \n",
    "      \n",
    "print(\"The list of user which contain gender: \", lst3)\n"
   ]
  },
  {
   "cell_type": "markdown",
   "metadata": {},
   "source": [
    "## 143. Write a program to read a sentence from the user in any case and convert it into upper case."
   ]
  },
  {
   "cell_type": "code",
   "execution_count": 19,
   "metadata": {},
   "outputs": [
    {
     "name": "stdout",
     "output_type": "stream",
     "text": [
      "Enter 'x' for exit.\n",
      "Enter any string to convert in uppercase: Sandipta\n",
      "\n",
      "String in Uppercase = SANDIPTA\n"
     ]
    }
   ],
   "source": [
    "print(\"Enter 'x' for exit.\");\n",
    "string = input(\"Enter any string to convert in uppercase: \");\n",
    "if string == 'x':\n",
    "    exit();\n",
    "else:\n",
    "    string_in_uppercase = string.upper();\n",
    "    print(\"\\nString in Uppercase =\",string_in_uppercase);"
   ]
  },
  {
   "cell_type": "markdown",
   "metadata": {},
   "source": [
    "## 144. Write a program to read a sentence from the user in any case and convert it into lower case."
   ]
  },
  {
   "cell_type": "code",
   "execution_count": 20,
   "metadata": {},
   "outputs": [
    {
     "name": "stdout",
     "output_type": "stream",
     "text": [
      "Enter 'x' for exit.\n",
      "Enter any string to convert in uppercase: SANDIPTA\n",
      "\n",
      "String in Uppercase = sandipta\n"
     ]
    }
   ],
   "source": [
    "print(\"Enter 'x' for exit.\");\n",
    "string = input(\"Enter any string to convert in uppercase: \");\n",
    "if string == 'x':\n",
    "    exit();\n",
    "else:\n",
    "    string_in_lowercase = string.lower();\n",
    "    print(\"\\nString in Uppercase =\",string_in_lowercase);"
   ]
  },
  {
   "cell_type": "markdown",
   "metadata": {},
   "source": [
    "## 145. Program to convert days to months."
   ]
  },
  {
   "cell_type": "code",
   "execution_count": 9,
   "metadata": {},
   "outputs": [
    {
     "name": "stdout",
     "output_type": "stream",
     "text": [
      "1 30\n",
      "2 31\n",
      "Enter the choice from the given option: 1\n",
      "Enter the number of days: 2334\n",
      "The number of months are:  77.8\n"
     ]
    }
   ],
   "source": [
    "print(\"1 30\")\n",
    "print(\"2 31\")\n",
    "\n",
    "m = int(input(\"Enter the choice from the given option: \"))\n",
    "n = int(input(\"Enter the number of days: \"))\n",
    "\n",
    "mth = 0\n",
    "\n",
    "if (m == 1):\n",
    "    mth = n/30\n",
    "    print(\"The number of months are: \",mth)\n",
    "else:\n",
    "    mth = n/31\n",
    "    print(\"The number of months are: \",mth)"
   ]
  },
  {
   "cell_type": "markdown",
   "metadata": {},
   "source": [
    "## 146. A computer manufacturing company has the following monthly compensation policy to their salespersons: Minimum base salary : 1500.00 Bonus for every computer sold : 200.00 Commission on the total monthly sales : 2 per cent Since the prices of computers are changing, the sales price of each computer is fixed at the beginning of every month."
   ]
  },
  {
   "cell_type": "code",
   "execution_count": null,
   "metadata": {},
   "outputs": [],
   "source": []
  },
  {
   "cell_type": "markdown",
   "metadata": {},
   "source": [
    "## 147. Write a program to show the use of multiple for loop."
   ]
  },
  {
   "cell_type": "code",
   "execution_count": 10,
   "metadata": {},
   "outputs": [
    {
     "name": "stdout",
     "output_type": "stream",
     "text": [
      "******\n",
      "    * \n",
      "   *  \n",
      "  *   \n",
      " *    \n",
      "******\n"
     ]
    }
   ],
   "source": [
    "i = 1\n",
    "j = 4\n",
    "for row in range(0,6):\n",
    "    for col in range(0,6):\n",
    "        if row == 0 or row == 5:\n",
    "            print(\"*\",end=\"\")\n",
    "        elif row == i and col == j:\n",
    "            print(\"*\",end=\"\")\n",
    "            i = i+1\n",
    "            j = j-1\n",
    "        else:\n",
    "            print(end=\" \")\n",
    "    print()"
   ]
  },
  {
   "cell_type": "markdown",
   "metadata": {},
   "source": [
    "## 148. Write a program to show the use of if elif and else statement."
   ]
  },
  {
   "cell_type": "code",
   "execution_count": 12,
   "metadata": {},
   "outputs": [
    {
     "name": "stdout",
     "output_type": "stream",
     "text": [
      "Enter the first number: 23\n",
      "Enter the second number: 34\n",
      "Enter the third number: 44\n",
      "The third number is greater.\n"
     ]
    }
   ],
   "source": [
    "x1 = int(input(\"Enter the first number: \"))\n",
    "x2 = int(input(\"Enter the second number: \"))\n",
    "x3 = int(input(\"Enter the third number: \"))\n",
    "\n",
    "if (x1 > x2 and x1 >x3):\n",
    "    print(\"The first number is greater.\")\n",
    "elif (x2 > x3 and x2 > x1):\n",
    "    print(\"The second number is greater.\")\n",
    "else:\n",
    "    print(\"The third number is greater.\")"
   ]
  },
  {
   "cell_type": "markdown",
   "metadata": {},
   "source": [
    "## 149. Write a program to show the use of if else statement."
   ]
  },
  {
   "cell_type": "code",
   "execution_count": 13,
   "metadata": {},
   "outputs": [
    {
     "name": "stdout",
     "output_type": "stream",
     "text": [
      "Enter the first number: 21\n",
      "Enter the second number: 22\n",
      "The second number is greater.\n"
     ]
    }
   ],
   "source": [
    "x1 = int(input(\"Enter the first number: \"))\n",
    "x2 = int(input(\"Enter the second number: \"))\n",
    "\n",
    "if (x1>x2):\n",
    "    print(\"The first number is greater.\")\n",
    "else:\n",
    "    print(\"The second number is greater.\")"
   ]
  },
  {
   "cell_type": "markdown",
   "metadata": {},
   "source": [
    "## 150. Write a program to show the use of if statement."
   ]
  },
  {
   "cell_type": "code",
   "execution_count": 14,
   "metadata": {},
   "outputs": [
    {
     "name": "stdout",
     "output_type": "stream",
     "text": [
      "Enter the first number: 23\n",
      "Enter the second number: 33\n",
      "The second number is greater.\n"
     ]
    }
   ],
   "source": [
    "x1 = int(input(\"Enter the first number: \"))\n",
    "x2 = int(input(\"Enter the second number: \"))\n",
    "\n",
    "if (x1>x2):\n",
    "    print(\"The first number is greater.\")\n",
    "\n",
    "print(\"The second number is greater.\")"
   ]
  },
  {
   "cell_type": "markdown",
   "metadata": {},
   "source": [
    "## 151. Write a program to evaluate the equation s=sqrt(a()+b()) using functions(Where a() and b() are function which perform some task )."
   ]
  },
  {
   "cell_type": "code",
   "execution_count": null,
   "metadata": {},
   "outputs": [],
   "source": []
  },
  {
   "cell_type": "markdown",
   "metadata": {},
   "source": [
    "## 152. Write a program to show use of functions with and without arguments."
   ]
  },
  {
   "cell_type": "code",
   "execution_count": null,
   "metadata": {},
   "outputs": [],
   "source": []
  },
  {
   "cell_type": "markdown",
   "metadata": {},
   "source": [
    "## 153. Write a program to take a sentence from the user and then find count of elements in the sentence. (hint: that is calculate how many alphabets how many whitespaces etc.are present)."
   ]
  },
  {
   "cell_type": "code",
   "execution_count": 2,
   "metadata": {},
   "outputs": [
    {
     "name": "stdout",
     "output_type": "stream",
     "text": [
      "Enter any sentence according to yourself: My name is Sandipta Subir Khare\n",
      "The original string is : My name is Sandipta Subir Khare\n",
      "The number of words in string are : 6\n"
     ]
    }
   ],
   "source": [
    "str1 = input(\"Enter any sentence according to yourself: \")\n",
    "print (\"The original string is : \" +  str1) \n",
    "  \n",
    "# using split() \n",
    "# to count words in string \n",
    "res = len(str1.split()) \n",
    "  \n",
    "# printing result \n",
    "print (\"The number of words in string are : \" +  str(res)) "
   ]
  },
  {
   "cell_type": "markdown",
   "metadata": {},
   "source": [
    "## 154. Write a program to take 5 names in the list and sort that list in ascending and descending orders and store the output in two different list."
   ]
  },
  {
   "cell_type": "code",
   "execution_count": null,
   "metadata": {},
   "outputs": [],
   "source": [
    "lst = []\n",
    "str1 = input(\"Enter the values: \")\n"
   ]
  },
  {
   "cell_type": "markdown",
   "metadata": {},
   "source": [
    "## 155. Write a program to illustrate various inbuilt functions in Dictionaries."
   ]
  },
  {
   "cell_type": "code",
   "execution_count": null,
   "metadata": {},
   "outputs": [],
   "source": []
  },
  {
   "cell_type": "markdown",
   "metadata": {},
   "source": [
    "## 156. Write a program to illustrate various inbuilt functions in Sets."
   ]
  },
  {
   "cell_type": "code",
   "execution_count": null,
   "metadata": {},
   "outputs": [],
   "source": []
  },
  {
   "cell_type": "markdown",
   "metadata": {},
   "source": [
    "## 157. Write a program to illustrate various inbuilt functions in Strings."
   ]
  },
  {
   "cell_type": "code",
   "execution_count": null,
   "metadata": {},
   "outputs": [],
   "source": []
  },
  {
   "cell_type": "markdown",
   "metadata": {},
   "source": [
    "## 158. Write a program to illustrate various inbuilt functions in Tuples."
   ]
  },
  {
   "cell_type": "code",
   "execution_count": null,
   "metadata": {},
   "outputs": [],
   "source": []
  },
  {
   "cell_type": "markdown",
   "metadata": {},
   "source": [
    "## 159. Write a program to illustrate various inbuilt functions in Lists."
   ]
  },
  {
   "cell_type": "code",
   "execution_count": null,
   "metadata": {},
   "outputs": [],
   "source": []
  },
  {
   "cell_type": "markdown",
   "metadata": {},
   "source": [
    "## 160. Write a program to copy one string into another and count the number of characters copied."
   ]
  },
  {
   "cell_type": "code",
   "execution_count": null,
   "metadata": {},
   "outputs": [],
   "source": []
  },
  {
   "cell_type": "markdown",
   "metadata": {},
   "source": [
    "## 161. Write a program to identify the profit and loss in an organization assume your own suitable data."
   ]
  },
  {
   "cell_type": "code",
   "execution_count": null,
   "metadata": {},
   "outputs": [],
   "source": []
  },
  {
   "cell_type": "markdown",
   "metadata": {},
   "source": [
    "## 162. Write a program which take a string from the user and decrypt it using shift by 3 method (hint: if user enters the value C it should be encrypted as A and so on.)"
   ]
  },
  {
   "cell_type": "code",
   "execution_count": 15,
   "metadata": {},
   "outputs": [
    {
     "name": "stdout",
     "output_type": "stream",
     "text": [
      "Enter the character: ABCD\n",
      "DEFG\n",
      "ABCD\n"
     ]
    }
   ],
   "source": [
    "n = str(input(\"Enter the character: \"))\n",
    "z = []\n",
    "s = ''\n",
    "q = ''\n",
    "t = []\n",
    "for i in range(len(n)):\n",
    "    z.append(chr(ord(n[i])+3))\n",
    "    s+=str(z[i])\n",
    "print(s)\n",
    "\n",
    "for i in range(len(s)):\n",
    "    t.append(chr(ord(s[i])-3))\n",
    "    q+=str(t[i])\n",
    "print(q)"
   ]
  },
  {
   "cell_type": "code",
   "execution_count": 21,
   "metadata": {},
   "outputs": [
    {
     "name": "stdout",
     "output_type": "stream",
     "text": [
      "Enter the order: 6\n",
      "            A \n",
      "          C B \n",
      "        F E D \n",
      "      J I H G \n",
      "    O N M L K \n",
      "  U T S R Q P \n"
     ]
    }
   ],
   "source": [
    "order  = int(input(\"Enter the order: \"))\n",
    "c = ord(\"A\")\n",
    "d = 1\n",
    "for i in range(order,0,-1):\n",
    "    for j in range(i):\n",
    "        print(\" \",end=\" \")\n",
    "    for k in range(0,d):\n",
    "        print(chr(c-k),end=\" \")\n",
    "    d = d+1\n",
    "    c = c+d\n",
    "    print()"
   ]
  },
  {
   "cell_type": "markdown",
   "metadata": {},
   "source": [
    "## 163. Write a program for above pattern."
   ]
  },
  {
   "cell_type": "code",
   "execution_count": 26,
   "metadata": {},
   "outputs": [
    {
     "name": "stdout",
     "output_type": "stream",
     "text": [
      "5\n",
      "        1 \n",
      "      2 3 2 \n",
      "    3 4 5 4 3 \n",
      "  4 5 6 7 6 5 4 \n",
      "5 6 7 8 9 8 7 6 5 \n"
     ]
    }
   ],
   "source": [
    "n = int(input())\n",
    "count = count1 = k = 0\n",
    "for i in range(1,n+1):\n",
    "    for j in range(1,n-i+1):\n",
    "        print(\" \",end=\" \")\n",
    "        count = count + 1\n",
    "    while(k != 2*i-1):\n",
    "        if (count <= n-1):\n",
    "            print(i+k, end= \" \")\n",
    "            count = count+1\n",
    "        else:\n",
    "            count1 = count1+1\n",
    "            print((i+k-2*count1),end = \" \")\n",
    "        k = k + 1\n",
    "    count1 = count = k = 0\n",
    "\n",
    "    print()"
   ]
  },
  {
   "cell_type": "markdown",
   "metadata": {},
   "source": [
    "## 164. Write a program for above pattern."
   ]
  },
  {
   "cell_type": "code",
   "execution_count": 27,
   "metadata": {},
   "outputs": [
    {
     "name": "stdout",
     "output_type": "stream",
     "text": [
      "Enter the number of rows: 5\n",
      "A \n",
      "B C D \n",
      "E F G H I \n",
      "J K L M N O P \n",
      "Q R S T U V W X Y \n"
     ]
    }
   ],
   "source": [
    "n = int(input(\"Enter the number of rows: \"))\n",
    "incr = 1\n",
    "val = 65\n",
    "for i in range(0, n):\n",
    "    for j in range(0, incr):\n",
    "        ch = chr(val)\n",
    "        print(ch, end=\" \")\n",
    "        val = val + 1\n",
    "    incr = incr + 2\n",
    "    print()"
   ]
  },
  {
   "cell_type": "markdown",
   "metadata": {},
   "source": [
    "## 165. Write a program for above pattern."
   ]
  },
  {
   "cell_type": "code",
   "execution_count": 28,
   "metadata": {},
   "outputs": [
    {
     "name": "stdout",
     "output_type": "stream",
     "text": [
      "Enter the number of rows: 5\n",
      "        \n",
      "      1 \n",
      "    3 2 \n",
      "  6 5 4 \n",
      "10 9 8 7 \n"
     ]
    }
   ],
   "source": [
    "n = int(input(\"Enter the number of rows: \"))\n",
    "num = 1\n",
    "count = 0\n",
    "decr = 8\n",
    "for i in range(0, n):\n",
    "    for k in range(0, decr):\n",
    "        print(end=\" \")\n",
    "    for j in range(0, i):\n",
    "        count = count + 1\n",
    "    num = count\n",
    "    temp = num\n",
    "    for j in range(0, i):\n",
    "        print(num, end=\" \")\n",
    "        num = num - 1\n",
    "    print()\n",
    "    num = temp\n",
    "    decr = decr - 2"
   ]
  },
  {
   "cell_type": "markdown",
   "metadata": {},
   "source": [
    "## 166. Write a program for above pattern."
   ]
  },
  {
   "cell_type": "code",
   "execution_count": 32,
   "metadata": {},
   "outputs": [
    {
     "name": "stdout",
     "output_type": "stream",
     "text": [
      "Enter the number of rows: 5\n",
      "1 \n",
      "2 3 \n",
      "4 5 6 \n",
      "7 8 9 10 \n",
      "11 12 13 14 15 \n"
     ]
    }
   ],
   "source": [
    "num = 1\n",
    "incr = 1\n",
    "n = int(input(\"Enter the number of rows: \"))\n",
    "for i in range(0, n):\n",
    "    for j in range(0, incr):\n",
    "        print(num, end=\" \")\n",
    "        num = num + 1\n",
    "    print()\n",
    "    incr = incr + 1"
   ]
  },
  {
   "cell_type": "markdown",
   "metadata": {},
   "source": [
    "## 167. Write a program for above pattern."
   ]
  },
  {
   "cell_type": "code",
   "execution_count": 33,
   "metadata": {},
   "outputs": [
    {
     "name": "stdout",
     "output_type": "stream",
     "text": [
      "Enter the number of rows: 6\n",
      "1 2 3 4 5 6 \n",
      "1 2 3 4 5 \n",
      "1 2 3 4 \n",
      "1 2 3 \n",
      "1 2 \n",
      "1 \n"
     ]
    }
   ],
   "source": [
    "n = int(input(\"Enter the number of rows: \"))\n",
    "num = 1\n",
    "for i in range(0, n):\n",
    "    for j in range(n, i, -1):\n",
    "        print(num, end=\" \")\n",
    "        num = num + 1\n",
    "    print()\n",
    "    num = 1"
   ]
  },
  {
   "cell_type": "markdown",
   "metadata": {},
   "source": [
    "## 168. Write a program for above pattern."
   ]
  },
  {
   "cell_type": "code",
   "execution_count": 34,
   "metadata": {},
   "outputs": [
    {
     "name": "stdout",
     "output_type": "stream",
     "text": [
      "Enter the number of rows: 5\n",
      "* * * * * \n",
      "\n",
      "* * * * \n",
      "\n",
      "* * * \n",
      "\n",
      "* * \n",
      "\n",
      "* \n",
      "\n"
     ]
    }
   ],
   "source": [
    "n = int(input(\"Enter the number of rows: \"))\n",
    "\n",
    "for i in range(0,n):\n",
    "    for j in range(0,n-i):\n",
    "        print(\"*\", end=\" \")\n",
    "    print(\"\\n\")"
   ]
  },
  {
   "cell_type": "markdown",
   "metadata": {},
   "source": [
    "## 169. Write a program for above pattern."
   ]
  },
  {
   "cell_type": "code",
   "execution_count": 35,
   "metadata": {},
   "outputs": [
    {
     "name": "stdout",
     "output_type": "stream",
     "text": [
      "Enter the number of rows: 7\n",
      "A \n",
      "B B \n",
      "C C C \n",
      "D D D D \n",
      "E E E E E \n",
      "F F F F F F \n",
      "G G G G G G G \n"
     ]
    }
   ],
   "source": [
    "val = 65\n",
    "n = int(input(\"Enter the number of rows: \"))\n",
    "for i in range(0, n):\n",
    "    for j in range(0, i+1):\n",
    "        ch = chr(val)\n",
    "        print(ch, end=\" \")\n",
    "    val = val + 1\n",
    "    print()"
   ]
  },
  {
   "cell_type": "markdown",
   "metadata": {},
   "source": [
    "## 170. Write a program for above pattern."
   ]
  },
  {
   "cell_type": "code",
   "execution_count": 36,
   "metadata": {},
   "outputs": [
    {
     "name": "stdout",
     "output_type": "stream",
     "text": [
      "Enter the number of rows: 6\n",
      "A \n",
      "B C \n",
      "D E F \n",
      "G H I J \n",
      "K L M N O \n",
      "P Q R S T U \n"
     ]
    }
   ],
   "source": [
    "val = 65\n",
    "n = int(input(\"Enter the number of rows: \"))\n",
    "for i in range(0, n):\n",
    "    for j in range(0, i+1):\n",
    "        ch = chr(val)\n",
    "        print(ch, end=\" \")\n",
    "        val = val + 1\n",
    "    print()"
   ]
  },
  {
   "cell_type": "markdown",
   "metadata": {},
   "source": [
    "## 171. Write a program for above pattern."
   ]
  },
  {
   "cell_type": "code",
   "execution_count": 37,
   "metadata": {},
   "outputs": [
    {
     "name": "stdout",
     "output_type": "stream",
     "text": [
      "Enter the number of rows: 6\n",
      "1 \n",
      "2 3 \n",
      "4 5 6 \n",
      "7 8 9 10 \n",
      "11 12 13 14 15 \n",
      "16 17 18 19 20 21 \n"
     ]
    }
   ],
   "source": [
    "num = 1\n",
    "incr = 1\n",
    "n = int(input(\"Enter the number of rows: \"))\n",
    "for i in range(0, n):\n",
    "    for j in range(0, incr):\n",
    "        print(num, end=\" \")\n",
    "        num = num + 1\n",
    "    print()\n",
    "    incr = incr + 1"
   ]
  },
  {
   "cell_type": "markdown",
   "metadata": {},
   "source": [
    "## 172. Write a program for above pattern."
   ]
  },
  {
   "cell_type": "code",
   "execution_count": 41,
   "metadata": {},
   "outputs": [
    {
     "name": "stdout",
     "output_type": "stream",
     "text": [
      "Enter the number of rows: 5\n",
      "                * \n",
      "            * * * \n",
      "        * * * * * \n",
      "    * * * * * * * \n",
      "* * * * * * * * * \n"
     ]
    }
   ],
   "source": [
    "n = int(input(\"Enter the number of rows: \"))\n",
    "k = 16\n",
    "tim = 1\n",
    "for i in range(0, n):\n",
    "    for j in range(0, k):\n",
    "        print(end=\" \")\n",
    "    k = k - 4\n",
    "    for j in range(0, tim):\n",
    "        print(\"* \", end=\"\")\n",
    "    tim = tim + 2\n",
    "    print()"
   ]
  },
  {
   "cell_type": "markdown",
   "metadata": {},
   "source": [
    "## 173. Write a program for above pattern."
   ]
  },
  {
   "cell_type": "code",
   "execution_count": 42,
   "metadata": {},
   "outputs": [
    {
     "name": "stdout",
     "output_type": "stream",
     "text": [
      "Enter number of rows: 5\n",
      "    *\n",
      "   **\n",
      "  ***\n",
      " ****\n",
      "*****\n"
     ]
    }
   ],
   "source": [
    "num=int(input(\"Enter number of rows: \"))\n",
    "for i in range(1,num+1):\n",
    "    print(\" \"*(num-i)+\"*\"*i)"
   ]
  },
  {
   "cell_type": "markdown",
   "metadata": {},
   "source": [
    "## 174. Write a program for above pattern."
   ]
  },
  {
   "cell_type": "code",
   "execution_count": 2,
   "metadata": {},
   "outputs": [
    {
     "name": "stdout",
     "output_type": "stream",
     "text": [
      "Enter the number of rows: 6\n",
      "1 2 3 4 5 6 \n",
      "1 2 3 4 5 \n",
      "1 2 3 4 \n",
      "1 2 3 \n",
      "1 2 \n",
      "1 \n",
      "\n",
      "1 \n",
      "1 2 \n",
      "1 2 3 \n",
      "1 2 3 4 \n",
      "1 2 3 4 5 \n",
      "1 2 3 4 5 6 \n"
     ]
    }
   ],
   "source": [
    "n=int(input(\"Enter the number of rows: \"))\n",
    "for i in range(n,-1,-1):\n",
    "    for j in range(1,i+1):\n",
    "        print(j,end=\" \")\n",
    "    print()\n",
    "for i in range(1,n+1):\n",
    "    for j in range(1,i+1):\n",
    "        print(j,end=\" \")\n",
    "    print() "
   ]
  },
  {
   "cell_type": "markdown",
   "metadata": {},
   "source": [
    "## 175. Write a program for above pattern"
   ]
  },
  {
   "cell_type": "code",
   "execution_count": 5,
   "metadata": {},
   "outputs": [
    {
     "name": "stdout",
     "output_type": "stream",
     "text": [
      "Enter the number of character: 6\n",
      "    *    \n",
      "   * *   \n",
      "  *   *  \n",
      " *     * \n",
      "*********\n",
      "         \n",
      "\n"
     ]
    }
   ],
   "source": [
    "n = int(input(\"Enter the number of character: \"))\n",
    "a=\"\"\n",
    "for row in range(0,n):\n",
    "    for col in range(0,9):\n",
    "        if row==4 or row+col==4 or col-row==4:\n",
    "            a+=\"*\"\n",
    "        else:\n",
    "            a+=\" \"\n",
    "    a+=\"\\n\"\n",
    "print(a)       "
   ]
  },
  {
   "cell_type": "markdown",
   "metadata": {},
   "source": [
    "## 176. Write a program for above pattern."
   ]
  },
  {
   "cell_type": "code",
   "execution_count": null,
   "metadata": {},
   "outputs": [],
   "source": []
  },
  {
   "cell_type": "markdown",
   "metadata": {},
   "source": [
    "## 177."
   ]
  },
  {
   "cell_type": "code",
   "execution_count": 42,
   "metadata": {},
   "outputs": [
    {
     "name": "stdout",
     "output_type": "stream",
     "text": [
      "Enter the number of row: 10\n",
      "                    \n",
      "1                  1\n",
      "12                21\n",
      "123              321\n",
      "1234            4321\n",
      "12345          54321\n",
      "123456        654321\n",
      "1234567      7654321\n",
      "12345678    87654321\n",
      "123456789  987654321\n",
      "1234567891010987654321\n"
     ]
    }
   ],
   "source": [
    "inp = int(input(\"Enter the number of row: \"))\n",
    "for i in range(inp+1):\n",
    "    for j in range(i):\n",
    "        print(j+1,end=\"\")\n",
    "    for j in range(inp,i,-1):\n",
    "        print(\"  \",end=\"\")\n",
    "    for j in range(i,0,-1):\n",
    "        print(j,end=\"\")\n",
    "    print()"
   ]
  },
  {
   "cell_type": "markdown",
   "metadata": {},
   "source": [
    "## 178."
   ]
  },
  {
   "cell_type": "code",
   "execution_count": null,
   "metadata": {},
   "outputs": [],
   "source": []
  },
  {
   "cell_type": "markdown",
   "metadata": {},
   "source": [
    "## 179."
   ]
  },
  {
   "cell_type": "code",
   "execution_count": null,
   "metadata": {},
   "outputs": [],
   "source": []
  },
  {
   "cell_type": "markdown",
   "metadata": {},
   "source": [
    "## 180."
   ]
  },
  {
   "cell_type": "code",
   "execution_count": null,
   "metadata": {},
   "outputs": [],
   "source": []
  },
  {
   "cell_type": "markdown",
   "metadata": {},
   "source": [
    "## 181."
   ]
  },
  {
   "cell_type": "code",
   "execution_count": null,
   "metadata": {},
   "outputs": [],
   "source": []
  },
  {
   "cell_type": "markdown",
   "metadata": {},
   "source": [
    "## 182."
   ]
  },
  {
   "cell_type": "code",
   "execution_count": null,
   "metadata": {},
   "outputs": [],
   "source": []
  },
  {
   "cell_type": "markdown",
   "metadata": {},
   "source": [
    "## 183."
   ]
  },
  {
   "cell_type": "code",
   "execution_count": null,
   "metadata": {},
   "outputs": [],
   "source": []
  },
  {
   "cell_type": "markdown",
   "metadata": {},
   "source": [
    "## 184."
   ]
  },
  {
   "cell_type": "code",
   "execution_count": null,
   "metadata": {},
   "outputs": [],
   "source": []
  },
  {
   "cell_type": "markdown",
   "metadata": {},
   "source": [
    "## 185."
   ]
  },
  {
   "cell_type": "code",
   "execution_count": null,
   "metadata": {},
   "outputs": [],
   "source": []
  },
  {
   "cell_type": "markdown",
   "metadata": {},
   "source": [
    "## 186."
   ]
  },
  {
   "cell_type": "markdown",
   "metadata": {},
   "source": [
    "## 187."
   ]
  },
  {
   "cell_type": "code",
   "execution_count": null,
   "metadata": {},
   "outputs": [],
   "source": []
  },
  {
   "cell_type": "markdown",
   "metadata": {},
   "source": [
    "## 188."
   ]
  },
  {
   "cell_type": "code",
   "execution_count": null,
   "metadata": {},
   "outputs": [],
   "source": []
  },
  {
   "cell_type": "markdown",
   "metadata": {},
   "source": [
    "## 189."
   ]
  },
  {
   "cell_type": "code",
   "execution_count": null,
   "metadata": {},
   "outputs": [],
   "source": []
  },
  {
   "cell_type": "markdown",
   "metadata": {},
   "source": [
    "## 190."
   ]
  },
  {
   "cell_type": "code",
   "execution_count": null,
   "metadata": {},
   "outputs": [],
   "source": []
  },
  {
   "cell_type": "markdown",
   "metadata": {},
   "source": [
    "## 191."
   ]
  },
  {
   "cell_type": "code",
   "execution_count": null,
   "metadata": {},
   "outputs": [],
   "source": []
  },
  {
   "cell_type": "markdown",
   "metadata": {},
   "source": [
    "## 192."
   ]
  },
  {
   "cell_type": "code",
   "execution_count": null,
   "metadata": {},
   "outputs": [],
   "source": []
  },
  {
   "cell_type": "markdown",
   "metadata": {},
   "source": [
    "## 193."
   ]
  },
  {
   "cell_type": "code",
   "execution_count": null,
   "metadata": {},
   "outputs": [],
   "source": []
  },
  {
   "cell_type": "markdown",
   "metadata": {},
   "source": [
    "## 194."
   ]
  },
  {
   "cell_type": "code",
   "execution_count": null,
   "metadata": {},
   "outputs": [],
   "source": []
  },
  {
   "cell_type": "markdown",
   "metadata": {},
   "source": [
    "## 195."
   ]
  },
  {
   "cell_type": "code",
   "execution_count": null,
   "metadata": {},
   "outputs": [],
   "source": []
  },
  {
   "cell_type": "markdown",
   "metadata": {},
   "source": [
    "## 196."
   ]
  },
  {
   "cell_type": "code",
   "execution_count": null,
   "metadata": {},
   "outputs": [],
   "source": []
  },
  {
   "cell_type": "markdown",
   "metadata": {},
   "source": [
    "## 197."
   ]
  },
  {
   "cell_type": "code",
   "execution_count": null,
   "metadata": {},
   "outputs": [],
   "source": []
  },
  {
   "cell_type": "markdown",
   "metadata": {},
   "source": [
    "## 198."
   ]
  },
  {
   "cell_type": "code",
   "execution_count": null,
   "metadata": {},
   "outputs": [],
   "source": []
  },
  {
   "cell_type": "markdown",
   "metadata": {},
   "source": [
    "## 199."
   ]
  },
  {
   "cell_type": "code",
   "execution_count": null,
   "metadata": {},
   "outputs": [],
   "source": []
  },
  {
   "cell_type": "markdown",
   "metadata": {},
   "source": [
    "## 200."
   ]
  }
 ],
 "metadata": {
  "kernelspec": {
   "display_name": "Python 3",
   "language": "python",
   "name": "python3"
  },
  "language_info": {
   "codemirror_mode": {
    "name": "ipython",
    "version": 3
   },
   "file_extension": ".py",
   "mimetype": "text/x-python",
   "name": "python",
   "nbconvert_exporter": "python",
   "pygments_lexer": "ipython3",
   "version": "3.7.4"
  }
 },
 "nbformat": 4,
 "nbformat_minor": 2
}
