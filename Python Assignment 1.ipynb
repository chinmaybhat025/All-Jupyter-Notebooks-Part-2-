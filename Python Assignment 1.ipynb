{
 "cells": [
  {
   "cell_type": "markdown",
   "metadata": {},
   "source": [
    "## Q.1)Write  a function  that  takes  as  input  a  sentence  and  a  word,  from  the  user  and  countsthe occurrences  of  the  word  in  the  sentence.  For  example:“I felt happy because I saw thatothers were happy and because I knew I should feel happy, but I wasn’t really happy.” and count the occurrence of the word ‘I’. Also, replace the word ‘I’ with ‘WE’and print the sentence."
   ]
  },
  {
   "cell_type": "code",
   "execution_count": 10,
   "metadata": {},
   "outputs": [
    {
     "name": "stdout",
     "output_type": "stream",
     "text": [
      "5\n",
      "WE felt happy because WE saw thatothers were happy and because WE knew WE should feel happy, but WE wasn't really happy.\n"
     ]
    }
   ],
   "source": [
    "def count(string, word): ## Function definition\n",
    "    a = string.split(\" \")## Before finding the desired character first split by space\n",
    "    cnt = 0 ## counter variable for the counting the desired character.\n",
    "    for i in range(0, len(a)): ## Actual logic of the program\n",
    "        if (word == a[i]): \n",
    "            cnt =  cnt + 1\n",
    "    return cnt ## return the count of I as desired output.\n",
    "\n",
    "# Driver code \n",
    "string =\"I felt happy because I saw thatothers were happy and because I knew I should feel happy, but I wasn't really happy.\"\n",
    "word =\"I\"\n",
    "print(count(string, word))\n",
    "print(string.replace(\"I\",\"WE\"))"
   ]
  },
  {
   "cell_type": "markdown",
   "metadata": {},
   "source": [
    "## Q.2)Write a Python program that accepts from the user a value for the number of days and subtracts it from the current date and displays the result."
   ]
  },
  {
   "cell_type": "code",
   "execution_count": 14,
   "metadata": {},
   "outputs": [
    {
     "name": "stdout",
     "output_type": "stream",
     "text": [
      "Enter the number of days:-5\n",
      "Current date: 2019-12-28\n",
      "5 days subtracted from current date gives: 2019-12-23\n"
     ]
    }
   ],
   "source": [
    "from datetime import date,timedelta## Importing library datetime,date and timedelta\n",
    "days=int(input(\"Enter the number of days:-\"))## Taking user input as number of days\n",
    "dt=date.today() - timedelta(days)## Actual logic of the program\n",
    "print(\"Current date:\",date.today())## Printing the current date\n",
    "## Printing the days after subtracting from current date.\n",
    "print(\"{} days subtracted from current date gives:\".format(days),dt)"
   ]
  },
  {
   "cell_type": "markdown",
   "metadata": {},
   "source": [
    "## Q.3)Write a Python program to find the numbers which are divisible by 7 and are multiples of 5, between 2100 and 3500 (both included)."
   ]
  },
  {
   "cell_type": "code",
   "execution_count": 22,
   "metadata": {},
   "outputs": [
    {
     "name": "stdout",
     "output_type": "stream",
     "text": [
      "Enter the lower number:-2100\n",
      "Enter the upper number:-3500\n",
      "2100\n",
      "2135\n",
      "2170\n",
      "2205\n",
      "2240\n",
      "2275\n",
      "2310\n",
      "2345\n",
      "2380\n",
      "2415\n",
      "2450\n",
      "2485\n",
      "2520\n",
      "2555\n",
      "2590\n",
      "2625\n",
      "2660\n",
      "2695\n",
      "2730\n",
      "2765\n",
      "2800\n",
      "2835\n",
      "2870\n",
      "2905\n",
      "2940\n",
      "2975\n",
      "3010\n",
      "3045\n",
      "3080\n",
      "3115\n",
      "3150\n",
      "3185\n",
      "3220\n",
      "3255\n",
      "3290\n",
      "3325\n",
      "3360\n",
      "3395\n",
      "3430\n",
      "3465\n",
      "3500\n"
     ]
    }
   ],
   "source": [
    "l=int(input(\"Enter the lower number:-\"))## Taking the user input as lower limit\n",
    "u=int(input(\"Enter the upper number:-\"))## Taking the user input as upper limit\n",
    "for i in range(l,u+1):## actual logic for the program\n",
    "    if i%7==0 and i%5==0:## condition for the desired question\n",
    "        print(i)## if loop condition met then print those numbers."
   ]
  },
  {
   "cell_type": "markdown",
   "metadata": {},
   "source": [
    "## Q.4)Write a Python function to check whether a given number is a prime number or not. Accept the number from the user."
   ]
  },
  {
   "cell_type": "code",
   "execution_count": 8,
   "metadata": {},
   "outputs": [
    {
     "name": "stdout",
     "output_type": "stream",
     "text": [
      "Enter the number to whether the number is prime or not:-3\n",
      "it is a prime number.\n"
     ]
    }
   ],
   "source": [
    "## Take the user input as number\n",
    "num=int(input(\"Enter the number to whether the number is prime or not:-\"))\n",
    "if num > 1:## actual logic of the program starts from here\n",
    "    for i in range(2,num):\n",
    "        if num % i==0:\n",
    "            print(\"It is not a prime number.\")\n",
    "            break\n",
    "    else:\n",
    "        print(\"it is a prime number.\")## print the desired message\n",
    "else:\n",
    "    print(\"Kindly enter correct number\")"
   ]
  },
  {
   "cell_type": "markdown",
   "metadata": {},
   "source": [
    "## Q.5)Write a Python program to construct the following pattern. Accept the number of lines of the pattern to be printed from the user. For example, the pattern with 6 lines is as follows: "
   ]
  },
  {
   "cell_type": "code",
   "execution_count": 25,
   "metadata": {},
   "outputs": [
    {
     "name": "stdout",
     "output_type": "stream",
     "text": [
      "Enter the number of lines:-6\n",
      "     *\n",
      "    ***\n",
      "   *****\n",
      "  *******\n",
      " *********\n",
      "***********\n"
     ]
    }
   ],
   "source": [
    "num=int(input(\"Enter the number of lines:-\"))## Taking the user input as how many lines to be printed.\n",
    "k=1## counter variable to print the desired number of characters to be printed in each line.\n",
    "for i in range(num):## printing the number of rows\n",
    "    for j in range(num-i-1):## Actual logic of the program\n",
    "        print(end=\" \")## Printing the desired spaces on each line.\n",
    "    for j in range(0,k):## logic to print the pattern.\n",
    "        print(\"*\",end=\"\")## print statement to print the '*'(Astericks)\n",
    "    k=k+2 ## counter incrementer to print the pattern on to the next line.\n",
    "    print()## to take the cursor to the next line."
   ]
  },
  {
   "cell_type": "markdown",
   "metadata": {},
   "source": [
    "## Q.6)You are given the following list:\n",
    "## names = [‘Vipin’, 'Sanath', 'Priya', 'Sudhish', 'Akshay', 'Suraj']\n",
    "## Using a lambda function, filter those names that start with ‘S’."
   ]
  },
  {
   "cell_type": "code",
   "execution_count": 32,
   "metadata": {},
   "outputs": [
    {
     "name": "stdout",
     "output_type": "stream",
     "text": [
      "The original list is : ['Vipin', 'Sanath', 'Priya', 'Sudhish', 'Akshay', 'Suraj']\n",
      "All strings with given substring are : ['Sanath', 'Sudhish', 'Suraj']\n"
     ]
    }
   ],
   "source": [
    "names = ['Vipin','Sanath','Priya','Sudhish','Akshay','Suraj'] ## Given list\n",
    "print (\"The original list is : \" + str(names)) ## Printing the original list\n",
    "subs = 'S' ## Assigning the substring\n",
    "## Lambda function an Anonymous function/nameless function/temporary function.\n",
    "new_list = list(filter(lambda x: subs in x, names)) \n",
    "# printing desired result  \n",
    "print (\"All strings with given substring are : \" + str(new_list)) "
   ]
  },
  {
   "cell_type": "markdown",
   "metadata": {},
   "source": [
    "## Q.7)Write a function that accepts a positive single digit integer (n) from the user and computes the value of n+nn+nnn. For example: if n=5, 5+55+555 = 615 should be displayed."
   ]
  },
  {
   "cell_type": "code",
   "execution_count": 1,
   "metadata": {},
   "outputs": [
    {
     "name": "stdout",
     "output_type": "stream",
     "text": [
      "Enter an integer : 5\n",
      "The value of 5+55+555: 615\n"
     ]
    }
   ],
   "source": [
    "num = int(input(\"Enter an integer : \"))## Taking the user input \n",
    "num1 = int( \"%s\" % num )## Actual logic of the program\n",
    "num2 = int( \"%s%s\" % (num,num) )\n",
    "num3 = int( \"%s%s%s\" % (num,num,num) )\n",
    "## Print the addition result\n",
    "print (\"The value of {one}+{two}+{three}:\".format(one=num1,two=num2,three=num3),num1+num2+num3)"
   ]
  },
  {
   "cell_type": "markdown",
   "metadata": {},
   "source": [
    "## Q.8)Write a Python function that takes as input an email address from the user and returns the domain as result."
   ]
  },
  {
   "cell_type": "code",
   "execution_count": 12,
   "metadata": {},
   "outputs": [
    {
     "name": "stdout",
     "output_type": "stream",
     "text": [
      "gmail.com\n"
     ]
    }
   ],
   "source": [
    "def domain_name(string):\n",
    "    return string.split(\"@\")[1]\n",
    "##string='cbhat5407@gmail.com' ## Taking user input as email address.\n",
    "print(domain_name('bagul.sarang.j@gmail.com'))## Extract the domain name of the string."
   ]
  },
  {
   "cell_type": "markdown",
   "metadata": {},
   "source": [
    "## Q.9)Write a Python program to get a string made of the first two and the last two characters from a given string. Other conditions as per the sample:\n",
    "## Sample String: 'w3resource’ Expected Result: 'w3ce’ Sample String: 'w3’ Expected Result: 'w3w3’ Sample String: 'w’ Expected Result: Empty String."
   ]
  },
  {
   "cell_type": "code",
   "execution_count": 20,
   "metadata": {},
   "outputs": [
    {
     "name": "stdout",
     "output_type": "stream",
     "text": [
      "Enter the String which you want to enter:-w\n",
      " \n"
     ]
    }
   ],
   "source": [
    "string=input(\"Enter the String which you want to enter:-\")## Taking the user input\n",
    "## Actual logic of the program\n",
    "if string=='w3resource' or string=='w3':\n",
    "    str1=string[0:2]+string[-2:]\n",
    "    print(str1)\n",
    "else:\n",
    "    print(\" \")"
   ]
  },
  {
   "cell_type": "markdown",
   "metadata": {},
   "source": [
    "## Q.10)Write a Python program to add 'ing' at the end of a given string (length of input string should be at least 3). If the given string already ends with 'ing' then add 'ly' instead. If the string length of the given string is less than 3, leave it unchanged:\n",
    "## Sample String: 'abc'\n",
    "## Expected Result: 'abcing'\n",
    "## Sample String: 'string'\n",
    "## Expected Result: 'stringly'."
   ]
  },
  {
   "cell_type": "code",
   "execution_count": 39,
   "metadata": {},
   "outputs": [
    {
     "name": "stdout",
     "output_type": "stream",
     "text": [
      "stringly\n"
     ]
    }
   ],
   "source": [
    "def add_string(string1):## Function definition\n",
    "    l=len(string1)## calculating the length\n",
    "    if l>=3:## Actual logic of the program\n",
    "        if string1[-3:]=='ing':\n",
    "            string1=string1+'ly'\n",
    "        else:\n",
    "            string1=string1+'ing'\n",
    "    return string1\n",
    "print(add_string('string'))## function call."
   ]
  },
  {
   "cell_type": "code",
   "execution_count": null,
   "metadata": {},
   "outputs": [],
   "source": []
  }
 ],
 "metadata": {
  "kernelspec": {
   "display_name": "Python 3",
   "language": "python",
   "name": "python3"
  },
  "language_info": {
   "codemirror_mode": {
    "name": "ipython",
    "version": 3
   },
   "file_extension": ".py",
   "mimetype": "text/x-python",
   "name": "python",
   "nbconvert_exporter": "python",
   "pygments_lexer": "ipython3",
   "version": "3.7.3"
  }
 },
 "nbformat": 4,
 "nbformat_minor": 2
}
